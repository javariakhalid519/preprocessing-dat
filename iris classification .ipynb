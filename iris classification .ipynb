 {
   "cell_type": "markdown",
   "id": "58d8aa31",
   "metadata": {},
   "source": [
    "# Loading Libraries"
   ]
  },
  {
   "cell_type": "code",
   "execution_count": 1,
   "id": "ece86594",
   "metadata": {},
   "outputs": [],
   "source": [
    "import pandas as pd\n",
    "import numpy as np\n",
    "import seaborn as sns\n",
    "import matplotlib.pyplot as plt\n",
    "from sklearn.model_selection import train_test_split\n",
    "from sklearn.preprocessing import LabelEncoder, StandardScaler\n",
    "from sklearn.metrics import classification_report, accuracy_score, confusion_matrix\n",
    "from sklearn.linear_model import LogisticRegression\n",
    "from sklearn.ensemble import RandomForestClassifier\n",
    "from sklearn.svm import SVC\n",
    "from tensorflow.keras.models import Sequential\n",
    "from tensorflow.keras.layers import Dense"
   ]
  },
  {
   "cell_type": "markdown",
   "id": "aaff2b0e",
   "metadata": {},
   "source": [
    "# Reading Data"
   ]
  },
  {
   "cell_type": "code",
   "execution_count": 2,
   "id": "0b8de2a7",
   "metadata": {},
   "outputs": [],
   "source": [
    "import pandas as pd \n",
    "import numpy as np \n",
    "import os \n",
    "data = pd.read_csv(\"C:/Users/MSI/Downloads/Iris/Iris.csv\")"
   ]
  },
  {
   "cell_type": "code",
   "execution_count": 3,
   "id": "51f90d9d",
   "metadata": {},
   "outputs": [
    {
     "data": {
      "text/html": [
       "<div>\n",
       "<style scoped>\n",
       "    .dataframe tbody tr th:only-of-type {\n",
       "        vertical-align: middle;\n",
       "    }\n",
       "\n",
       "    .dataframe tbody tr th {\n",
       "        vertical-align: top;\n",
       "    }\n",
       "\n",
       "    .dataframe thead th {\n",
       "        text-align: right;\n",
       "    }\n",
       "</style>\n",
       "<table border=\"1\" class=\"dataframe\">\n",
       "  <thead>\n",
       "    <tr style=\"text-align: right;\">\n",
       "      <th></th>\n",
       "      <th>Id</th>\n",
       "      <th>SepalLengthCm</th>\n",
       "      <th>SepalWidthCm</th>\n",
       "      <th>PetalLengthCm</th>\n",
       "      <th>PetalWidthCm</th>\n",
       "      <th>Species</th>\n",
       "    </tr>\n",
       "  </thead>\n",
       "  <tbody>\n",
       "    <tr>\n",
       "      <th>0</th>\n",
       "      <td>1</td>\n",
       "      <td>5.1</td>\n",
       "      <td>3.5</td>\n",
       "      <td>1.4</td>\n",
       "      <td>0.2</td>\n",
       "      <td>Iris-setosa</td>\n",
       "    </tr>\n",
       "    <tr>\n",
       "      <th>1</th>\n",
       "      <td>2</td>\n",
       "      <td>4.9</td>\n",
       "      <td>3.0</td>\n",
       "      <td>1.4</td>\n",
       "      <td>0.2</td>\n",
       "      <td>Iris-setosa</td>\n",
       "    </tr>\n",
       "    <tr>\n",
       "      <th>2</th>\n",
       "      <td>3</td>\n",
       "      <td>4.7</td>\n",
       "      <td>3.2</td>\n",
       "      <td>1.3</td>\n",
       "      <td>0.2</td>\n",
       "      <td>Iris-setosa</td>\n",
       "    </tr>\n",
       "    <tr>\n",
       "      <th>3</th>\n",
       "      <td>4</td>\n",
       "      <td>4.6</td>\n",
       "      <td>3.1</td>\n",
       "      <td>1.5</td>\n",
       "      <td>0.2</td>\n",
       "      <td>Iris-setosa</td>\n",
       "    </tr>\n",
       "    <tr>\n",
       "      <th>4</th>\n",
       "      <td>5</td>\n",
       "      <td>5.0</td>\n",
       "      <td>3.6</td>\n",
       "      <td>1.4</td>\n",
       "      <td>0.2</td>\n",
       "      <td>Iris-setosa</td>\n",
       "    </tr>\n",
       "  </tbody>\n",
       "</table>\n",
       "</div>"
      ],
      "text/plain": [
       "   Id  SepalLengthCm  SepalWidthCm  PetalLengthCm  PetalWidthCm      Species\n",
       "0   1            5.1           3.5            1.4           0.2  Iris-setosa\n",
       "1   2            4.9           3.0            1.4           0.2  Iris-setosa\n",
       "2   3            4.7           3.2            1.3           0.2  Iris-setosa\n",
       "3   4            4.6           3.1            1.5           0.2  Iris-setosa\n",
       "4   5            5.0           3.6            1.4           0.2  Iris-setosa"
      ]
     },
     "execution_count": 3,
     "metadata": {},
     "output_type": "execute_result"
    }
   ],
   "source": [
    "data.head()"
   ]
  },
  {
   "cell_type": "markdown",
   "id": "b3496422",
   "metadata": {},
   "source": [
    "# Exploring Data"
   ]
  },
  {
   "cell_type": "code",
   "execution_count": 4,
   "id": "31960e85",
   "metadata": {},
   "outputs": [
    {
     "data": {
      "text/plain": [
       "(150, 6)"
      ]
     },
     "execution_count": 4,
     "metadata": {},
     "output_type": "execute_result"
    }
   ],
   "source": [
    "data.shape"
   ]
  },
  {
   "cell_type": "code",
   "execution_count": 5,
   "id": "1efcf89b",
   "metadata": {},
   "outputs": [
    {
     "data": {
      "text/plain": [
       "2"
      ]
     },
     "execution_count": 5,
     "metadata": {},
     "output_type": "execute_result"
    }
   ],
   "source": [
    "data.ndim"
   ]
  },
  {
   "cell_type": "code",
   "execution_count": 6,
   "id": "ac935d16",
   "metadata": {},
   "outputs": [],
   "source": [
    "species_counts = data['Species'].value_counts().rename('count')\n",
    "species_percentages = data['Species'].value_counts(normalize=True).rename('%').mul(100)"
   ]
  },
  {
   "cell_type": "code",
   "execution_count": 7,
   "id": "e8468491",
   "metadata": {},
   "outputs": [
    {
     "data": {
      "text/plain": [
       "Species\n",
       "Iris-setosa        50\n",
       "Iris-versicolor    50\n",
       "Iris-virginica     50\n",
       "Name: count, dtype: int64"
      ]
     },
     "execution_count": 7,
     "metadata": {},
     "output_type": "execute_result"
    }
   ],
   "source": [
    "data[\"Species\"].value_counts()"
   ]
  },
  {
   "cell_type": "code",
   "execution_count": 8,
   "id": "808b690b",
   "metadata": {},
   "outputs": [
    {
     "data": {
      "text/plain": [
       "Text(0.5, 1.0, 'Number of Samples by Iris Species')"
      ]
     },
     "execution_count": 8,
     "metadata": {},
     "output_type": "execute_result"
    },
    {
     "data": {
      "image/png": "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",
      "text/plain": [
       "<Figure size 640x480 with 1 Axes>"
      ]
     },
     "metadata": {},
     "output_type": "display_data"
    }
   ],
   "source": [
    "sns.countplot(data=data , x='Species')\n",
    "plt.title('Number of Samples by Iris Species')"
   ]
  },
  {
   "cell_type": "code",
   "execution_count": 9,
   "id": "784c25b5",
   "metadata": {},
   "outputs": [
    {
     "name": "stdout",
     "output_type": "stream",
     "text": [
      "<class 'pandas.core.frame.DataFrame'>\n",
      "RangeIndex: 150 entries, 0 to 149\n",
      "Data columns (total 6 columns):\n",
      " #   Column         Non-Null Count  Dtype  \n",
      "---  ------         --------------  -----  \n",
      " 0   Id             150 non-null    int64  \n",
      " 1   SepalLengthCm  150 non-null    float64\n",
      " 2   SepalWidthCm   150 non-null    float64\n",
      " 3   PetalLengthCm  150 non-null    float64\n",
      " 4   PetalWidthCm   150 non-null    float64\n",
      " 5   Species        150 non-null    object \n",
      "dtypes: float64(4), int64(1), object(1)\n",
      "memory usage: 7.2+ KB\n"
     ]
    }
   ],
   "source": [
    "data.info()"
   ]
  },
  {
   "cell_type": "code",
   "execution_count": 10,
   "id": "ffa6ac4f",
   "metadata": {},
   "outputs": [
    {
     "data": {
      "text/html": [
       "<div>\n",
       "<style scoped>\n",
       "    .dataframe tbody tr th:only-of-type {\n",
       "        vertical-align: middle;\n",
       "    }\n",
       "\n",
       "    .dataframe tbody tr th {\n",
       "        vertical-align: top;\n",
       "    }\n",
       "\n",
       "    .dataframe thead th {\n",
       "        text-align: right;\n",
       "    }\n",
       "</style>\n",
       "<table border=\"1\" class=\"dataframe\">\n",
       "  <thead>\n",
       "    <tr style=\"text-align: right;\">\n",
       "      <th></th>\n",
       "      <th>Id</th>\n",
       "      <th>SepalLengthCm</th>\n",
       "      <th>SepalWidthCm</th>\n",
       "      <th>PetalLengthCm</th>\n",
       "      <th>PetalWidthCm</th>\n",
       "      <th>Species</th>\n",
       "    </tr>\n",
       "  </thead>\n",
       "  <tbody>\n",
       "    <tr>\n",
       "      <th>78</th>\n",
       "      <td>79</td>\n",
       "      <td>6.0</td>\n",
       "      <td>2.9</td>\n",
       "      <td>4.5</td>\n",
       "      <td>1.5</td>\n",
       "      <td>Iris-versicolor</td>\n",
       "    </tr>\n",
       "    <tr>\n",
       "      <th>31</th>\n",
       "      <td>32</td>\n",
       "      <td>5.4</td>\n",
       "      <td>3.4</td>\n",
       "      <td>1.5</td>\n",
       "      <td>0.4</td>\n",
       "      <td>Iris-setosa</td>\n",
       "    </tr>\n",
       "    <tr>\n",
       "      <th>91</th>\n",
       "      <td>92</td>\n",
       "      <td>6.1</td>\n",
       "      <td>3.0</td>\n",
       "      <td>4.6</td>\n",
       "      <td>1.4</td>\n",
       "      <td>Iris-versicolor</td>\n",
       "    </tr>\n",
       "    <tr>\n",
       "      <th>134</th>\n",
       "      <td>135</td>\n",
       "      <td>6.1</td>\n",
       "      <td>2.6</td>\n",
       "      <td>5.6</td>\n",
       "      <td>1.4</td>\n",
       "      <td>Iris-virginica</td>\n",
       "    </tr>\n",
       "    <tr>\n",
       "      <th>7</th>\n",
       "      <td>8</td>\n",
       "      <td>5.0</td>\n",
       "      <td>3.4</td>\n",
       "      <td>1.5</td>\n",
       "      <td>0.2</td>\n",
       "      <td>Iris-setosa</td>\n",
       "    </tr>\n",
       "    <tr>\n",
       "      <th>146</th>\n",
       "      <td>147</td>\n",
       "      <td>6.3</td>\n",
       "      <td>2.5</td>\n",
       "      <td>5.0</td>\n",
       "      <td>1.9</td>\n",
       "      <td>Iris-virginica</td>\n",
       "    </tr>\n",
       "    <tr>\n",
       "      <th>127</th>\n",
       "      <td>128</td>\n",
       "      <td>6.1</td>\n",
       "      <td>3.0</td>\n",
       "      <td>4.9</td>\n",
       "      <td>1.8</td>\n",
       "      <td>Iris-virginica</td>\n",
       "    </tr>\n",
       "    <tr>\n",
       "      <th>133</th>\n",
       "      <td>134</td>\n",
       "      <td>6.3</td>\n",
       "      <td>2.8</td>\n",
       "      <td>5.1</td>\n",
       "      <td>1.5</td>\n",
       "      <td>Iris-virginica</td>\n",
       "    </tr>\n",
       "    <tr>\n",
       "      <th>51</th>\n",
       "      <td>52</td>\n",
       "      <td>6.4</td>\n",
       "      <td>3.2</td>\n",
       "      <td>4.5</td>\n",
       "      <td>1.5</td>\n",
       "      <td>Iris-versicolor</td>\n",
       "    </tr>\n",
       "    <tr>\n",
       "      <th>40</th>\n",
       "      <td>41</td>\n",
       "      <td>5.0</td>\n",
       "      <td>3.5</td>\n",
       "      <td>1.3</td>\n",
       "      <td>0.3</td>\n",
       "      <td>Iris-setosa</td>\n",
       "    </tr>\n",
       "    <tr>\n",
       "      <th>98</th>\n",
       "      <td>99</td>\n",
       "      <td>5.1</td>\n",
       "      <td>2.5</td>\n",
       "      <td>3.0</td>\n",
       "      <td>1.1</td>\n",
       "      <td>Iris-versicolor</td>\n",
       "    </tr>\n",
       "    <tr>\n",
       "      <th>33</th>\n",
       "      <td>34</td>\n",
       "      <td>5.5</td>\n",
       "      <td>4.2</td>\n",
       "      <td>1.4</td>\n",
       "      <td>0.2</td>\n",
       "      <td>Iris-setosa</td>\n",
       "    </tr>\n",
       "    <tr>\n",
       "      <th>92</th>\n",
       "      <td>93</td>\n",
       "      <td>5.8</td>\n",
       "      <td>2.6</td>\n",
       "      <td>4.0</td>\n",
       "      <td>1.2</td>\n",
       "      <td>Iris-versicolor</td>\n",
       "    </tr>\n",
       "    <tr>\n",
       "      <th>64</th>\n",
       "      <td>65</td>\n",
       "      <td>5.6</td>\n",
       "      <td>2.9</td>\n",
       "      <td>3.6</td>\n",
       "      <td>1.3</td>\n",
       "      <td>Iris-versicolor</td>\n",
       "    </tr>\n",
       "    <tr>\n",
       "      <th>123</th>\n",
       "      <td>124</td>\n",
       "      <td>6.3</td>\n",
       "      <td>2.7</td>\n",
       "      <td>4.9</td>\n",
       "      <td>1.8</td>\n",
       "      <td>Iris-virginica</td>\n",
       "    </tr>\n",
       "    <tr>\n",
       "      <th>114</th>\n",
       "      <td>115</td>\n",
       "      <td>5.8</td>\n",
       "      <td>2.8</td>\n",
       "      <td>5.1</td>\n",
       "      <td>2.4</td>\n",
       "      <td>Iris-virginica</td>\n",
       "    </tr>\n",
       "    <tr>\n",
       "      <th>80</th>\n",
       "      <td>81</td>\n",
       "      <td>5.5</td>\n",
       "      <td>2.4</td>\n",
       "      <td>3.8</td>\n",
       "      <td>1.1</td>\n",
       "      <td>Iris-versicolor</td>\n",
       "    </tr>\n",
       "    <tr>\n",
       "      <th>56</th>\n",
       "      <td>57</td>\n",
       "      <td>6.3</td>\n",
       "      <td>3.3</td>\n",
       "      <td>4.7</td>\n",
       "      <td>1.6</td>\n",
       "      <td>Iris-versicolor</td>\n",
       "    </tr>\n",
       "    <tr>\n",
       "      <th>96</th>\n",
       "      <td>97</td>\n",
       "      <td>5.7</td>\n",
       "      <td>2.9</td>\n",
       "      <td>4.2</td>\n",
       "      <td>1.3</td>\n",
       "      <td>Iris-versicolor</td>\n",
       "    </tr>\n",
       "    <tr>\n",
       "      <th>46</th>\n",
       "      <td>47</td>\n",
       "      <td>5.1</td>\n",
       "      <td>3.8</td>\n",
       "      <td>1.6</td>\n",
       "      <td>0.2</td>\n",
       "      <td>Iris-setosa</td>\n",
       "    </tr>\n",
       "  </tbody>\n",
       "</table>\n",
       "</div>"
      ],
      "text/plain": [
       "      Id  SepalLengthCm  SepalWidthCm  PetalLengthCm  PetalWidthCm  \\\n",
       "78    79            6.0           2.9            4.5           1.5   \n",
       "31    32            5.4           3.4            1.5           0.4   \n",
       "91    92            6.1           3.0            4.6           1.4   \n",
       "134  135            6.1           2.6            5.6           1.4   \n",
       "7      8            5.0           3.4            1.5           0.2   \n",
       "146  147            6.3           2.5            5.0           1.9   \n",
       "127  128            6.1           3.0            4.9           1.8   \n",
       "133  134            6.3           2.8            5.1           1.5   \n",
       "51    52            6.4           3.2            4.5           1.5   \n",
       "40    41            5.0           3.5            1.3           0.3   \n",
       "98    99            5.1           2.5            3.0           1.1   \n",
       "33    34            5.5           4.2            1.4           0.2   \n",
       "92    93            5.8           2.6            4.0           1.2   \n",
       "64    65            5.6           2.9            3.6           1.3   \n",
       "123  124            6.3           2.7            4.9           1.8   \n",
       "114  115            5.8           2.8            5.1           2.4   \n",
       "80    81            5.5           2.4            3.8           1.1   \n",
       "56    57            6.3           3.3            4.7           1.6   \n",
       "96    97            5.7           2.9            4.2           1.3   \n",
       "46    47            5.1           3.8            1.6           0.2   \n",
       "\n",
       "             Species  \n",
       "78   Iris-versicolor  \n",
       "31       Iris-setosa  \n",
       "91   Iris-versicolor  \n",
       "134   Iris-virginica  \n",
       "7        Iris-setosa  \n",
       "146   Iris-virginica  \n",
       "127   Iris-virginica  \n",
       "133   Iris-virginica  \n",
       "51   Iris-versicolor  \n",
       "40       Iris-setosa  \n",
       "98   Iris-versicolor  \n",
       "33       Iris-setosa  \n",
       "92   Iris-versicolor  \n",
       "64   Iris-versicolor  \n",
       "123   Iris-virginica  \n",
       "114   Iris-virginica  \n",
       "80   Iris-versicolor  \n",
       "56   Iris-versicolor  \n",
       "96   Iris-versicolor  \n",
       "46       Iris-setosa  "
      ]
     },
     "execution_count": 10,
     "metadata": {},
     "output_type": "execute_result"
    }
   ],
   "source": [
    "data.sample(20)"
   ]
  },
  {
   "cell_type": "code",
   "execution_count": 11,
   "id": "f765a6b1",
   "metadata": {},
   "outputs": [
    {
     "data": {
      "text/html": [
       "<div>\n",
       "<style scoped>\n",
       "    .dataframe tbody tr th:only-of-type {\n",
       "        vertical-align: middle;\n",
       "    }\n",
       "\n",
       "    .dataframe tbody tr th {\n",
       "        vertical-align: top;\n",
       "    }\n",
       "\n",
       "    .dataframe thead th {\n",
       "        text-align: right;\n",
       "    }\n",
       "</style>\n",
       "<table border=\"1\" class=\"dataframe\">\n",
       "  <thead>\n",
       "    <tr style=\"text-align: right;\">\n",
       "      <th></th>\n",
       "      <th>Id</th>\n",
       "      <th>SepalLengthCm</th>\n",
       "      <th>SepalWidthCm</th>\n",
       "      <th>PetalLengthCm</th>\n",
       "      <th>PetalWidthCm</th>\n",
       "    </tr>\n",
       "  </thead>\n",
       "  <tbody>\n",
       "    <tr>\n",
       "      <th>count</th>\n",
       "      <td>150.000000</td>\n",
       "      <td>150.000000</td>\n",
       "      <td>150.000000</td>\n",
       "      <td>150.000000</td>\n",
       "      <td>150.000000</td>\n",
       "    </tr>\n",
       "    <tr>\n",
       "      <th>mean</th>\n",
       "      <td>75.500000</td>\n",
       "      <td>5.843333</td>\n",
       "      <td>3.054000</td>\n",
       "      <td>3.758667</td>\n",
       "      <td>1.198667</td>\n",
       "    </tr>\n",
       "    <tr>\n",
       "      <th>std</th>\n",
       "      <td>43.445368</td>\n",
       "      <td>0.828066</td>\n",
       "      <td>0.433594</td>\n",
       "      <td>1.764420</td>\n",
       "      <td>0.763161</td>\n",
       "    </tr>\n",
       "    <tr>\n",
       "      <th>min</th>\n",
       "      <td>1.000000</td>\n",
       "      <td>4.300000</td>\n",
       "      <td>2.000000</td>\n",
       "      <td>1.000000</td>\n",
       "      <td>0.100000</td>\n",
       "    </tr>\n",
       "    <tr>\n",
       "      <th>25%</th>\n",
       "      <td>38.250000</td>\n",
       "      <td>5.100000</td>\n",
       "      <td>2.800000</td>\n",
       "      <td>1.600000</td>\n",
       "      <td>0.300000</td>\n",
       "    </tr>\n",
       "    <tr>\n",
       "      <th>50%</th>\n",
       "      <td>75.500000</td>\n",
       "      <td>5.800000</td>\n",
       "      <td>3.000000</td>\n",
       "      <td>4.350000</td>\n",
       "      <td>1.300000</td>\n",
       "    </tr>\n",
       "    <tr>\n",
       "      <th>75%</th>\n",
       "      <td>112.750000</td>\n",
       "      <td>6.400000</td>\n",
       "      <td>3.300000</td>\n",
       "      <td>5.100000</td>\n",
       "      <td>1.800000</td>\n",
       "    </tr>\n",
       "    <tr>\n",
       "      <th>max</th>\n",
       "      <td>150.000000</td>\n",
       "      <td>7.900000</td>\n",
       "      <td>4.400000</td>\n",
       "      <td>6.900000</td>\n",
       "      <td>2.500000</td>\n",
       "    </tr>\n",
       "  </tbody>\n",
       "</table>\n",
       "</div>"
      ],
      "text/plain": [
       "               Id  SepalLengthCm  SepalWidthCm  PetalLengthCm  PetalWidthCm\n",
       "count  150.000000     150.000000    150.000000     150.000000    150.000000\n",
       "mean    75.500000       5.843333      3.054000       3.758667      1.198667\n",
       "std     43.445368       0.828066      0.433594       1.764420      0.763161\n",
       "min      1.000000       4.300000      2.000000       1.000000      0.100000\n",
       "25%     38.250000       5.100000      2.800000       1.600000      0.300000\n",
       "50%     75.500000       5.800000      3.000000       4.350000      1.300000\n",
       "75%    112.750000       6.400000      3.300000       5.100000      1.800000\n",
       "max    150.000000       7.900000      4.400000       6.900000      2.500000"
      ]
     },
     "execution_count": 11,
     "metadata": {},
     "output_type": "execute_result"
    }
   ],
   "source": [
    "data.describe()"
   ]
  },
  {
   "cell_type": "markdown",
   "id": "7a9b8420",
   "metadata": {},
   "source": [
    "# features name"
   ]
  },
  {
   "cell_type": "code",
   "execution_count": 12,
   "id": "9f48c2fa",
   "metadata": {},
   "outputs": [
    {
     "data": {
      "text/plain": [
       "Index(['Id', 'SepalLengthCm', 'SepalWidthCm', 'PetalLengthCm', 'PetalWidthCm',\n",
       "       'Species'],\n",
       "      dtype='object')"
      ]
     },
     "execution_count": 12,
     "metadata": {},
     "output_type": "execute_result"
    }
   ],
   "source": [
    "data.columns"
   ]
  },
  {
   "cell_type": "code",
   "execution_count": 13,
   "id": "081d9ac8",
   "metadata": {},
   "outputs": [
    {
     "data": {
      "text/plain": [
       "Species\n",
       "Iris-setosa        50\n",
       "Iris-versicolor    50\n",
       "Iris-virginica     50\n",
       "Name: count, dtype: int64"
      ]
     },
     "execution_count": 13,
     "metadata": {},
     "output_type": "execute_result"
    }
   ],
   "source": [
    "data[\"Species\"].value_counts()"
   ]
  },
  {
   "cell_type": "markdown",
   "id": "c8866067",
   "metadata": {},
   "source": [
    "# Missing Values"
   ]
  },
  {
   "cell_type": "code",
   "execution_count": 14,
   "id": "03ecc57c",
   "metadata": {},
   "outputs": [
    {
     "name": "stdout",
     "output_type": "stream",
     "text": [
      "Missing data sum :\n",
      "Id               0\n",
      "SepalLengthCm    0\n",
      "SepalWidthCm     0\n",
      "PetalLengthCm    0\n",
      "PetalWidthCm     0\n",
      "Species          0\n",
      "dtype: int64\n",
      "\n",
      "Missing data percentage (%):\n",
      "Id               0.0\n",
      "SepalLengthCm    0.0\n",
      "SepalWidthCm     0.0\n",
      "PetalLengthCm    0.0\n",
      "PetalWidthCm     0.0\n",
      "Species          0.0\n",
      "dtype: float64\n"
     ]
    }
   ],
   "source": [
    "print('Missing data sum :')\n",
    "print(data.isnull().sum())\n",
    "print('\\nMissing data percentage (%):')\n",
    "print(data.isnull().sum()/data.count()*100)"
   ]
  },
  {
   "cell_type": "markdown",
   "id": "079479be",
   "metadata": {},
   "source": [
    "# Correlation Matrix"
   ]
  },
  {
   "cell_type": "code",
   "execution_count": 15,
   "id": "12f29ffb",
   "metadata": {},
   "outputs": [
    {
     "data": {
      "text/plain": [
       "Text(0.5, 1.0, 'Iris Feature Correlations')"
      ]
     },
     "execution_count": 15,
     "metadata": {},
     "output_type": "execute_result"
    },
    {
     "data": {
      "image/png": "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",
      "text/plain": [
       "<Figure size 800x600 with 2 Axes>"
      ]
     },
     "metadata": {},
     "output_type": "display_data"
    }
   ],
   "source": [
    "plt.figure(figsize=(8,6))\n",
    "sns.heatmap(data.corr(numeric_only=True), annot=True, cmap=\"RdBu\", linewidths=.5, fmt=\".2f\")\n",
    "plt.title('Iris Feature Correlations')"
   ]
  },
  {
   "cell_type": "code",
   "execution_count": 16,
   "id": "cff94c39",
   "metadata": {},
   "outputs": [
    {
     "data": {
      "image/png": "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",
      "text/plain": [
       "<Figure size 800x600 with 2 Axes>"
      ]
     },
     "metadata": {},
     "output_type": "display_data"
    }
   ],
   "source": [
    "corr = data.corr(numeric_only=True)\n",
    "plt.figure(figsize=(8, 6))\n",
    "sns.heatmap(data=corr, annot=True, cmap='Spectral', linewidths=0.5, fmt=\".2f\")\n",
    "plt.title(\"Correlation Matrix\")\n",
    "plt.show()"
   ]
  },
  {
   "cell_type": "markdown",
   "id": "bb05c524",
   "metadata": {},
   "source": [
    "# Seperate Categorical and Numerical Features"
   ]
  },
  {
   "cell_type": "code",
   "execution_count": 17,
   "id": "2e7923de",
   "metadata": {},
   "outputs": [
    {
     "name": "stdout",
     "output_type": "stream",
     "text": [
      "Number of categorical variables:  1\n",
      "********************************************************************************\n",
      "Categorical variables column name: ['Species']\n"
     ]
    }
   ],
   "source": [
    "cat_features = [feature for feature in data.columns if data[feature].dtypes == 'O']\n",
    "print('Number of categorical variables: ', len(cat_features))\n",
    "print('*'*80)\n",
    "print('Categorical variables column name:',cat_features)"
   ]
  },
  {
   "cell_type": "code",
   "execution_count": 18,
   "id": "69151ec3",
   "metadata": {},
   "outputs": [
    {
     "name": "stdout",
     "output_type": "stream",
     "text": [
      "Number of numerical variables:  5\n",
      "********************************************************************************\n",
      "Numerical Variables Column:  ['Id', 'SepalLengthCm', 'SepalWidthCm', 'PetalLengthCm', 'PetalWidthCm']\n"
     ]
    }
   ],
   "source": [
    "numerical_features = [feature for feature in data.columns if data[feature].dtypes != 'O']\n",
    "print('Number of numerical variables: ', len(numerical_features))\n",
    "print('*'*80)\n",
    "print('Numerical Variables Column: ',numerical_features)"
   ]
  },
  {
   "cell_type": "markdown",
   "id": "dcb1dfcd",
   "metadata": {},
   "source": [
    "# Checking Duplicating Values"
   ]
  },
  {
   "cell_type": "code",
   "execution_count": 19,
   "id": "440a8c56",
   "metadata": {},
   "outputs": [
    {
     "data": {
      "text/plain": [
       "np.int64(0)"
      ]
     },
     "execution_count": 19,
     "metadata": {},
     "output_type": "execute_result"
    }
   ],
   "source": [
    "data.duplicated().sum()"
   ]
  },
  {
   "cell_type": "code",
   "execution_count": 20,
   "id": "02c52ad9",
   "metadata": {},
   "outputs": [
    {
     "data": {
      "text/plain": [
       "Index(['Id', 'SepalLengthCm', 'SepalWidthCm', 'PetalLengthCm', 'PetalWidthCm',\n",
       "       'Species'],\n",
       "      dtype='object')"
      ]
     },
     "execution_count": 20,
     "metadata": {},
     "output_type": "execute_result"
    }
   ],
   "source": [
    "data.columns"
   ]
  },
  {
   "cell_type": "code",
   "execution_count": 21,
   "id": "a61b854e",
   "metadata": {},
   "outputs": [
    {
     "data": {
      "text/plain": [
       "array([5.1, 4.9, 4.7, 4.6, 5. , 5.4, 4.4, 4.8, 4.3, 5.8, 5.7, 5.2, 5.5,\n",
       "       4.5, 5.3, 7. , 6.4, 6.9, 6.5, 6.3, 6.6, 5.9, 6. , 6.1, 5.6, 6.7,\n",
       "       6.2, 6.8, 7.1, 7.6, 7.3, 7.2, 7.7, 7.4, 7.9])"
      ]
     },
     "execution_count": 21,
     "metadata": {},
     "output_type": "execute_result"
    }
   ],
   "source": [
    "data['SepalLengthCm'].unique()"
   ]
  },
  {
   "cell_type": "code",
   "execution_count": 22,
   "id": "4014afa5",
   "metadata": {},
   "outputs": [
    {
     "data": {
      "text/plain": [
       "23"
      ]
     },
     "execution_count": 22,
     "metadata": {},
     "output_type": "execute_result"
    }
   ],
   "source": [
    "data['SepalWidthCm'].nunique()"
   ]
  },
  {
   "cell_type": "code",
   "execution_count": 23,
   "id": "307e83d1",
   "metadata": {},
   "outputs": [
    {
     "data": {
      "text/plain": [
       "11     3.4\n",
       "90     2.6\n",
       "139    3.1\n",
       "14     4.0\n",
       "61     3.0\n",
       "141    3.1\n",
       "57     2.4\n",
       "137    3.1\n",
       "113    2.5\n",
       "73     2.8\n",
       "Name: SepalWidthCm, dtype: float64"
      ]
     },
     "execution_count": 23,
     "metadata": {},
     "output_type": "execute_result"
    }
   ],
   "source": [
    "data['SepalWidthCm'].sample(10)"
   ]
  },
  {
   "cell_type": "code",
   "execution_count": 24,
   "id": "63c94c8e",
   "metadata": {},
   "outputs": [
    {
     "data": {
      "text/plain": [
       "array([1.4, 1.3, 1.5, 1.7, 1.6, 1.1, 1.2, 1. , 1.9, 4.7, 4.5, 4.9, 4. ,\n",
       "       4.6, 3.3, 3.9, 3.5, 4.2, 3.6, 4.4, 4.1, 4.8, 4.3, 5. , 3.8, 3.7,\n",
       "       5.1, 3. , 6. , 5.9, 5.6, 5.8, 6.6, 6.3, 6.1, 5.3, 5.5, 6.7, 6.9,\n",
       "       5.7, 6.4, 5.4, 5.2])"
      ]
     },
     "execution_count": 24,
     "metadata": {},
     "output_type": "execute_result"
    }
   ],
   "source": [
    "data['PetalLengthCm'].unique()"
   ]
  },
  {
   "cell_type": "code",
   "execution_count": 25,
   "id": "5e31187f",
   "metadata": {},
   "outputs": [
    {
     "data": {
      "text/plain": [
       "array([0.2, 0.4, 0.3, 0.1, 0.5, 0.6, 1.4, 1.5, 1.3, 1.6, 1. , 1.1, 1.8,\n",
       "       1.2, 1.7, 2.5, 1.9, 2.1, 2.2, 2. , 2.4, 2.3])"
      ]
     },
     "execution_count": 25,
     "metadata": {},
     "output_type": "execute_result"
    }
   ],
   "source": [
    "data['PetalWidthCm'].unique()"
   ]
  },
  {
   "cell_type": "code",
   "execution_count": 26,
   "id": "9f240c4f",
   "metadata": {},
   "outputs": [
    {
     "data": {
      "text/plain": [
       "3"
      ]
     },
     "execution_count": 26,
     "metadata": {},
     "output_type": "execute_result"
    }
   ],
   "source": [
    "data['Species'].nunique()"
   ]
  },
  {
   "cell_type": "code",
   "execution_count": 27,
   "id": "1a1609e9",
   "metadata": {},
   "outputs": [
    {
     "data": {
      "text/plain": [
       "array(['Iris-setosa', 'Iris-versicolor', 'Iris-virginica'], dtype=object)"
      ]
     },
     "execution_count": 27,
     "metadata": {},
     "output_type": "execute_result"
    }
   ],
   "source": [
    "data['Species'].unique()"
   ]
  },
  {
   "cell_type": "code",
   "execution_count": 28,
   "id": "ec1666c4",
   "metadata": {},
   "outputs": [
    {
     "data": {
      "text/html": [
       "<div>\n",
       "<style scoped>\n",
       "    .dataframe tbody tr th:only-of-type {\n",
       "        vertical-align: middle;\n",
       "    }\n",
       "\n",
       "    .dataframe tbody tr th {\n",
       "        vertical-align: top;\n",
       "    }\n",
       "\n",
       "    .dataframe thead th {\n",
       "        text-align: right;\n",
       "    }\n",
       "</style>\n",
       "<table border=\"1\" class=\"dataframe\">\n",
       "  <thead>\n",
       "    <tr style=\"text-align: right;\">\n",
       "      <th></th>\n",
       "      <th>Id</th>\n",
       "      <th>SepalLengthCm</th>\n",
       "      <th>SepalWidthCm</th>\n",
       "      <th>PetalLengthCm</th>\n",
       "      <th>PetalWidthCm</th>\n",
       "    </tr>\n",
       "  </thead>\n",
       "  <tbody>\n",
       "    <tr>\n",
       "      <th>Id</th>\n",
       "      <td>1.00</td>\n",
       "      <td>0.72</td>\n",
       "      <td>-0.40</td>\n",
       "      <td>0.88</td>\n",
       "      <td>0.90</td>\n",
       "    </tr>\n",
       "    <tr>\n",
       "      <th>SepalLengthCm</th>\n",
       "      <td>0.72</td>\n",
       "      <td>1.00</td>\n",
       "      <td>-0.11</td>\n",
       "      <td>0.87</td>\n",
       "      <td>0.82</td>\n",
       "    </tr>\n",
       "    <tr>\n",
       "      <th>SepalWidthCm</th>\n",
       "      <td>-0.40</td>\n",
       "      <td>-0.11</td>\n",
       "      <td>1.00</td>\n",
       "      <td>-0.42</td>\n",
       "      <td>-0.36</td>\n",
       "    </tr>\n",
       "    <tr>\n",
       "      <th>PetalLengthCm</th>\n",
       "      <td>0.88</td>\n",
       "      <td>0.87</td>\n",
       "      <td>-0.42</td>\n",
       "      <td>1.00</td>\n",
       "      <td>0.96</td>\n",
       "    </tr>\n",
       "    <tr>\n",
       "      <th>PetalWidthCm</th>\n",
       "      <td>0.90</td>\n",
       "      <td>0.82</td>\n",
       "      <td>-0.36</td>\n",
       "      <td>0.96</td>\n",
       "      <td>1.00</td>\n",
       "    </tr>\n",
       "  </tbody>\n",
       "</table>\n",
       "</div>"
      ],
      "text/plain": [
       "                 Id  SepalLengthCm  SepalWidthCm  PetalLengthCm  PetalWidthCm\n",
       "Id             1.00           0.72         -0.40           0.88          0.90\n",
       "SepalLengthCm  0.72           1.00         -0.11           0.87          0.82\n",
       "SepalWidthCm  -0.40          -0.11          1.00          -0.42         -0.36\n",
       "PetalLengthCm  0.88           0.87         -0.42           1.00          0.96\n",
       "PetalWidthCm   0.90           0.82         -0.36           0.96          1.00"
      ]
     },
     "execution_count": 28,
     "metadata": {},
     "output_type": "execute_result"
    }
   ],
   "source": [
    "corr_matrix = data.select_dtypes(include='number').corr().round(2)\n",
    "corr_matrix              "
   ]
  },
  {
   "cell_type": "code",
   "execution_count": 29,
   "id": "2f361569",
   "metadata": {},
   "outputs": [
    {
     "data": {
      "image/png": "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",
      "text/plain": [
       "<Figure size 800x600 with 2 Axes>"
      ]
     },
     "metadata": {},
     "output_type": "display_data"
    }
   ],
   "source": [
    "mask = np.triu(np.ones_like(corr_matrix, dtype=bool))\n",
    "plt.figure(figsize=(8,6))\n",
    "sns.heatmap(corr_matrix, center=0, vmin=-1, vmax=1, mask=mask, annot=True, cmap='BrBG')\n",
    "plt.show()"
   ]
  },
  {
   "cell_type": "markdown",
   "id": "b30e3cd4",
   "metadata": {},
   "source": [
    "Visualizing Categorical Features\n",
    "-"
   ]
  },
  {
   "cell_type": "code",
   "execution_count": 30,
   "id": "cef8972c",
   "metadata": {},
   "outputs": [
    {
     "data": {
      "image/png": "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",
      "text/plain": [
       "<Figure size 600x400 with 1 Axes>"
      ]
     },
     "metadata": {},
     "output_type": "display_data"
    }
   ],
   "source": [
    "plt.figure(figsize=(6, 4))\n",
    "ax = sns.boxplot(data=data, x='Species', y='PetalLengthCm', hue='Species', palette='Spectral')\n",
    "plt.title('Petal Length by Species')\n",
    "plt.tight_layout()\n",
    "plt.show()"
   ]
  },
  {
   "cell_type": "markdown",
   "id": "26096c92",
   "metadata": {},
   "source": [
    "# Barplot of numerical features:\n"
   ]
  },
  {
   "cell_type": "code",
   "execution_count": 31,
   "id": "3481b4bc",
   "metadata": {},
   "outputs": [
    {
     "data": {
      "image/png": "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",
      "text/plain": [
       "<Figure size 640x480 with 1 Axes>"
      ]
     },
     "metadata": {},
     "output_type": "display_data"
    },
    {
     "data": {
      "image/png": "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",
      "text/plain": [
       "<Figure size 640x480 with 1 Axes>"
      ]
     },
     "metadata": {},
     "output_type": "display_data"
    },
    {
     "data": {
      "image/png": "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",
      "text/plain": [
       "<Figure size 640x480 with 1 Axes>"
      ]
     },
     "metadata": {},
     "output_type": "display_data"
    },
    {
     "data": {
      "image/png": "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",
      "text/plain": [
       "<Figure size 640x480 with 1 Axes>"
      ]
     },
     "metadata": {},
     "output_type": "display_data"
    }
   ],
   "source": [
    "for col in ['SepalLengthCm', 'SepalWidthCm', 'PetalLengthCm', 'PetalWidthCm']:\n",
    "    sns.barplot(data=data, x='Species', y=col, hue='Species', palette='Spectral', legend=False)\n",
    "    plt.title(f'Mean {col} by Species')\n",
    "    plt.show()"
   ]
  },
  {
   "cell_type": "markdown",
   "id": "1fcacee8",
   "metadata": {},
   "source": [
    "# Handling Missing Values"
   ]
  },
  {
   "cell_type": "code",
   "execution_count": 32,
   "id": "62bc7395",
   "metadata": {},
   "outputs": [
    {
     "data": {
      "text/html": [
       "<div>\n",
       "<style scoped>\n",
       "    .dataframe tbody tr th:only-of-type {\n",
       "        vertical-align: middle;\n",
       "    }\n",
       "\n",
       "    .dataframe tbody tr th {\n",
       "        vertical-align: top;\n",
       "    }\n",
       "\n",
       "    .dataframe thead th {\n",
       "        text-align: right;\n",
       "    }\n",
       "</style>\n",
       "<table border=\"1\" class=\"dataframe\">\n",
       "  <thead>\n",
       "    <tr style=\"text-align: right;\">\n",
       "      <th></th>\n",
       "      <th>Id</th>\n",
       "      <th>SepalLengthCm</th>\n",
       "      <th>SepalWidthCm</th>\n",
       "      <th>PetalLengthCm</th>\n",
       "      <th>PetalWidthCm</th>\n",
       "      <th>Species</th>\n",
       "    </tr>\n",
       "  </thead>\n",
       "  <tbody>\n",
       "    <tr>\n",
       "      <th>0</th>\n",
       "      <td>1</td>\n",
       "      <td>5.1</td>\n",
       "      <td>3.5</td>\n",
       "      <td>1.4</td>\n",
       "      <td>0.2</td>\n",
       "      <td>Iris-setosa</td>\n",
       "    </tr>\n",
       "    <tr>\n",
       "      <th>1</th>\n",
       "      <td>2</td>\n",
       "      <td>4.9</td>\n",
       "      <td>3.0</td>\n",
       "      <td>1.4</td>\n",
       "      <td>0.2</td>\n",
       "      <td>Iris-setosa</td>\n",
       "    </tr>\n",
       "    <tr>\n",
       "      <th>2</th>\n",
       "      <td>3</td>\n",
       "      <td>4.7</td>\n",
       "      <td>3.2</td>\n",
       "      <td>1.3</td>\n",
       "      <td>0.2</td>\n",
       "      <td>Iris-setosa</td>\n",
       "    </tr>\n",
       "    <tr>\n",
       "      <th>3</th>\n",
       "      <td>4</td>\n",
       "      <td>4.6</td>\n",
       "      <td>3.1</td>\n",
       "      <td>1.5</td>\n",
       "      <td>0.2</td>\n",
       "      <td>Iris-setosa</td>\n",
       "    </tr>\n",
       "    <tr>\n",
       "      <th>4</th>\n",
       "      <td>5</td>\n",
       "      <td>5.0</td>\n",
       "      <td>3.6</td>\n",
       "      <td>1.4</td>\n",
       "      <td>0.2</td>\n",
       "      <td>Iris-setosa</td>\n",
       "    </tr>\n",
       "  </tbody>\n",
       "</table>\n",
       "</div>"
      ],
      "text/plain": [
       "   Id  SepalLengthCm  SepalWidthCm  PetalLengthCm  PetalWidthCm      Species\n",
       "0   1            5.1           3.5            1.4           0.2  Iris-setosa\n",
       "1   2            4.9           3.0            1.4           0.2  Iris-setosa\n",
       "2   3            4.7           3.2            1.3           0.2  Iris-setosa\n",
       "3   4            4.6           3.1            1.5           0.2  Iris-setosa\n",
       "4   5            5.0           3.6            1.4           0.2  Iris-setosa"
      ]
     },
     "execution_count": 32,
     "metadata": {},
     "output_type": "execute_result"
    }
   ],
   "source": [
    "data.head()"
   ]
  },
  {
   "cell_type": "code",
   "execution_count": 33,
   "id": "3c944edb",
   "metadata": {},
   "outputs": [
    {
     "data": {
      "text/plain": [
       "Id               0\n",
       "SepalLengthCm    0\n",
       "SepalWidthCm     0\n",
       "PetalLengthCm    0\n",
       "PetalWidthCm     0\n",
       "Species          0\n",
       "dtype: int64"
      ]
     },
     "execution_count": 33,
     "metadata": {},
     "output_type": "execute_result"
    }
   ],
   "source": [
    "data.isnull().sum()"
   ]
  },
  {
   "cell_type": "code",
   "execution_count": 34,
   "id": "64e9c02f",
   "metadata": {},
   "outputs": [],
   "source": [
    "data['SepalLengthCm'] = data['SepalLengthCm'].fillna(data['SepalLengthCm'].mean())\n",
    "data['SepalWidthCm'] = data['SepalWidthCm'].fillna(data['SepalWidthCm'].mean())\n",
    "data['PetalLengthCm'] = data['PetalLengthCm'].fillna(data['PetalLengthCm'].mean())\n",
    "data['PetalWidthCm'] = data['PetalWidthCm'].fillna(data['PetalWidthCm'].mean())"
   ]
  },
  {
   "cell_type": "code",
   "execution_count": 35,
   "id": "605eb56e",
   "metadata": {},
   "outputs": [
    {
     "data": {
      "text/plain": [
       "Id               0\n",
       "SepalLengthCm    0\n",
       "SepalWidthCm     0\n",
       "PetalLengthCm    0\n",
       "PetalWidthCm     0\n",
       "Species          0\n",
       "dtype: int64"
      ]
     },
     "execution_count": 35,
     "metadata": {},
     "output_type": "execute_result"
    }
   ],
   "source": [
    "data.isnull().sum()"
   ]
  },
  {
   "cell_type": "markdown",
   "id": "04925541",
   "metadata": {},
   "source": [
    "# dropping irrelevant feature \"id\""
   ]
  },
  {
   "cell_type": "code",
   "execution_count": 36,
   "id": "96edde57",
   "metadata": {},
   "outputs": [
    {
     "data": {
      "text/html": [
       "<div>\n",
       "<style scoped>\n",
       "    .dataframe tbody tr th:only-of-type {\n",
       "        vertical-align: middle;\n",
       "    }\n",
       "\n",
       "    .dataframe tbody tr th {\n",
       "        vertical-align: top;\n",
       "    }\n",
       "\n",
       "    .dataframe thead th {\n",
       "        text-align: right;\n",
       "    }\n",
       "</style>\n",
       "<table border=\"1\" class=\"dataframe\">\n",
       "  <thead>\n",
       "    <tr style=\"text-align: right;\">\n",
       "      <th></th>\n",
       "      <th>SepalLengthCm</th>\n",
       "      <th>SepalWidthCm</th>\n",
       "      <th>PetalLengthCm</th>\n",
       "      <th>PetalWidthCm</th>\n",
       "      <th>Species</th>\n",
       "    </tr>\n",
       "  </thead>\n",
       "  <tbody>\n",
       "    <tr>\n",
       "      <th>0</th>\n",
       "      <td>5.1</td>\n",
       "      <td>3.5</td>\n",
       "      <td>1.4</td>\n",
       "      <td>0.2</td>\n",
       "      <td>Iris-setosa</td>\n",
       "    </tr>\n",
       "    <tr>\n",
       "      <th>1</th>\n",
       "      <td>4.9</td>\n",
       "      <td>3.0</td>\n",
       "      <td>1.4</td>\n",
       "      <td>0.2</td>\n",
       "      <td>Iris-setosa</td>\n",
       "    </tr>\n",
       "    <tr>\n",
       "      <th>2</th>\n",
       "      <td>4.7</td>\n",
       "      <td>3.2</td>\n",
       "      <td>1.3</td>\n",
       "      <td>0.2</td>\n",
       "      <td>Iris-setosa</td>\n",
       "    </tr>\n",
       "    <tr>\n",
       "      <th>3</th>\n",
       "      <td>4.6</td>\n",
       "      <td>3.1</td>\n",
       "      <td>1.5</td>\n",
       "      <td>0.2</td>\n",
       "      <td>Iris-setosa</td>\n",
       "    </tr>\n",
       "    <tr>\n",
       "      <th>4</th>\n",
       "      <td>5.0</td>\n",
       "      <td>3.6</td>\n",
       "      <td>1.4</td>\n",
       "      <td>0.2</td>\n",
       "      <td>Iris-setosa</td>\n",
       "    </tr>\n",
       "    <tr>\n",
       "      <th>...</th>\n",
       "      <td>...</td>\n",
       "      <td>...</td>\n",
       "      <td>...</td>\n",
       "      <td>...</td>\n",
       "      <td>...</td>\n",
       "    </tr>\n",
       "    <tr>\n",
       "      <th>145</th>\n",
       "      <td>6.7</td>\n",
       "      <td>3.0</td>\n",
       "      <td>5.2</td>\n",
       "      <td>2.3</td>\n",
       "      <td>Iris-virginica</td>\n",
       "    </tr>\n",
       "    <tr>\n",
       "      <th>146</th>\n",
       "      <td>6.3</td>\n",
       "      <td>2.5</td>\n",
       "      <td>5.0</td>\n",
       "      <td>1.9</td>\n",
       "      <td>Iris-virginica</td>\n",
       "    </tr>\n",
       "    <tr>\n",
       "      <th>147</th>\n",
       "      <td>6.5</td>\n",
       "      <td>3.0</td>\n",
       "      <td>5.2</td>\n",
       "      <td>2.0</td>\n",
       "      <td>Iris-virginica</td>\n",
       "    </tr>\n",
       "    <tr>\n",
       "      <th>148</th>\n",
       "      <td>6.2</td>\n",
       "      <td>3.4</td>\n",
       "      <td>5.4</td>\n",
       "      <td>2.3</td>\n",
       "      <td>Iris-virginica</td>\n",
       "    </tr>\n",
       "    <tr>\n",
       "      <th>149</th>\n",
       "      <td>5.9</td>\n",
       "      <td>3.0</td>\n",
       "      <td>5.1</td>\n",
       "      <td>1.8</td>\n",
       "      <td>Iris-virginica</td>\n",
       "    </tr>\n",
       "  </tbody>\n",
       "</table>\n",
       "<p>150 rows × 5 columns</p>\n",
       "</div>"
      ],
      "text/plain": [
       "     SepalLengthCm  SepalWidthCm  PetalLengthCm  PetalWidthCm         Species\n",
       "0              5.1           3.5            1.4           0.2     Iris-setosa\n",
       "1              4.9           3.0            1.4           0.2     Iris-setosa\n",
       "2              4.7           3.2            1.3           0.2     Iris-setosa\n",
       "3              4.6           3.1            1.5           0.2     Iris-setosa\n",
       "4              5.0           3.6            1.4           0.2     Iris-setosa\n",
       "..             ...           ...            ...           ...             ...\n",
       "145            6.7           3.0            5.2           2.3  Iris-virginica\n",
       "146            6.3           2.5            5.0           1.9  Iris-virginica\n",
       "147            6.5           3.0            5.2           2.0  Iris-virginica\n",
       "148            6.2           3.4            5.4           2.3  Iris-virginica\n",
       "149            5.9           3.0            5.1           1.8  Iris-virginica\n",
       "\n",
       "[150 rows x 5 columns]"
      ]
     },
     "execution_count": 36,
     "metadata": {},
     "output_type": "execute_result"
    }
   ],
   "source": [
    "train = data.drop(['Id'], axis=1)\n",
    "train"
   ]
  },
  {
   "cell_type": "code",
   "execution_count": 37,
   "id": "6c736239",
   "metadata": {},
   "outputs": [
    {
     "data": {
      "text/plain": [
       "Index(['SepalLengthCm', 'SepalWidthCm', 'PetalLengthCm', 'PetalWidthCm',\n",
       "       'Species'],\n",
       "      dtype='object')"
      ]
     },
     "execution_count": 37,
     "metadata": {},
     "output_type": "execute_result"
    }
   ],
   "source": [
    "train.columns"
   ]
  },
  {
   "cell_type": "code",
   "execution_count": 38,
   "id": "c08360bc",
   "metadata": {},
   "outputs": [
    {
     "data": {
      "text/plain": [
       "(150, 5)"
      ]
     },
     "execution_count": 38,
     "metadata": {},
     "output_type": "execute_result"
    }
   ],
   "source": [
    "train.shape"
   ]
  },
  {
   "cell_type": "code",
   "execution_count": 39,
   "id": "e1b1bf87",
   "metadata": {},
   "outputs": [
    {
     "name": "stdout",
     "output_type": "stream",
     "text": [
      "<class 'pandas.core.frame.DataFrame'>\n",
      "RangeIndex: 150 entries, 0 to 149\n",
      "Data columns (total 5 columns):\n",
      " #   Column         Non-Null Count  Dtype  \n",
      "---  ------         --------------  -----  \n",
      " 0   SepalLengthCm  150 non-null    float64\n",
      " 1   SepalWidthCm   150 non-null    float64\n",
      " 2   PetalLengthCm  150 non-null    float64\n",
      " 3   PetalWidthCm   150 non-null    float64\n",
      " 4   Species        150 non-null    object \n",
      "dtypes: float64(4), object(1)\n",
      "memory usage: 6.0+ KB\n"
     ]
    }
   ],
   "source": [
    "train.info()"
   ]
  },
  {
   "cell_type": "code",
   "execution_count": 40,
   "id": "fc1ec776",
   "metadata": {},
   "outputs": [],
   "source": [
    "train_data_cat = train.select_dtypes(\"object\")\n",
    "train_data_num = train.select_dtypes(\"number\")"
   ]
  },
  {
   "cell_type": "code",
   "execution_count": 41,
   "id": "fba7d662",
   "metadata": {},
   "outputs": [
    {
     "data": {
      "text/html": [
       "<div>\n",
       "<style scoped>\n",
       "    .dataframe tbody tr th:only-of-type {\n",
       "        vertical-align: middle;\n",
       "    }\n",
       "\n",
       "    .dataframe tbody tr th {\n",
       "        vertical-align: top;\n",
       "    }\n",
       "\n",
       "    .dataframe thead th {\n",
       "        text-align: right;\n",
       "    }\n",
       "</style>\n",
       "<table border=\"1\" class=\"dataframe\">\n",
       "  <thead>\n",
       "    <tr style=\"text-align: right;\">\n",
       "      <th></th>\n",
       "      <th>Species</th>\n",
       "    </tr>\n",
       "  </thead>\n",
       "  <tbody>\n",
       "    <tr>\n",
       "      <th>0</th>\n",
       "      <td>Iris-setosa</td>\n",
       "    </tr>\n",
       "    <tr>\n",
       "      <th>1</th>\n",
       "      <td>Iris-setosa</td>\n",
       "    </tr>\n",
       "    <tr>\n",
       "      <th>2</th>\n",
       "      <td>Iris-setosa</td>\n",
       "    </tr>\n",
       "  </tbody>\n",
       "</table>\n",
       "</div>"
      ],
      "text/plain": [
       "       Species\n",
       "0  Iris-setosa\n",
       "1  Iris-setosa\n",
       "2  Iris-setosa"
      ]
     },
     "execution_count": 41,
     "metadata": {},
     "output_type": "execute_result"
    }
   ],
   "source": [
    "train_data_cat.head(3)"
   ]
  },
  {
   "cell_type": "code",
   "execution_count": 42,
   "id": "1f4fccbc",
   "metadata": {},
   "outputs": [
    {
     "data": {
      "text/html": [
       "<div>\n",
       "<style scoped>\n",
       "    .dataframe tbody tr th:only-of-type {\n",
       "        vertical-align: middle;\n",
       "    }\n",
       "\n",
       "    .dataframe tbody tr th {\n",
       "        vertical-align: top;\n",
       "    }\n",
       "\n",
       "    .dataframe thead th {\n",
       "        text-align: right;\n",
       "    }\n",
       "</style>\n",
       "<table border=\"1\" class=\"dataframe\">\n",
       "  <thead>\n",
       "    <tr style=\"text-align: right;\">\n",
       "      <th></th>\n",
       "      <th>SepalLengthCm</th>\n",
       "      <th>SepalWidthCm</th>\n",
       "      <th>PetalLengthCm</th>\n",
       "      <th>PetalWidthCm</th>\n",
       "    </tr>\n",
       "  </thead>\n",
       "  <tbody>\n",
       "    <tr>\n",
       "      <th>0</th>\n",
       "      <td>5.1</td>\n",
       "      <td>3.5</td>\n",
       "      <td>1.4</td>\n",
       "      <td>0.2</td>\n",
       "    </tr>\n",
       "    <tr>\n",
       "      <th>1</th>\n",
       "      <td>4.9</td>\n",
       "      <td>3.0</td>\n",
       "      <td>1.4</td>\n",
       "      <td>0.2</td>\n",
       "    </tr>\n",
       "    <tr>\n",
       "      <th>2</th>\n",
       "      <td>4.7</td>\n",
       "      <td>3.2</td>\n",
       "      <td>1.3</td>\n",
       "      <td>0.2</td>\n",
       "    </tr>\n",
       "  </tbody>\n",
       "</table>\n",
       "</div>"
      ],
      "text/plain": [
       "   SepalLengthCm  SepalWidthCm  PetalLengthCm  PetalWidthCm\n",
       "0            5.1           3.5            1.4           0.2\n",
       "1            4.9           3.0            1.4           0.2\n",
       "2            4.7           3.2            1.3           0.2"
      ]
     },
     "execution_count": 42,
     "metadata": {},
     "output_type": "execute_result"
    }
   ],
   "source": [
    "train_data_num.head(3)"
   ]
  },
  {
   "cell_type": "markdown",
   "id": "2846aa72",
   "metadata": {},
   "source": [
    "Converting categorical features into numerical\n",
    "-"
   ]
  },
  {
   "cell_type": "code",
   "execution_count": 43,
   "id": "6b1556b2",
   "metadata": {},
   "outputs": [
    {
     "data": {
      "text/html": [
       "<div>\n",
       "<style scoped>\n",
       "    .dataframe tbody tr th:only-of-type {\n",
       "        vertical-align: middle;\n",
       "    }\n",
       "\n",
       "    .dataframe tbody tr th {\n",
       "        vertical-align: top;\n",
       "    }\n",
       "\n",
       "    .dataframe thead th {\n",
       "        text-align: right;\n",
       "    }\n",
       "</style>\n",
       "<table border=\"1\" class=\"dataframe\">\n",
       "  <thead>\n",
       "    <tr style=\"text-align: right;\">\n",
       "      <th></th>\n",
       "      <th>Species_Iris-setosa</th>\n",
       "      <th>Species_Iris-versicolor</th>\n",
       "      <th>Species_Iris-virginica</th>\n",
       "    </tr>\n",
       "  </thead>\n",
       "  <tbody>\n",
       "    <tr>\n",
       "      <th>0</th>\n",
       "      <td>True</td>\n",
       "      <td>False</td>\n",
       "      <td>False</td>\n",
       "    </tr>\n",
       "    <tr>\n",
       "      <th>1</th>\n",
       "      <td>True</td>\n",
       "      <td>False</td>\n",
       "      <td>False</td>\n",
       "    </tr>\n",
       "    <tr>\n",
       "      <th>2</th>\n",
       "      <td>True</td>\n",
       "      <td>False</td>\n",
       "      <td>False</td>\n",
       "    </tr>\n",
       "    <tr>\n",
       "      <th>3</th>\n",
       "      <td>True</td>\n",
       "      <td>False</td>\n",
       "      <td>False</td>\n",
       "    </tr>\n",
       "    <tr>\n",
       "      <th>4</th>\n",
       "      <td>True</td>\n",
       "      <td>False</td>\n",
       "      <td>False</td>\n",
       "    </tr>\n",
       "  </tbody>\n",
       "</table>\n",
       "</div>"
      ],
      "text/plain": [
       "   Species_Iris-setosa  Species_Iris-versicolor  Species_Iris-virginica\n",
       "0                 True                    False                   False\n",
       "1                 True                    False                   False\n",
       "2                 True                    False                   False\n",
       "3                 True                    False                   False\n",
       "4                 True                    False                   False"
      ]
     },
     "execution_count": 43,
     "metadata": {},
     "output_type": "execute_result"
    }
   ],
   "source": [
    "train_data_cata_encoded=pd.get_dummies(train_data_cat, columns=train_data_cat.columns.to_list())\n",
    "train_data_cata_encoded.head()"
   ]
  },
  {
   "cell_type": "code",
   "execution_count": 44,
   "id": "c598585e",
   "metadata": {},
   "outputs": [
    {
     "data": {
      "text/html": [
       "<div>\n",
       "<style scoped>\n",
       "    .dataframe tbody tr th:only-of-type {\n",
       "        vertical-align: middle;\n",
       "    }\n",
       "\n",
       "    .dataframe tbody tr th {\n",
       "        vertical-align: top;\n",
       "    }\n",
       "\n",
       "    .dataframe thead th {\n",
       "        text-align: right;\n",
       "    }\n",
       "</style>\n",
       "<table border=\"1\" class=\"dataframe\">\n",
       "  <thead>\n",
       "    <tr style=\"text-align: right;\">\n",
       "      <th></th>\n",
       "      <th>Species_Iris-setosa</th>\n",
       "      <th>Species_Iris-versicolor</th>\n",
       "      <th>Species_Iris-virginica</th>\n",
       "      <th>SepalLengthCm</th>\n",
       "      <th>SepalWidthCm</th>\n",
       "      <th>PetalLengthCm</th>\n",
       "      <th>PetalWidthCm</th>\n",
       "    </tr>\n",
       "  </thead>\n",
       "  <tbody>\n",
       "    <tr>\n",
       "      <th>0</th>\n",
       "      <td>True</td>\n",
       "      <td>False</td>\n",
       "      <td>False</td>\n",
       "      <td>5.1</td>\n",
       "      <td>3.5</td>\n",
       "      <td>1.4</td>\n",
       "      <td>0.2</td>\n",
       "    </tr>\n",
       "    <tr>\n",
       "      <th>1</th>\n",
       "      <td>True</td>\n",
       "      <td>False</td>\n",
       "      <td>False</td>\n",
       "      <td>4.9</td>\n",
       "      <td>3.0</td>\n",
       "      <td>1.4</td>\n",
       "      <td>0.2</td>\n",
       "    </tr>\n",
       "    <tr>\n",
       "      <th>2</th>\n",
       "      <td>True</td>\n",
       "      <td>False</td>\n",
       "      <td>False</td>\n",
       "      <td>4.7</td>\n",
       "      <td>3.2</td>\n",
       "      <td>1.3</td>\n",
       "      <td>0.2</td>\n",
       "    </tr>\n",
       "    <tr>\n",
       "      <th>3</th>\n",
       "      <td>True</td>\n",
       "      <td>False</td>\n",
       "      <td>False</td>\n",
       "      <td>4.6</td>\n",
       "      <td>3.1</td>\n",
       "      <td>1.5</td>\n",
       "      <td>0.2</td>\n",
       "    </tr>\n",
       "    <tr>\n",
       "      <th>4</th>\n",
       "      <td>True</td>\n",
       "      <td>False</td>\n",
       "      <td>False</td>\n",
       "      <td>5.0</td>\n",
       "      <td>3.6</td>\n",
       "      <td>1.4</td>\n",
       "      <td>0.2</td>\n",
       "    </tr>\n",
       "  </tbody>\n",
       "</table>\n",
       "</div>"
      ],
      "text/plain": [
       "   Species_Iris-setosa  Species_Iris-versicolor  Species_Iris-virginica  \\\n",
       "0                 True                    False                   False   \n",
       "1                 True                    False                   False   \n",
       "2                 True                    False                   False   \n",
       "3                 True                    False                   False   \n",
       "4                 True                    False                   False   \n",
       "\n",
       "   SepalLengthCm  SepalWidthCm  PetalLengthCm  PetalWidthCm  \n",
       "0            5.1           3.5            1.4           0.2  \n",
       "1            4.9           3.0            1.4           0.2  \n",
       "2            4.7           3.2            1.3           0.2  \n",
       "3            4.6           3.1            1.5           0.2  \n",
       "4            5.0           3.6            1.4           0.2  "
      ]
     },
     "execution_count": 44,
     "metadata": {},
     "output_type": "execute_result"
    }
   ],
   "source": [
    "data=pd.concat([train_data_cata_encoded,train_data_num],axis=1,join=\"outer\")\n",
    "data.head()"
   ]
  },
  {
   "cell_type": "markdown",
   "id": "d3c6ab74",
   "metadata": {},
   "source": [
    "# seperate dependant and independant feature"
   ]
  },
  {
   "cell_type": "code",
   "execution_count": 45,
   "id": "e6130595-7016-494d-9098-7acf80acc291",
   "metadata": {},
   "outputs": [
    {
     "name": "stdout",
     "output_type": "stream",
     "text": [
      "['Species_Iris-setosa', 'Species_Iris-versicolor', 'Species_Iris-virginica', 'SepalLengthCm', 'SepalWidthCm', 'PetalLengthCm', 'PetalWidthCm']\n"
     ]
    }
   ],
   "source": [
    "data.columns = data.columns.str.strip()\n",
    "print(data.columns.tolist())"
   ]
  },
  {
   "cell_type": "code",
   "execution_count": 46,
   "id": "735c146a",
   "metadata": {},
   "outputs": [],
   "source": [
    "data['Species'] = data[['Species_Iris-setosa', 'Species_Iris-versicolor', 'Species_Iris-virginica']].idxmax(axis=1)\n",
    "data['Species'] = data['Species'].str.replace('Species_', '')\n",
    "y = data['Species']\n",
    "x = data[['SepalLengthCm', 'SepalWidthCm', 'PetalLengthCm', 'PetalWidthCm']]"
   ]
  },
  {
   "cell_type": "code",
   "execution_count": 47,
   "id": "de367c7c",
   "metadata": {},
   "outputs": [
    {
     "name": "stdout",
     "output_type": "stream",
     "text": [
      "(150, 4)\n",
      "(150,)\n"
     ]
    }
   ],
   "source": [
    "print(x.shape)\n",
    "print(y.shape)"
   ]
  },
  {
   "cell_type": "markdown",
   "id": "011cb32d",
   "metadata": {},
   "source": [
    "# scaling the data"
   ]
  },
  {
   "cell_type": "code",
   "execution_count": 48,
   "id": "c4c1b59a",
   "metadata": {},
   "outputs": [],
   "source": [
    "sc = StandardScaler()\n",
    "x = sc.fit_transform(x)"
   ]
  },
  {
   "cell_type": "code",
   "execution_count": 49,
   "id": "846aaea9",
   "metadata": {},
   "outputs": [
    {
     "data": {
      "text/plain": [
       "array([[-9.00681170e-01,  1.03205722e+00, -1.34127240e+00,\n",
       "        -1.31297673e+00],\n",
       "       [-1.14301691e+00, -1.24957601e-01, -1.34127240e+00,\n",
       "        -1.31297673e+00],\n",
       "       [-1.38535265e+00,  3.37848329e-01, -1.39813811e+00,\n",
       "        -1.31297673e+00],\n",
       "       [-1.50652052e+00,  1.06445364e-01, -1.28440670e+00,\n",
       "        -1.31297673e+00],\n",
       "       [-1.02184904e+00,  1.26346019e+00, -1.34127240e+00,\n",
       "        -1.31297673e+00],\n",
       "       [-5.37177559e-01,  1.95766909e+00, -1.17067529e+00,\n",
       "        -1.05003079e+00],\n",
       "       [-1.50652052e+00,  8.00654259e-01, -1.34127240e+00,\n",
       "        -1.18150376e+00],\n",
       "       [-1.02184904e+00,  8.00654259e-01, -1.28440670e+00,\n",
       "        -1.31297673e+00],\n",
       "       [-1.74885626e+00, -3.56360566e-01, -1.34127240e+00,\n",
       "        -1.31297673e+00],\n",
       "       [-1.14301691e+00,  1.06445364e-01, -1.28440670e+00,\n",
       "        -1.44444970e+00],\n",
       "       [-5.37177559e-01,  1.49486315e+00, -1.28440670e+00,\n",
       "        -1.31297673e+00],\n",
       "       [-1.26418478e+00,  8.00654259e-01, -1.22754100e+00,\n",
       "        -1.31297673e+00],\n",
       "       [-1.26418478e+00, -1.24957601e-01, -1.34127240e+00,\n",
       "        -1.44444970e+00],\n",
       "       [-1.87002413e+00, -1.24957601e-01, -1.51186952e+00,\n",
       "        -1.44444970e+00],\n",
       "       [-5.25060772e-02,  2.18907205e+00, -1.45500381e+00,\n",
       "        -1.31297673e+00],\n",
       "       [-1.73673948e-01,  3.11468391e+00, -1.28440670e+00,\n",
       "        -1.05003079e+00],\n",
       "       [-5.37177559e-01,  1.95766909e+00, -1.39813811e+00,\n",
       "        -1.05003079e+00],\n",
       "       [-9.00681170e-01,  1.03205722e+00, -1.34127240e+00,\n",
       "        -1.18150376e+00],\n",
       "       [-1.73673948e-01,  1.72626612e+00, -1.17067529e+00,\n",
       "        -1.18150376e+00],\n",
       "       [-9.00681170e-01,  1.72626612e+00, -1.28440670e+00,\n",
       "        -1.18150376e+00],\n",
       "       [-5.37177559e-01,  8.00654259e-01, -1.17067529e+00,\n",
       "        -1.31297673e+00],\n",
       "       [-9.00681170e-01,  1.49486315e+00, -1.28440670e+00,\n",
       "        -1.05003079e+00],\n",
       "       [-1.50652052e+00,  1.26346019e+00, -1.56873522e+00,\n",
       "        -1.31297673e+00],\n",
       "       [-9.00681170e-01,  5.69251294e-01, -1.17067529e+00,\n",
       "        -9.18557817e-01],\n",
       "       [-1.26418478e+00,  8.00654259e-01, -1.05694388e+00,\n",
       "        -1.31297673e+00],\n",
       "       [-1.02184904e+00, -1.24957601e-01, -1.22754100e+00,\n",
       "        -1.31297673e+00],\n",
       "       [-1.02184904e+00,  8.00654259e-01, -1.22754100e+00,\n",
       "        -1.05003079e+00],\n",
       "       [-7.79513300e-01,  1.03205722e+00, -1.28440670e+00,\n",
       "        -1.31297673e+00],\n",
       "       [-7.79513300e-01,  8.00654259e-01, -1.34127240e+00,\n",
       "        -1.31297673e+00],\n",
       "       [-1.38535265e+00,  3.37848329e-01, -1.22754100e+00,\n",
       "        -1.31297673e+00],\n",
       "       [-1.26418478e+00,  1.06445364e-01, -1.22754100e+00,\n",
       "        -1.31297673e+00],\n",
       "       [-5.37177559e-01,  8.00654259e-01, -1.28440670e+00,\n",
       "        -1.05003079e+00],\n",
       "       [-7.79513300e-01,  2.42047502e+00, -1.28440670e+00,\n",
       "        -1.44444970e+00],\n",
       "       [-4.16009689e-01,  2.65187798e+00, -1.34127240e+00,\n",
       "        -1.31297673e+00],\n",
       "       [-1.14301691e+00,  1.06445364e-01, -1.28440670e+00,\n",
       "        -1.44444970e+00],\n",
       "       [-1.02184904e+00,  3.37848329e-01, -1.45500381e+00,\n",
       "        -1.31297673e+00],\n",
       "       [-4.16009689e-01,  1.03205722e+00, -1.39813811e+00,\n",
       "        -1.31297673e+00],\n",
       "       [-1.14301691e+00,  1.06445364e-01, -1.28440670e+00,\n",
       "        -1.44444970e+00],\n",
       "       [-1.74885626e+00, -1.24957601e-01, -1.39813811e+00,\n",
       "        -1.31297673e+00],\n",
       "       [-9.00681170e-01,  8.00654259e-01, -1.28440670e+00,\n",
       "        -1.31297673e+00],\n",
       "       [-1.02184904e+00,  1.03205722e+00, -1.39813811e+00,\n",
       "        -1.18150376e+00],\n",
       "       [-1.62768839e+00, -1.74477836e+00, -1.39813811e+00,\n",
       "        -1.18150376e+00],\n",
       "       [-1.74885626e+00,  3.37848329e-01, -1.39813811e+00,\n",
       "        -1.31297673e+00],\n",
       "       [-1.02184904e+00,  1.03205722e+00, -1.22754100e+00,\n",
       "        -7.87084847e-01],\n",
       "       [-9.00681170e-01,  1.72626612e+00, -1.05694388e+00,\n",
       "        -1.05003079e+00],\n",
       "       [-1.26418478e+00, -1.24957601e-01, -1.34127240e+00,\n",
       "        -1.18150376e+00],\n",
       "       [-9.00681170e-01,  1.72626612e+00, -1.22754100e+00,\n",
       "        -1.31297673e+00],\n",
       "       [-1.50652052e+00,  3.37848329e-01, -1.34127240e+00,\n",
       "        -1.31297673e+00],\n",
       "       [-6.58345429e-01,  1.49486315e+00, -1.28440670e+00,\n",
       "        -1.31297673e+00],\n",
       "       [-1.02184904e+00,  5.69251294e-01, -1.34127240e+00,\n",
       "        -1.31297673e+00],\n",
       "       [ 1.40150837e+00,  3.37848329e-01,  5.35295827e-01,\n",
       "         2.64698913e-01],\n",
       "       [ 6.74501145e-01,  3.37848329e-01,  4.21564419e-01,\n",
       "         3.96171883e-01],\n",
       "       [ 1.28034050e+00,  1.06445364e-01,  6.49027235e-01,\n",
       "         3.96171883e-01],\n",
       "       [-4.16009689e-01, -1.74477836e+00,  1.37235899e-01,\n",
       "         1.33225943e-01],\n",
       "       [ 7.95669016e-01, -5.87763531e-01,  4.78430123e-01,\n",
       "         3.96171883e-01],\n",
       "       [-1.73673948e-01, -5.87763531e-01,  4.21564419e-01,\n",
       "         1.33225943e-01],\n",
       "       [ 5.53333275e-01,  5.69251294e-01,  5.35295827e-01,\n",
       "         5.27644853e-01],\n",
       "       [-1.14301691e+00, -1.51337539e+00, -2.60824029e-01,\n",
       "        -2.61192967e-01],\n",
       "       [ 9.16836886e-01, -3.56360566e-01,  4.78430123e-01,\n",
       "         1.33225943e-01],\n",
       "       [-7.79513300e-01, -8.19166497e-01,  8.03701950e-02,\n",
       "         2.64698913e-01],\n",
       "       [-1.02184904e+00, -2.43898725e+00, -1.47092621e-01,\n",
       "        -2.61192967e-01],\n",
       "       [ 6.86617933e-02, -1.24957601e-01,  2.50967307e-01,\n",
       "         3.96171883e-01],\n",
       "       [ 1.89829664e-01, -1.97618132e+00,  1.37235899e-01,\n",
       "        -2.61192967e-01],\n",
       "       [ 3.10997534e-01, -3.56360566e-01,  5.35295827e-01,\n",
       "         2.64698913e-01],\n",
       "       [-2.94841818e-01, -3.56360566e-01, -9.02269170e-02,\n",
       "         1.33225943e-01],\n",
       "       [ 1.03800476e+00,  1.06445364e-01,  3.64698715e-01,\n",
       "         2.64698913e-01],\n",
       "       [-2.94841818e-01, -1.24957601e-01,  4.21564419e-01,\n",
       "         3.96171883e-01],\n",
       "       [-5.25060772e-02, -8.19166497e-01,  1.94101603e-01,\n",
       "        -2.61192967e-01],\n",
       "       [ 4.32165405e-01, -1.97618132e+00,  4.21564419e-01,\n",
       "         3.96171883e-01],\n",
       "       [-2.94841818e-01, -1.28197243e+00,  8.03701950e-02,\n",
       "        -1.29719997e-01],\n",
       "       [ 6.86617933e-02,  3.37848329e-01,  5.92161531e-01,\n",
       "         7.90590793e-01],\n",
       "       [ 3.10997534e-01, -5.87763531e-01,  1.37235899e-01,\n",
       "         1.33225943e-01],\n",
       "       [ 5.53333275e-01, -1.28197243e+00,  6.49027235e-01,\n",
       "         3.96171883e-01],\n",
       "       [ 3.10997534e-01, -5.87763531e-01,  5.35295827e-01,\n",
       "         1.75297293e-03],\n",
       "       [ 6.74501145e-01, -3.56360566e-01,  3.07833011e-01,\n",
       "         1.33225943e-01],\n",
       "       [ 9.16836886e-01, -1.24957601e-01,  3.64698715e-01,\n",
       "         2.64698913e-01],\n",
       "       [ 1.15917263e+00, -5.87763531e-01,  5.92161531e-01,\n",
       "         2.64698913e-01],\n",
       "       [ 1.03800476e+00, -1.24957601e-01,  7.05892939e-01,\n",
       "         6.59117823e-01],\n",
       "       [ 1.89829664e-01, -3.56360566e-01,  4.21564419e-01,\n",
       "         3.96171883e-01],\n",
       "       [-1.73673948e-01, -1.05056946e+00, -1.47092621e-01,\n",
       "        -2.61192967e-01],\n",
       "       [-4.16009689e-01, -1.51337539e+00,  2.35044910e-02,\n",
       "        -1.29719997e-01],\n",
       "       [-4.16009689e-01, -1.51337539e+00, -3.33612130e-02,\n",
       "        -2.61192967e-01],\n",
       "       [-5.25060772e-02, -8.19166497e-01,  8.03701950e-02,\n",
       "         1.75297293e-03],\n",
       "       [ 1.89829664e-01, -8.19166497e-01,  7.62758643e-01,\n",
       "         5.27644853e-01],\n",
       "       [-5.37177559e-01, -1.24957601e-01,  4.21564419e-01,\n",
       "         3.96171883e-01],\n",
       "       [ 1.89829664e-01,  8.00654259e-01,  4.21564419e-01,\n",
       "         5.27644853e-01],\n",
       "       [ 1.03800476e+00,  1.06445364e-01,  5.35295827e-01,\n",
       "         3.96171883e-01],\n",
       "       [ 5.53333275e-01, -1.74477836e+00,  3.64698715e-01,\n",
       "         1.33225943e-01],\n",
       "       [-2.94841818e-01, -1.24957601e-01,  1.94101603e-01,\n",
       "         1.33225943e-01],\n",
       "       [-4.16009689e-01, -1.28197243e+00,  1.37235899e-01,\n",
       "         1.33225943e-01],\n",
       "       [-4.16009689e-01, -1.05056946e+00,  3.64698715e-01,\n",
       "         1.75297293e-03],\n",
       "       [ 3.10997534e-01, -1.24957601e-01,  4.78430123e-01,\n",
       "         2.64698913e-01],\n",
       "       [-5.25060772e-02, -1.05056946e+00,  1.37235899e-01,\n",
       "         1.75297293e-03],\n",
       "       [-1.02184904e+00, -1.74477836e+00, -2.60824029e-01,\n",
       "        -2.61192967e-01],\n",
       "       [-2.94841818e-01, -8.19166497e-01,  2.50967307e-01,\n",
       "         1.33225943e-01],\n",
       "       [-1.73673948e-01, -1.24957601e-01,  2.50967307e-01,\n",
       "         1.75297293e-03],\n",
       "       [-1.73673948e-01, -3.56360566e-01,  2.50967307e-01,\n",
       "         1.33225943e-01],\n",
       "       [ 4.32165405e-01, -3.56360566e-01,  3.07833011e-01,\n",
       "         1.33225943e-01],\n",
       "       [-9.00681170e-01, -1.28197243e+00, -4.31421141e-01,\n",
       "        -1.29719997e-01],\n",
       "       [-1.73673948e-01, -5.87763531e-01,  1.94101603e-01,\n",
       "         1.33225943e-01],\n",
       "       [ 5.53333275e-01,  5.69251294e-01,  1.27454998e+00,\n",
       "         1.71090158e+00],\n",
       "       [-5.25060772e-02, -8.19166497e-01,  7.62758643e-01,\n",
       "         9.22063763e-01],\n",
       "       [ 1.52267624e+00, -1.24957601e-01,  1.21768427e+00,\n",
       "         1.18500970e+00],\n",
       "       [ 5.53333275e-01, -3.56360566e-01,  1.04708716e+00,\n",
       "         7.90590793e-01],\n",
       "       [ 7.95669016e-01, -1.24957601e-01,  1.16081857e+00,\n",
       "         1.31648267e+00],\n",
       "       [ 2.12851559e+00, -1.24957601e-01,  1.61574420e+00,\n",
       "         1.18500970e+00],\n",
       "       [-1.14301691e+00, -1.28197243e+00,  4.21564419e-01,\n",
       "         6.59117823e-01],\n",
       "       [ 1.76501198e+00, -3.56360566e-01,  1.44514709e+00,\n",
       "         7.90590793e-01],\n",
       "       [ 1.03800476e+00, -1.28197243e+00,  1.16081857e+00,\n",
       "         7.90590793e-01],\n",
       "       [ 1.64384411e+00,  1.26346019e+00,  1.33141568e+00,\n",
       "         1.71090158e+00],\n",
       "       [ 7.95669016e-01,  3.37848329e-01,  7.62758643e-01,\n",
       "         1.05353673e+00],\n",
       "       [ 6.74501145e-01, -8.19166497e-01,  8.76490051e-01,\n",
       "         9.22063763e-01],\n",
       "       [ 1.15917263e+00, -1.24957601e-01,  9.90221459e-01,\n",
       "         1.18500970e+00],\n",
       "       [-1.73673948e-01, -1.28197243e+00,  7.05892939e-01,\n",
       "         1.05353673e+00],\n",
       "       [-5.25060772e-02, -5.87763531e-01,  7.62758643e-01,\n",
       "         1.57942861e+00],\n",
       "       [ 6.74501145e-01,  3.37848329e-01,  8.76490051e-01,\n",
       "         1.44795564e+00],\n",
       "       [ 7.95669016e-01, -1.24957601e-01,  9.90221459e-01,\n",
       "         7.90590793e-01],\n",
       "       [ 2.24968346e+00,  1.72626612e+00,  1.67260991e+00,\n",
       "         1.31648267e+00],\n",
       "       [ 2.24968346e+00, -1.05056946e+00,  1.78634131e+00,\n",
       "         1.44795564e+00],\n",
       "       [ 1.89829664e-01, -1.97618132e+00,  7.05892939e-01,\n",
       "         3.96171883e-01],\n",
       "       [ 1.28034050e+00,  3.37848329e-01,  1.10395287e+00,\n",
       "         1.44795564e+00],\n",
       "       [-2.94841818e-01, -5.87763531e-01,  6.49027235e-01,\n",
       "         1.05353673e+00],\n",
       "       [ 2.24968346e+00, -5.87763531e-01,  1.67260991e+00,\n",
       "         1.05353673e+00],\n",
       "       [ 5.53333275e-01, -8.19166497e-01,  6.49027235e-01,\n",
       "         7.90590793e-01],\n",
       "       [ 1.03800476e+00,  5.69251294e-01,  1.10395287e+00,\n",
       "         1.18500970e+00],\n",
       "       [ 1.64384411e+00,  3.37848329e-01,  1.27454998e+00,\n",
       "         7.90590793e-01],\n",
       "       [ 4.32165405e-01, -5.87763531e-01,  5.92161531e-01,\n",
       "         7.90590793e-01],\n",
       "       [ 3.10997534e-01, -1.24957601e-01,  6.49027235e-01,\n",
       "         7.90590793e-01],\n",
       "       [ 6.74501145e-01, -5.87763531e-01,  1.04708716e+00,\n",
       "         1.18500970e+00],\n",
       "       [ 1.64384411e+00, -1.24957601e-01,  1.16081857e+00,\n",
       "         5.27644853e-01],\n",
       "       [ 1.88617985e+00, -5.87763531e-01,  1.33141568e+00,\n",
       "         9.22063763e-01],\n",
       "       [ 2.49201920e+00,  1.72626612e+00,  1.50201279e+00,\n",
       "         1.05353673e+00],\n",
       "       [ 6.74501145e-01, -5.87763531e-01,  1.04708716e+00,\n",
       "         1.31648267e+00],\n",
       "       [ 5.53333275e-01, -5.87763531e-01,  7.62758643e-01,\n",
       "         3.96171883e-01],\n",
       "       [ 3.10997534e-01, -1.05056946e+00,  1.04708716e+00,\n",
       "         2.64698913e-01],\n",
       "       [ 2.24968346e+00, -1.24957601e-01,  1.33141568e+00,\n",
       "         1.44795564e+00],\n",
       "       [ 5.53333275e-01,  8.00654259e-01,  1.04708716e+00,\n",
       "         1.57942861e+00],\n",
       "       [ 6.74501145e-01,  1.06445364e-01,  9.90221459e-01,\n",
       "         7.90590793e-01],\n",
       "       [ 1.89829664e-01, -1.24957601e-01,  5.92161531e-01,\n",
       "         7.90590793e-01],\n",
       "       [ 1.28034050e+00,  1.06445364e-01,  9.33355755e-01,\n",
       "         1.18500970e+00],\n",
       "       [ 1.03800476e+00,  1.06445364e-01,  1.04708716e+00,\n",
       "         1.57942861e+00],\n",
       "       [ 1.28034050e+00,  1.06445364e-01,  7.62758643e-01,\n",
       "         1.44795564e+00],\n",
       "       [-5.25060772e-02, -8.19166497e-01,  7.62758643e-01,\n",
       "         9.22063763e-01],\n",
       "       [ 1.15917263e+00,  3.37848329e-01,  1.21768427e+00,\n",
       "         1.44795564e+00],\n",
       "       [ 1.03800476e+00,  5.69251294e-01,  1.10395287e+00,\n",
       "         1.71090158e+00],\n",
       "       [ 1.03800476e+00, -1.24957601e-01,  8.19624347e-01,\n",
       "         1.44795564e+00],\n",
       "       [ 5.53333275e-01, -1.28197243e+00,  7.05892939e-01,\n",
       "         9.22063763e-01],\n",
       "       [ 7.95669016e-01, -1.24957601e-01,  8.19624347e-01,\n",
       "         1.05353673e+00],\n",
       "       [ 4.32165405e-01,  8.00654259e-01,  9.33355755e-01,\n",
       "         1.44795564e+00],\n",
       "       [ 6.86617933e-02, -1.24957601e-01,  7.62758643e-01,\n",
       "         7.90590793e-01]])"
      ]
     },
     "execution_count": 49,
     "metadata": {},
     "output_type": "execute_result"
    }
   ],
   "source": [
    "x"
   ]
  },
  {
   "cell_type": "markdown",
   "id": "aaf1246d",
   "metadata": {},
   "source": [
    "# Splitting data into Training and Testing"
   ]
  },
  {
   "cell_type": "code",
   "execution_count": 50,
   "id": "7dcefa3c",
   "metadata": {},
   "outputs": [],
   "source": [
    "from sklearn.preprocessing import StandardScaler\n",
    "from sklearn.model_selection import train_test_split\n",
    "from sklearn.pipeline import Pipeline\n",
    "from sklearn.linear_model import LogisticRegression\n",
    "from sklearn.metrics import accuracy_score, confusion_matrix,classification_report\n",
    "from sklearn.svm import SVC\n",
    "import pickle\n",
    "\n",
    "from sklearn.neighbors import KNeighborsClassifier\n",
    "from sklearn.tree import DecisionTreeClassifier\n",
    "from sklearn.ensemble import RandomForestClassifier\n",
    "from sklearn.ensemble import AdaBoostClassifier\n",
    "from sklearn.ensemble import GradientBoostingClassifier\n",
    "from xgboost import XGBClassifier, plot_importance\n",
    "from sklearn.model_selection import GridSearchCV, cross_val_score, StratifiedKFold, learning_curve"
   ]
  },
  {
   "cell_type": "markdown",
   "id": "c9f7d9f2",
   "metadata": {},
   "source": [
    "# Splitting the dataset"
   ]
  },
  {
   "cell_type": "markdown",
   "id": "7e6c2558",
   "metadata": {},
   "source": [
    "- training data 70%\n",
    "- testing data 30%"
   ]
  },
  {
   "cell_type": "code",
   "execution_count": 51,
   "id": "8fc74766",
   "metadata": {},
   "outputs": [
    {
     "data": {
      "text/plain": [
       "((105, 4), (45, 4))"
      ]
     },
     "execution_count": 51,
     "metadata": {},
     "output_type": "execute_result"
    }
   ],
   "source": [
    "X_train, X_test, y_train, y_test = train_test_split(x, y, test_size=0.3, random_state=7)\n",
    "X_train.shape, X_test.shape"
   ]
  },
  {
   "cell_type": "markdown",
   "id": "c5e98a4b",
   "metadata": {},
   "source": [
    "# Building Classifiers"
   ]
  },
  {
   "cell_type": "code",
   "execution_count": 52,
   "id": "85596e2c",
   "metadata": {},
   "outputs": [],
   "source": [
    "accuracy = {}"
   ]
  },
  {
   "cell_type": "markdown",
   "id": "f9f14881",
   "metadata": {},
   "source": [
    "# Logistic Regression"
   ]
  },
  {
   "cell_type": "code",
   "execution_count": 53,
   "id": "44cf8869",
   "metadata": {},
   "outputs": [
    {
     "name": "stdout",
     "output_type": "stream",
     "text": [
      "0.9111111111111111\n"
     ]
    }
   ],
   "source": [
    "lr = LogisticRegression(max_iter=200)\n",
    "lr.fit(X_train, y_train)\n",
    "y_pred1 = lr.predict(X_test)\n",
    "print(accuracy_score(y_test, y_pred1))\n",
    "accuracy[str(lr)] = accuracy_score(y_test, y_pred1)*100"
   ]
  },
  {
   "cell_type": "markdown",
   "id": "49a91f17",
   "metadata": {},
   "source": [
    "# Confusion Matrix "
   ]
  },
  {
   "cell_type": "code",
   "execution_count": 54,
   "id": "d6786c3a",
   "metadata": {},
   "outputs": [
    {
     "data": {
      "image/png": "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",
      "text/plain": [
       "<Figure size 800x500 with 2 Axes>"
      ]
     },
     "metadata": {},
     "output_type": "display_data"
    }
   ],
   "source": [
    "from sklearn.metrics import confusion_matrix\n",
    "cm=confusion_matrix(y_test,y_pred1)\n",
    "class_names = ['Iris-setosa', 'Iris-versicolor', 'Iris-virginica']\n",
    "conf_matrix = pd.DataFrame(data=cm, columns=[f'Predicted: {label}' for label in class_names],\n",
    "index=[f'Actual: {label}' for label in class_names])\n",
    "plt.figure(figsize = (8,5))\n",
    "sns.heatmap(conf_matrix, annot=True,fmt='d',cmap=\"YlGnBu\")\n",
    "plt.title('Confusion Matrix')\n",
    "plt.ylabel('Actual')\n",
    "plt.xlabel('Predicted')\n",
    "plt.show()"
   ]
  },
  {
   "cell_type": "markdown",
   "id": "72daea4a",
   "metadata": {},
   "source": [
    "# Classification Report"
   ]
  },
  {
   "cell_type": "code",
   "execution_count": 55,
   "id": "ade6ee13",
   "metadata": {},
   "outputs": [
    {
     "name": "stdout",
     "output_type": "stream",
     "text": [
      "                 precision    recall  f1-score   support\n",
      "\n",
      "    Iris-setosa       1.00      1.00      1.00        12\n",
      "Iris-versicolor       0.88      0.88      0.88        16\n",
      " Iris-virginica       0.88      0.88      0.88        17\n",
      "\n",
      "       accuracy                           0.91        45\n",
      "      macro avg       0.92      0.92      0.92        45\n",
      "   weighted avg       0.91      0.91      0.91        45\n",
      "\n"
     ]
    }
   ],
   "source": [
    "print(classification_report(y_test,y_pred1))"
   ]
  },
  {
   "cell_type": "markdown",
   "id": "b993f57d",
   "metadata": {},
   "source": [
    "# Predicting"
   ]
  },
  {
   "cell_type": "code",
   "execution_count": 56,
   "id": "96ff1d50",
   "metadata": {},
   "outputs": [],
   "source": [
    "y_pred_test = lr.predict(X_test)\n",
    "test = pd.DataFrame({\n",
    "    'Actual':y_test,\n",
    "    'Y test predicted':y_pred_test\n",
    "})"
   ]
  },
  {
   "cell_type": "code",
   "execution_count": 57,
   "id": "e1f6e416",
   "metadata": {},
   "outputs": [
    {
     "data": {
      "text/html": [
       "<div>\n",
       "<style scoped>\n",
       "    .dataframe tbody tr th:only-of-type {\n",
       "        vertical-align: middle;\n",
       "    }\n",
       "\n",
       "    .dataframe tbody tr th {\n",
       "        vertical-align: top;\n",
       "    }\n",
       "\n",
       "    .dataframe thead th {\n",
       "        text-align: right;\n",
       "    }\n",
       "</style>\n",
       "<table border=\"1\" class=\"dataframe\">\n",
       "  <thead>\n",
       "    <tr style=\"text-align: right;\">\n",
       "      <th></th>\n",
       "      <th>Actual</th>\n",
       "      <th>Y test predicted</th>\n",
       "    </tr>\n",
       "  </thead>\n",
       "  <tbody>\n",
       "    <tr>\n",
       "      <th>36</th>\n",
       "      <td>Iris-setosa</td>\n",
       "      <td>Iris-setosa</td>\n",
       "    </tr>\n",
       "    <tr>\n",
       "      <th>5</th>\n",
       "      <td>Iris-setosa</td>\n",
       "      <td>Iris-setosa</td>\n",
       "    </tr>\n",
       "    <tr>\n",
       "      <th>84</th>\n",
       "      <td>Iris-versicolor</td>\n",
       "      <td>Iris-versicolor</td>\n",
       "    </tr>\n",
       "    <tr>\n",
       "      <th>51</th>\n",
       "      <td>Iris-versicolor</td>\n",
       "      <td>Iris-versicolor</td>\n",
       "    </tr>\n",
       "    <tr>\n",
       "      <th>97</th>\n",
       "      <td>Iris-versicolor</td>\n",
       "      <td>Iris-versicolor</td>\n",
       "    </tr>\n",
       "    <tr>\n",
       "      <th>139</th>\n",
       "      <td>Iris-virginica</td>\n",
       "      <td>Iris-virginica</td>\n",
       "    </tr>\n",
       "    <tr>\n",
       "      <th>80</th>\n",
       "      <td>Iris-versicolor</td>\n",
       "      <td>Iris-versicolor</td>\n",
       "    </tr>\n",
       "    <tr>\n",
       "      <th>106</th>\n",
       "      <td>Iris-virginica</td>\n",
       "      <td>Iris-versicolor</td>\n",
       "    </tr>\n",
       "    <tr>\n",
       "      <th>40</th>\n",
       "      <td>Iris-setosa</td>\n",
       "      <td>Iris-setosa</td>\n",
       "    </tr>\n",
       "    <tr>\n",
       "      <th>63</th>\n",
       "      <td>Iris-versicolor</td>\n",
       "      <td>Iris-versicolor</td>\n",
       "    </tr>\n",
       "  </tbody>\n",
       "</table>\n",
       "</div>"
      ],
      "text/plain": [
       "              Actual Y test predicted\n",
       "36       Iris-setosa      Iris-setosa\n",
       "5        Iris-setosa      Iris-setosa\n",
       "84   Iris-versicolor  Iris-versicolor\n",
       "51   Iris-versicolor  Iris-versicolor\n",
       "97   Iris-versicolor  Iris-versicolor\n",
       "139   Iris-virginica   Iris-virginica\n",
       "80   Iris-versicolor  Iris-versicolor\n",
       "106   Iris-virginica  Iris-versicolor\n",
       "40       Iris-setosa      Iris-setosa\n",
       "63   Iris-versicolor  Iris-versicolor"
      ]
     },
     "execution_count": 57,
     "metadata": {},
     "output_type": "execute_result"
    }
   ],
   "source": [
    "test.sample(10)"
   ]
  },
  {
   "cell_type": "markdown",
   "id": "ba1ab0c6",
   "metadata": {},
   "source": [
    "# DecisionTreeClassifier"
   ]
  },
  {
   "cell_type": "code",
   "execution_count": 58,
   "id": "dd3fcc35",
   "metadata": {},
   "outputs": [
    {
     "data": {
      "text/html": [
       "<style>#sk-container-id-1 {\n",
       "  /* Definition of color scheme common for light and dark mode */\n",
       "  --sklearn-color-text: #000;\n",
       "  --sklearn-color-text-muted: #666;\n",
       "  --sklearn-color-line: gray;\n",
       "  /* Definition of color scheme for unfitted estimators */\n",
       "  --sklearn-color-unfitted-level-0: #fff5e6;\n",
       "  --sklearn-color-unfitted-level-1: #f6e4d2;\n",
       "  --sklearn-color-unfitted-level-2: #ffe0b3;\n",
       "  --sklearn-color-unfitted-level-3: chocolate;\n",
       "  /* Definition of color scheme for fitted estimators */\n",
       "  --sklearn-color-fitted-level-0: #f0f8ff;\n",
       "  --sklearn-color-fitted-level-1: #d4ebff;\n",
       "  --sklearn-color-fitted-level-2: #b3dbfd;\n",
       "  --sklearn-color-fitted-level-3: cornflowerblue;\n",
       "\n",
       "  /* Specific color for light theme */\n",
       "  --sklearn-color-text-on-default-background: var(--sg-text-color, var(--theme-code-foreground, var(--jp-content-font-color1, black)));\n",
       "  --sklearn-color-background: var(--sg-background-color, var(--theme-background, var(--jp-layout-color0, white)));\n",
       "  --sklearn-color-border-box: var(--sg-text-color, var(--theme-code-foreground, var(--jp-content-font-color1, black)));\n",
       "  --sklearn-color-icon: #696969;\n",
       "\n",
       "  @media (prefers-color-scheme: dark) {\n",
       "    /* Redefinition of color scheme for dark theme */\n",
       "    --sklearn-color-text-on-default-background: var(--sg-text-color, var(--theme-code-foreground, var(--jp-content-font-color1, white)));\n",
       "    --sklearn-color-background: var(--sg-background-color, var(--theme-background, var(--jp-layout-color0, #111)));\n",
       "    --sklearn-color-border-box: var(--sg-text-color, var(--theme-code-foreground, var(--jp-content-font-color1, white)));\n",
       "    --sklearn-color-icon: #878787;\n",
       "  }\n",
       "}\n",
       "\n",
       "#sk-container-id-1 {\n",
       "  color: var(--sklearn-color-text);\n",
       "}\n",
       "\n",
       "#sk-container-id-1 pre {\n",
       "  padding: 0;\n",
       "}\n",
       "\n",
       "#sk-container-id-1 input.sk-hidden--visually {\n",
       "  border: 0;\n",
       "  clip: rect(1px 1px 1px 1px);\n",
       "  clip: rect(1px, 1px, 1px, 1px);\n",
       "  height: 1px;\n",
       "  margin: -1px;\n",
       "  overflow: hidden;\n",
       "  padding: 0;\n",
       "  position: absolute;\n",
       "  width: 1px;\n",
       "}\n",
       "\n",
       "#sk-container-id-1 div.sk-dashed-wrapped {\n",
       "  border: 1px dashed var(--sklearn-color-line);\n",
       "  margin: 0 0.4em 0.5em 0.4em;\n",
       "  box-sizing: border-box;\n",
       "  padding-bottom: 0.4em;\n",
       "  background-color: var(--sklearn-color-background);\n",
       "}\n",
       "\n",
       "#sk-container-id-1 div.sk-container {\n",
       "  /* jupyter's `normalize.less` sets `[hidden] { display: none; }`\n",
       "     but bootstrap.min.css set `[hidden] { display: none !important; }`\n",
       "     so we also need the `!important` here to be able to override the\n",
       "     default hidden behavior on the sphinx rendered scikit-learn.org.\n",
       "     See: https://github.com/scikit-learn/scikit-learn/issues/21755 */\n",
       "  display: inline-block !important;\n",
       "  position: relative;\n",
       "}\n",
       "\n",
       "#sk-container-id-1 div.sk-text-repr-fallback {\n",
       "  display: none;\n",
       "}\n",
       "\n",
       "div.sk-parallel-item,\n",
       "div.sk-serial,\n",
       "div.sk-item {\n",
       "  /* draw centered vertical line to link estimators */\n",
       "  background-image: linear-gradient(var(--sklearn-color-text-on-default-background), var(--sklearn-color-text-on-default-background));\n",
       "  background-size: 2px 100%;\n",
       "  background-repeat: no-repeat;\n",
       "  background-position: center center;\n",
       "}\n",
       "\n",
       "/* Parallel-specific style estimator block */\n",
       "\n",
       "#sk-container-id-1 div.sk-parallel-item::after {\n",
       "  content: \"\";\n",
       "  width: 100%;\n",
       "  border-bottom: 2px solid var(--sklearn-color-text-on-default-background);\n",
       "  flex-grow: 1;\n",
       "}\n",
       "\n",
       "#sk-container-id-1 div.sk-parallel {\n",
       "  display: flex;\n",
       "  align-items: stretch;\n",
       "  justify-content: center;\n",
       "  background-color: var(--sklearn-color-background);\n",
       "  position: relative;\n",
       "}\n",
       "\n",
       "#sk-container-id-1 div.sk-parallel-item {\n",
       "  display: flex;\n",
       "  flex-direction: column;\n",
       "}\n",
       "\n",
       "#sk-container-id-1 div.sk-parallel-item:first-child::after {\n",
       "  align-self: flex-end;\n",
       "  width: 50%;\n",
       "}\n",
       "\n",
       "#sk-container-id-1 div.sk-parallel-item:last-child::after {\n",
       "  align-self: flex-start;\n",
       "  width: 50%;\n",
       "}\n",
       "\n",
       "#sk-container-id-1 div.sk-parallel-item:only-child::after {\n",
       "  width: 0;\n",
       "}\n",
       "\n",
       "/* Serial-specific style estimator block */\n",
       "\n",
       "#sk-container-id-1 div.sk-serial {\n",
       "  display: flex;\n",
       "  flex-direction: column;\n",
       "  align-items: center;\n",
       "  background-color: var(--sklearn-color-background);\n",
       "  padding-right: 1em;\n",
       "  padding-left: 1em;\n",
       "}\n",
       "\n",
       "\n",
       "/* Toggleable style: style used for estimator/Pipeline/ColumnTransformer box that is\n",
       "clickable and can be expanded/collapsed.\n",
       "- Pipeline and ColumnTransformer use this feature and define the default style\n",
       "- Estimators will overwrite some part of the style using the `sk-estimator` class\n",
       "*/\n",
       "\n",
       "/* Pipeline and ColumnTransformer style (default) */\n",
       "\n",
       "#sk-container-id-1 div.sk-toggleable {\n",
       "  /* Default theme specific background. It is overwritten whether we have a\n",
       "  specific estimator or a Pipeline/ColumnTransformer */\n",
       "  background-color: var(--sklearn-color-background);\n",
       "}\n",
       "\n",
       "/* Toggleable label */\n",
       "#sk-container-id-1 label.sk-toggleable__label {\n",
       "  cursor: pointer;\n",
       "  display: flex;\n",
       "  width: 100%;\n",
       "  margin-bottom: 0;\n",
       "  padding: 0.5em;\n",
       "  box-sizing: border-box;\n",
       "  text-align: center;\n",
       "  align-items: start;\n",
       "  justify-content: space-between;\n",
       "  gap: 0.5em;\n",
       "}\n",
       "\n",
       "#sk-container-id-1 label.sk-toggleable__label .caption {\n",
       "  font-size: 0.6rem;\n",
       "  font-weight: lighter;\n",
       "  color: var(--sklearn-color-text-muted);\n",
       "}\n",
       "\n",
       "#sk-container-id-1 label.sk-toggleable__label-arrow:before {\n",
       "  /* Arrow on the left of the label */\n",
       "  content: \"▸\";\n",
       "  float: left;\n",
       "  margin-right: 0.25em;\n",
       "  color: var(--sklearn-color-icon);\n",
       "}\n",
       "\n",
       "#sk-container-id-1 label.sk-toggleable__label-arrow:hover:before {\n",
       "  color: var(--sklearn-color-text);\n",
       "}\n",
       "\n",
       "/* Toggleable content - dropdown */\n",
       "\n",
       "#sk-container-id-1 div.sk-toggleable__content {\n",
       "  max-height: 0;\n",
       "  max-width: 0;\n",
       "  overflow: hidden;\n",
       "  text-align: left;\n",
       "  /* unfitted */\n",
       "  background-color: var(--sklearn-color-unfitted-level-0);\n",
       "}\n",
       "\n",
       "#sk-container-id-1 div.sk-toggleable__content.fitted {\n",
       "  /* fitted */\n",
       "  background-color: var(--sklearn-color-fitted-level-0);\n",
       "}\n",
       "\n",
       "#sk-container-id-1 div.sk-toggleable__content pre {\n",
       "  margin: 0.2em;\n",
       "  border-radius: 0.25em;\n",
       "  color: var(--sklearn-color-text);\n",
       "  /* unfitted */\n",
       "  background-color: var(--sklearn-color-unfitted-level-0);\n",
       "}\n",
       "\n",
       "#sk-container-id-1 div.sk-toggleable__content.fitted pre {\n",
       "  /* unfitted */\n",
       "  background-color: var(--sklearn-color-fitted-level-0);\n",
       "}\n",
       "\n",
       "#sk-container-id-1 input.sk-toggleable__control:checked~div.sk-toggleable__content {\n",
       "  /* Expand drop-down */\n",
       "  max-height: 200px;\n",
       "  max-width: 100%;\n",
       "  overflow: auto;\n",
       "}\n",
       "\n",
       "#sk-container-id-1 input.sk-toggleable__control:checked~label.sk-toggleable__label-arrow:before {\n",
       "  content: \"▾\";\n",
       "}\n",
       "\n",
       "/* Pipeline/ColumnTransformer-specific style */\n",
       "\n",
       "#sk-container-id-1 div.sk-label input.sk-toggleable__control:checked~label.sk-toggleable__label {\n",
       "  color: var(--sklearn-color-text);\n",
       "  background-color: var(--sklearn-color-unfitted-level-2);\n",
       "}\n",
       "\n",
       "#sk-container-id-1 div.sk-label.fitted input.sk-toggleable__control:checked~label.sk-toggleable__label {\n",
       "  background-color: var(--sklearn-color-fitted-level-2);\n",
       "}\n",
       "\n",
       "/* Estimator-specific style */\n",
       "\n",
       "/* Colorize estimator box */\n",
       "#sk-container-id-1 div.sk-estimator input.sk-toggleable__control:checked~label.sk-toggleable__label {\n",
       "  /* unfitted */\n",
       "  background-color: var(--sklearn-color-unfitted-level-2);\n",
       "}\n",
       "\n",
       "#sk-container-id-1 div.sk-estimator.fitted input.sk-toggleable__control:checked~label.sk-toggleable__label {\n",
       "  /* fitted */\n",
       "  background-color: var(--sklearn-color-fitted-level-2);\n",
       "}\n",
       "\n",
       "#sk-container-id-1 div.sk-label label.sk-toggleable__label,\n",
       "#sk-container-id-1 div.sk-label label {\n",
       "  /* The background is the default theme color */\n",
       "  color: var(--sklearn-color-text-on-default-background);\n",
       "}\n",
       "\n",
       "/* On hover, darken the color of the background */\n",
       "#sk-container-id-1 div.sk-label:hover label.sk-toggleable__label {\n",
       "  color: var(--sklearn-color-text);\n",
       "  background-color: var(--sklearn-color-unfitted-level-2);\n",
       "}\n",
       "\n",
       "/* Label box, darken color on hover, fitted */\n",
       "#sk-container-id-1 div.sk-label.fitted:hover label.sk-toggleable__label.fitted {\n",
       "  color: var(--sklearn-color-text);\n",
       "  background-color: var(--sklearn-color-fitted-level-2);\n",
       "}\n",
       "\n",
       "/* Estimator label */\n",
       "\n",
       "#sk-container-id-1 div.sk-label label {\n",
       "  font-family: monospace;\n",
       "  font-weight: bold;\n",
       "  display: inline-block;\n",
       "  line-height: 1.2em;\n",
       "}\n",
       "\n",
       "#sk-container-id-1 div.sk-label-container {\n",
       "  text-align: center;\n",
       "}\n",
       "\n",
       "/* Estimator-specific */\n",
       "#sk-container-id-1 div.sk-estimator {\n",
       "  font-family: monospace;\n",
       "  border: 1px dotted var(--sklearn-color-border-box);\n",
       "  border-radius: 0.25em;\n",
       "  box-sizing: border-box;\n",
       "  margin-bottom: 0.5em;\n",
       "  /* unfitted */\n",
       "  background-color: var(--sklearn-color-unfitted-level-0);\n",
       "}\n",
       "\n",
       "#sk-container-id-1 div.sk-estimator.fitted {\n",
       "  /* fitted */\n",
       "  background-color: var(--sklearn-color-fitted-level-0);\n",
       "}\n",
       "\n",
       "/* on hover */\n",
       "#sk-container-id-1 div.sk-estimator:hover {\n",
       "  /* unfitted */\n",
       "  background-color: var(--sklearn-color-unfitted-level-2);\n",
       "}\n",
       "\n",
       "#sk-container-id-1 div.sk-estimator.fitted:hover {\n",
       "  /* fitted */\n",
       "  background-color: var(--sklearn-color-fitted-level-2);\n",
       "}\n",
       "\n",
       "/* Specification for estimator info (e.g. \"i\" and \"?\") */\n",
       "\n",
       "/* Common style for \"i\" and \"?\" */\n",
       "\n",
       ".sk-estimator-doc-link,\n",
       "a:link.sk-estimator-doc-link,\n",
       "a:visited.sk-estimator-doc-link {\n",
       "  float: right;\n",
       "  font-size: smaller;\n",
       "  line-height: 1em;\n",
       "  font-family: monospace;\n",
       "  background-color: var(--sklearn-color-background);\n",
       "  border-radius: 1em;\n",
       "  height: 1em;\n",
       "  width: 1em;\n",
       "  text-decoration: none !important;\n",
       "  margin-left: 0.5em;\n",
       "  text-align: center;\n",
       "  /* unfitted */\n",
       "  border: var(--sklearn-color-unfitted-level-1) 1pt solid;\n",
       "  color: var(--sklearn-color-unfitted-level-1);\n",
       "}\n",
       "\n",
       ".sk-estimator-doc-link.fitted,\n",
       "a:link.sk-estimator-doc-link.fitted,\n",
       "a:visited.sk-estimator-doc-link.fitted {\n",
       "  /* fitted */\n",
       "  border: var(--sklearn-color-fitted-level-1) 1pt solid;\n",
       "  color: var(--sklearn-color-fitted-level-1);\n",
       "}\n",
       "\n",
       "/* On hover */\n",
       "div.sk-estimator:hover .sk-estimator-doc-link:hover,\n",
       ".sk-estimator-doc-link:hover,\n",
       "div.sk-label-container:hover .sk-estimator-doc-link:hover,\n",
       ".sk-estimator-doc-link:hover {\n",
       "  /* unfitted */\n",
       "  background-color: var(--sklearn-color-unfitted-level-3);\n",
       "  color: var(--sklearn-color-background);\n",
       "  text-decoration: none;\n",
       "}\n",
       "\n",
       "div.sk-estimator.fitted:hover .sk-estimator-doc-link.fitted:hover,\n",
       ".sk-estimator-doc-link.fitted:hover,\n",
       "div.sk-label-container:hover .sk-estimator-doc-link.fitted:hover,\n",
       ".sk-estimator-doc-link.fitted:hover {\n",
       "  /* fitted */\n",
       "  background-color: var(--sklearn-color-fitted-level-3);\n",
       "  color: var(--sklearn-color-background);\n",
       "  text-decoration: none;\n",
       "}\n",
       "\n",
       "/* Span, style for the box shown on hovering the info icon */\n",
       ".sk-estimator-doc-link span {\n",
       "  display: none;\n",
       "  z-index: 9999;\n",
       "  position: relative;\n",
       "  font-weight: normal;\n",
       "  right: .2ex;\n",
       "  padding: .5ex;\n",
       "  margin: .5ex;\n",
       "  width: min-content;\n",
       "  min-width: 20ex;\n",
       "  max-width: 50ex;\n",
       "  color: var(--sklearn-color-text);\n",
       "  box-shadow: 2pt 2pt 4pt #999;\n",
       "  /* unfitted */\n",
       "  background: var(--sklearn-color-unfitted-level-0);\n",
       "  border: .5pt solid var(--sklearn-color-unfitted-level-3);\n",
       "}\n",
       "\n",
       ".sk-estimator-doc-link.fitted span {\n",
       "  /* fitted */\n",
       "  background: var(--sklearn-color-fitted-level-0);\n",
       "  border: var(--sklearn-color-fitted-level-3);\n",
       "}\n",
       "\n",
       ".sk-estimator-doc-link:hover span {\n",
       "  display: block;\n",
       "}\n",
       "\n",
       "/* \"?\"-specific style due to the `<a>` HTML tag */\n",
       "\n",
       "#sk-container-id-1 a.estimator_doc_link {\n",
       "  float: right;\n",
       "  font-size: 1rem;\n",
       "  line-height: 1em;\n",
       "  font-family: monospace;\n",
       "  background-color: var(--sklearn-color-background);\n",
       "  border-radius: 1rem;\n",
       "  height: 1rem;\n",
       "  width: 1rem;\n",
       "  text-decoration: none;\n",
       "  /* unfitted */\n",
       "  color: var(--sklearn-color-unfitted-level-1);\n",
       "  border: var(--sklearn-color-unfitted-level-1) 1pt solid;\n",
       "}\n",
       "\n",
       "#sk-container-id-1 a.estimator_doc_link.fitted {\n",
       "  /* fitted */\n",
       "  border: var(--sklearn-color-fitted-level-1) 1pt solid;\n",
       "  color: var(--sklearn-color-fitted-level-1);\n",
       "}\n",
       "\n",
       "/* On hover */\n",
       "#sk-container-id-1 a.estimator_doc_link:hover {\n",
       "  /* unfitted */\n",
       "  background-color: var(--sklearn-color-unfitted-level-3);\n",
       "  color: var(--sklearn-color-background);\n",
       "  text-decoration: none;\n",
       "}\n",
       "\n",
       "#sk-container-id-1 a.estimator_doc_link.fitted:hover {\n",
       "  /* fitted */\n",
       "  background-color: var(--sklearn-color-fitted-level-3);\n",
       "}\n",
       "</style><div id=\"sk-container-id-1\" class=\"sk-top-container\"><div class=\"sk-text-repr-fallback\"><pre>DecisionTreeClassifier(max_depth=3)</pre><b>In a Jupyter environment, please rerun this cell to show the HTML representation or trust the notebook. <br />On GitHub, the HTML representation is unable to render, please try loading this page with nbviewer.org.</b></div><div class=\"sk-container\" hidden><div class=\"sk-item\"><div class=\"sk-estimator fitted sk-toggleable\"><input class=\"sk-toggleable__control sk-hidden--visually\" id=\"sk-estimator-id-1\" type=\"checkbox\" checked><label for=\"sk-estimator-id-1\" class=\"sk-toggleable__label fitted sk-toggleable__label-arrow\"><div><div>DecisionTreeClassifier</div></div><div><a class=\"sk-estimator-doc-link fitted\" rel=\"noreferrer\" target=\"_blank\" href=\"https://scikit-learn.org/1.6/modules/generated/sklearn.tree.DecisionTreeClassifier.html\">?<span>Documentation for DecisionTreeClassifier</span></a><span class=\"sk-estimator-doc-link fitted\">i<span>Fitted</span></span></div></label><div class=\"sk-toggleable__content fitted\"><pre>DecisionTreeClassifier(max_depth=3)</pre></div> </div></div></div></div>"
      ],
      "text/plain": [
       "DecisionTreeClassifier(max_depth=3)"
      ]
     },
     "execution_count": 58,
     "metadata": {},
     "output_type": "execute_result"
    }
   ],
   "source": [
    "dtc = DecisionTreeClassifier(max_depth=3)\n",
    "dtc.fit(X_train, y_train)"
   ]
  },
  {
   "cell_type": "code",
   "execution_count": 59,
   "id": "ba4a6be0-1f82-4d89-b92f-b7b43bebf7a0",
   "metadata": {},
   "outputs": [],
   "source": [
    "y_pred2 = dtc.predict(X_test)"
   ]
  },
  {
   "cell_type": "code",
   "execution_count": 60,
   "id": "6e12583b-e873-47d4-a29b-ad3c0905c969",
   "metadata": {},
   "outputs": [
    {
     "name": "stdout",
     "output_type": "stream",
     "text": [
      "0.8888888888888888\n"
     ]
    }
   ],
   "source": [
    "print(accuracy_score(y_test, y_pred2))\n",
    "accuracy[str(dtc)] = accuracy_score(y_test, y_pred2)*100"
   ]
  },
  {
   "cell_type": "code",
   "execution_count": 61,
   "id": "9af4d63b",
   "metadata": {},
   "outputs": [
    {
     "data": {
      "image/png": "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",
      "text/plain": [
       "<Figure size 800x500 with 2 Axes>"
      ]
     },
     "metadata": {},
     "output_type": "display_data"
    }
   ],
   "source": [
    "from sklearn.metrics import confusion_matrix\n",
    "cm=confusion_matrix(y_test,y_pred2)\n",
    "class_names = ['Iris-setosa', 'Iris-versicolor', 'Iris-virginica']\n",
    "conf_matrix = pd.DataFrame(data=cm, columns=[f'Predicted: {label}' for label in class_names],index=[f'Actual: {label}' for label in class_names])\n",
    "plt.figure(figsize = (8,5))\n",
    "sns.heatmap(conf_matrix, annot=True,fmt='d',cmap=\"YlGnBu\")\n",
    "plt.ylabel('Actual')\n",
    "plt.xlabel('Predicted')\n",
    "plt.show()"
   ]
  },
  {
   "cell_type": "code",
   "execution_count": 62,
   "id": "4eadef0c",
   "metadata": {},
   "outputs": [
    {
     "name": "stdout",
     "output_type": "stream",
     "text": [
      "                 precision    recall  f1-score   support\n",
      "\n",
      "    Iris-setosa       1.00      1.00      1.00        12\n",
      "Iris-versicolor       0.76      1.00      0.86        16\n",
      " Iris-virginica       1.00      0.71      0.83        17\n",
      "\n",
      "       accuracy                           0.89        45\n",
      "      macro avg       0.92      0.90      0.90        45\n",
      "   weighted avg       0.92      0.89      0.89        45\n",
      "\n"
     ]
    }
   ],
   "source": [
    "print(classification_report(y_test,y_pred2))"
   ]
  },
  {
   "cell_type": "code",
   "execution_count": 63,
   "id": "03ca90a5",
   "metadata": {},
   "outputs": [],
   "source": [
    "y_pred_test = dtc.predict(X_test)\n",
    "test = pd.DataFrame({\n",
    "    'Actual':y_test,\n",
    "    'Y test predicted':y_pred_test\n",
    "})"
   ]
  },
  {
   "cell_type": "code",
   "execution_count": 64,
   "id": "0f93636d",
   "metadata": {},
   "outputs": [
    {
     "data": {
      "text/html": [
       "<div>\n",
       "<style scoped>\n",
       "    .dataframe tbody tr th:only-of-type {\n",
       "        vertical-align: middle;\n",
       "    }\n",
       "\n",
       "    .dataframe tbody tr th {\n",
       "        vertical-align: top;\n",
       "    }\n",
       "\n",
       "    .dataframe thead th {\n",
       "        text-align: right;\n",
       "    }\n",
       "</style>\n",
       "<table border=\"1\" class=\"dataframe\">\n",
       "  <thead>\n",
       "    <tr style=\"text-align: right;\">\n",
       "      <th></th>\n",
       "      <th>Actual</th>\n",
       "      <th>Y test predicted</th>\n",
       "    </tr>\n",
       "  </thead>\n",
       "  <tbody>\n",
       "    <tr>\n",
       "      <th>149</th>\n",
       "      <td>Iris-virginica</td>\n",
       "      <td>Iris-virginica</td>\n",
       "    </tr>\n",
       "    <tr>\n",
       "      <th>84</th>\n",
       "      <td>Iris-versicolor</td>\n",
       "      <td>Iris-versicolor</td>\n",
       "    </tr>\n",
       "    <tr>\n",
       "      <th>40</th>\n",
       "      <td>Iris-setosa</td>\n",
       "      <td>Iris-setosa</td>\n",
       "    </tr>\n",
       "  </tbody>\n",
       "</table>\n",
       "</div>"
      ],
      "text/plain": [
       "              Actual Y test predicted\n",
       "149   Iris-virginica   Iris-virginica\n",
       "84   Iris-versicolor  Iris-versicolor\n",
       "40       Iris-setosa      Iris-setosa"
      ]
     },
     "execution_count": 64,
     "metadata": {},
     "output_type": "execute_result"
    }
   ],
   "source": [
    "test.head(3)"
   ]
  },
  {
   "cell_type": "code",
   "execution_count": 65,
   "id": "b62b22d0-fc98-4436-a27f-7685b6c19b61",
   "metadata": {},
   "outputs": [
    {
     "data": {
      "image/png": "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",
      "text/plain": [
       "<Figure size 800x500 with 2 Axes>"
      ]
     },
     "metadata": {},
     "output_type": "display_data"
    }
   ],
   "source": [
    "from sklearn.metrics import confusion_matrix\n",
    "cm = confusion_matrix(y_test, y_pred2)\n",
    "class_names = ['Iris-setosa', 'Iris-versicolor', 'Iris-virginica']\n",
    "conf_matrix = pd.DataFrame(data=cm, columns=[f'Predicted: {label}' for label in class_names],\n",
    "    index=[f'Actual: {label}' for label in class_names])\n",
    "plt.figure(figsize=(8, 5))\n",
    "sns.heatmap(conf_matrix, annot=True, fmt='d', cmap=\"YlGnBu\")\n",
    "plt.ylabel('Actual')\n",
    "plt.xlabel('Predicted')\n",
    "plt.title('Decision Tree Confusion Matrix')\n",
    "plt.show()"
   ]
  },
  {
   "cell_type": "code",
   "execution_count": 66,
   "id": "aeab5bc1",
   "metadata": {},
   "outputs": [
    {
     "name": "stdout",
     "output_type": "stream",
     "text": [
      "0.9111111111111111\n"
     ]
    }
   ],
   "source": [
    "rfc = RandomForestClassifier(max_depth=5)\n",
    "rfc.fit(X_train, y_train)\n",
    "y_pred3 = rfc.predict(X_test)\n",
    "print(accuracy_score(y_test, y_pred3))\n",
    "accuracy[str(rfc)] = accuracy_score(y_test, y_pred3)*100"
   ]
  },
  {
   "cell_type": "code",
   "execution_count": 67,
   "id": "1cfddb5b",
   "metadata": {},
   "outputs": [
    {
     "data": {
      "image/png": "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",
      "text/plain": [
       "<Figure size 800x500 with 2 Axes>"
      ]
     },
     "metadata": {},
     "output_type": "display_data"
    }
   ],
   "source": [
    "from sklearn.metrics import confusion_matrix\n",
    "cm=confusion_matrix(y_test,y_pred3)\n",
    "class_names = ['Iris-setosa', 'Iris-versicolor', 'Iris-virginica']\n",
    "conf_matrix = pd.DataFrame(data=cm, columns=[f'Predicted: {label}' for label in class_names],index=[f'Actual: {label}' for label in class_names])\n",
    "plt.figure(figsize = (8,5))\n",
    "sns.heatmap(conf_matrix, annot=True,fmt='d',cmap=\"YlGnBu\")\n",
    "plt.ylabel('Actual')\n",
    "plt.xlabel('Predicted')\n",
    "plt.show()"
   ]
  },
  {
   "cell_type": "code",
   "execution_count": 68,
   "id": "f26e1cff",
   "metadata": {},
   "outputs": [
    {
     "name": "stdout",
     "output_type": "stream",
     "text": [
      "0.8666666666666667\n"
     ]
    }
   ],
   "source": [
    "gbc = GradientBoostingClassifier(n_estimators=100, learning_rate=0.1)\n",
    "gbc.fit(X_train, y_train)\n",
    "y_pred4 = gbc.predict(X_test)\n",
    "print(accuracy_score(y_test, y_pred4))\n",
    "accuracy[str(gbc)] = accuracy_score(y_test, y_pred4)*100"
   ]
  },
  {
   "cell_type": "code",
   "execution_count": 69,
   "id": "a120543c",
   "metadata": {},
   "outputs": [
    {
     "data": {
      "image/png": "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",
      "text/plain": [
       "<Figure size 800x500 with 2 Axes>"
      ]
     },
     "metadata": {},
     "output_type": "display_data"
    }
   ],
   "source": [
    "from sklearn.metrics import confusion_matrix\n",
    "cm=confusion_matrix(y_test,y_pred4)\n",
    "class_names = ['Iris-setosa', 'Iris-versicolor', 'Iris-virginica']\n",
    "conf_matrix = pd.DataFrame(data=cm, columns=[f'Predicted: {label}' for label in class_names],index=[f'Actual: {label}' for label in class_names])\n",
    "plt.figure(figsize = (8,5))\n",
    "sns.heatmap(conf_matrix, annot=True,fmt='d',cmap=\"YlGnBu\")\n",
    "plt.ylabel('Actual')\n",
    "plt.xlabel('Predicted')\n",
    "plt.show()"
   ]
  },
  {
   "cell_type": "markdown",
   "id": "32e0d099",
   "metadata": {},
   "source": [
    "# SVM "
   ]
  },
  {
   "cell_type": "code",
   "execution_count": 70,
   "id": "2dabb7bd",
   "metadata": {},
   "outputs": [
    {
     "data": {
      "text/html": [
       "<style>#sk-container-id-2 {\n",
       "  /* Definition of color scheme common for light and dark mode */\n",
       "  --sklearn-color-text: #000;\n",
       "  --sklearn-color-text-muted: #666;\n",
       "  --sklearn-color-line: gray;\n",
       "  /* Definition of color scheme for unfitted estimators */\n",
       "  --sklearn-color-unfitted-level-0: #fff5e6;\n",
       "  --sklearn-color-unfitted-level-1: #f6e4d2;\n",
       "  --sklearn-color-unfitted-level-2: #ffe0b3;\n",
       "  --sklearn-color-unfitted-level-3: chocolate;\n",
       "  /* Definition of color scheme for fitted estimators */\n",
       "  --sklearn-color-fitted-level-0: #f0f8ff;\n",
       "  --sklearn-color-fitted-level-1: #d4ebff;\n",
       "  --sklearn-color-fitted-level-2: #b3dbfd;\n",
       "  --sklearn-color-fitted-level-3: cornflowerblue;\n",
       "\n",
       "  /* Specific color for light theme */\n",
       "  --sklearn-color-text-on-default-background: var(--sg-text-color, var(--theme-code-foreground, var(--jp-content-font-color1, black)));\n",
       "  --sklearn-color-background: var(--sg-background-color, var(--theme-background, var(--jp-layout-color0, white)));\n",
       "  --sklearn-color-border-box: var(--sg-text-color, var(--theme-code-foreground, var(--jp-content-font-color1, black)));\n",
       "  --sklearn-color-icon: #696969;\n",
       "\n",
       "  @media (prefers-color-scheme: dark) {\n",
       "    /* Redefinition of color scheme for dark theme */\n",
       "    --sklearn-color-text-on-default-background: var(--sg-text-color, var(--theme-code-foreground, var(--jp-content-font-color1, white)));\n",
       "    --sklearn-color-background: var(--sg-background-color, var(--theme-background, var(--jp-layout-color0, #111)));\n",
       "    --sklearn-color-border-box: var(--sg-text-color, var(--theme-code-foreground, var(--jp-content-font-color1, white)));\n",
       "    --sklearn-color-icon: #878787;\n",
       "  }\n",
       "}\n",
       "\n",
       "#sk-container-id-2 {\n",
       "  color: var(--sklearn-color-text);\n",
       "}\n",
       "\n",
       "#sk-container-id-2 pre {\n",
       "  padding: 0;\n",
       "}\n",
       "\n",
       "#sk-container-id-2 input.sk-hidden--visually {\n",
       "  border: 0;\n",
       "  clip: rect(1px 1px 1px 1px);\n",
       "  clip: rect(1px, 1px, 1px, 1px);\n",
       "  height: 1px;\n",
       "  margin: -1px;\n",
       "  overflow: hidden;\n",
       "  padding: 0;\n",
       "  position: absolute;\n",
       "  width: 1px;\n",
       "}\n",
       "\n",
       "#sk-container-id-2 div.sk-dashed-wrapped {\n",
       "  border: 1px dashed var(--sklearn-color-line);\n",
       "  margin: 0 0.4em 0.5em 0.4em;\n",
       "  box-sizing: border-box;\n",
       "  padding-bottom: 0.4em;\n",
       "  background-color: var(--sklearn-color-background);\n",
       "}\n",
       "\n",
       "#sk-container-id-2 div.sk-container {\n",
       "  /* jupyter's `normalize.less` sets `[hidden] { display: none; }`\n",
       "     but bootstrap.min.css set `[hidden] { display: none !important; }`\n",
       "     so we also need the `!important` here to be able to override the\n",
       "     default hidden behavior on the sphinx rendered scikit-learn.org.\n",
       "     See: https://github.com/scikit-learn/scikit-learn/issues/21755 */\n",
       "  display: inline-block !important;\n",
       "  position: relative;\n",
       "}\n",
       "\n",
       "#sk-container-id-2 div.sk-text-repr-fallback {\n",
       "  display: none;\n",
       "}\n",
       "\n",
       "div.sk-parallel-item,\n",
       "div.sk-serial,\n",
       "div.sk-item {\n",
       "  /* draw centered vertical line to link estimators */\n",
       "  background-image: linear-gradient(var(--sklearn-color-text-on-default-background), var(--sklearn-color-text-on-default-background));\n",
       "  background-size: 2px 100%;\n",
       "  background-repeat: no-repeat;\n",
       "  background-position: center center;\n",
       "}\n",
       "\n",
       "/* Parallel-specific style estimator block */\n",
       "\n",
       "#sk-container-id-2 div.sk-parallel-item::after {\n",
       "  content: \"\";\n",
       "  width: 100%;\n",
       "  border-bottom: 2px solid var(--sklearn-color-text-on-default-background);\n",
       "  flex-grow: 1;\n",
       "}\n",
       "\n",
       "#sk-container-id-2 div.sk-parallel {\n",
       "  display: flex;\n",
       "  align-items: stretch;\n",
       "  justify-content: center;\n",
       "  background-color: var(--sklearn-color-background);\n",
       "  position: relative;\n",
       "}\n",
       "\n",
       "#sk-container-id-2 div.sk-parallel-item {\n",
       "  display: flex;\n",
       "  flex-direction: column;\n",
       "}\n",
       "\n",
       "#sk-container-id-2 div.sk-parallel-item:first-child::after {\n",
       "  align-self: flex-end;\n",
       "  width: 50%;\n",
       "}\n",
       "\n",
       "#sk-container-id-2 div.sk-parallel-item:last-child::after {\n",
       "  align-self: flex-start;\n",
       "  width: 50%;\n",
       "}\n",
       "\n",
       "#sk-container-id-2 div.sk-parallel-item:only-child::after {\n",
       "  width: 0;\n",
       "}\n",
       "\n",
       "/* Serial-specific style estimator block */\n",
       "\n",
       "#sk-container-id-2 div.sk-serial {\n",
       "  display: flex;\n",
       "  flex-direction: column;\n",
       "  align-items: center;\n",
       "  background-color: var(--sklearn-color-background);\n",
       "  padding-right: 1em;\n",
       "  padding-left: 1em;\n",
       "}\n",
       "\n",
       "\n",
       "/* Toggleable style: style used for estimator/Pipeline/ColumnTransformer box that is\n",
       "clickable and can be expanded/collapsed.\n",
       "- Pipeline and ColumnTransformer use this feature and define the default style\n",
       "- Estimators will overwrite some part of the style using the `sk-estimator` class\n",
       "*/\n",
       "\n",
       "/* Pipeline and ColumnTransformer style (default) */\n",
       "\n",
       "#sk-container-id-2 div.sk-toggleable {\n",
       "  /* Default theme specific background. It is overwritten whether we have a\n",
       "  specific estimator or a Pipeline/ColumnTransformer */\n",
       "  background-color: var(--sklearn-color-background);\n",
       "}\n",
       "\n",
       "/* Toggleable label */\n",
       "#sk-container-id-2 label.sk-toggleable__label {\n",
       "  cursor: pointer;\n",
       "  display: flex;\n",
       "  width: 100%;\n",
       "  margin-bottom: 0;\n",
       "  padding: 0.5em;\n",
       "  box-sizing: border-box;\n",
       "  text-align: center;\n",
       "  align-items: start;\n",
       "  justify-content: space-between;\n",
       "  gap: 0.5em;\n",
       "}\n",
       "\n",
       "#sk-container-id-2 label.sk-toggleable__label .caption {\n",
       "  font-size: 0.6rem;\n",
       "  font-weight: lighter;\n",
       "  color: var(--sklearn-color-text-muted);\n",
       "}\n",
       "\n",
       "#sk-container-id-2 label.sk-toggleable__label-arrow:before {\n",
       "  /* Arrow on the left of the label */\n",
       "  content: \"▸\";\n",
       "  float: left;\n",
       "  margin-right: 0.25em;\n",
       "  color: var(--sklearn-color-icon);\n",
       "}\n",
       "\n",
       "#sk-container-id-2 label.sk-toggleable__label-arrow:hover:before {\n",
       "  color: var(--sklearn-color-text);\n",
       "}\n",
       "\n",
       "/* Toggleable content - dropdown */\n",
       "\n",
       "#sk-container-id-2 div.sk-toggleable__content {\n",
       "  max-height: 0;\n",
       "  max-width: 0;\n",
       "  overflow: hidden;\n",
       "  text-align: left;\n",
       "  /* unfitted */\n",
       "  background-color: var(--sklearn-color-unfitted-level-0);\n",
       "}\n",
       "\n",
       "#sk-container-id-2 div.sk-toggleable__content.fitted {\n",
       "  /* fitted */\n",
       "  background-color: var(--sklearn-color-fitted-level-0);\n",
       "}\n",
       "\n",
       "#sk-container-id-2 div.sk-toggleable__content pre {\n",
       "  margin: 0.2em;\n",
       "  border-radius: 0.25em;\n",
       "  color: var(--sklearn-color-text);\n",
       "  /* unfitted */\n",
       "  background-color: var(--sklearn-color-unfitted-level-0);\n",
       "}\n",
       "\n",
       "#sk-container-id-2 div.sk-toggleable__content.fitted pre {\n",
       "  /* unfitted */\n",
       "  background-color: var(--sklearn-color-fitted-level-0);\n",
       "}\n",
       "\n",
       "#sk-container-id-2 input.sk-toggleable__control:checked~div.sk-toggleable__content {\n",
       "  /* Expand drop-down */\n",
       "  max-height: 200px;\n",
       "  max-width: 100%;\n",
       "  overflow: auto;\n",
       "}\n",
       "\n",
       "#sk-container-id-2 input.sk-toggleable__control:checked~label.sk-toggleable__label-arrow:before {\n",
       "  content: \"▾\";\n",
       "}\n",
       "\n",
       "/* Pipeline/ColumnTransformer-specific style */\n",
       "\n",
       "#sk-container-id-2 div.sk-label input.sk-toggleable__control:checked~label.sk-toggleable__label {\n",
       "  color: var(--sklearn-color-text);\n",
       "  background-color: var(--sklearn-color-unfitted-level-2);\n",
       "}\n",
       "\n",
       "#sk-container-id-2 div.sk-label.fitted input.sk-toggleable__control:checked~label.sk-toggleable__label {\n",
       "  background-color: var(--sklearn-color-fitted-level-2);\n",
       "}\n",
       "\n",
       "/* Estimator-specific style */\n",
       "\n",
       "/* Colorize estimator box */\n",
       "#sk-container-id-2 div.sk-estimator input.sk-toggleable__control:checked~label.sk-toggleable__label {\n",
       "  /* unfitted */\n",
       "  background-color: var(--sklearn-color-unfitted-level-2);\n",
       "}\n",
       "\n",
       "#sk-container-id-2 div.sk-estimator.fitted input.sk-toggleable__control:checked~label.sk-toggleable__label {\n",
       "  /* fitted */\n",
       "  background-color: var(--sklearn-color-fitted-level-2);\n",
       "}\n",
       "\n",
       "#sk-container-id-2 div.sk-label label.sk-toggleable__label,\n",
       "#sk-container-id-2 div.sk-label label {\n",
       "  /* The background is the default theme color */\n",
       "  color: var(--sklearn-color-text-on-default-background);\n",
       "}\n",
       "\n",
       "/* On hover, darken the color of the background */\n",
       "#sk-container-id-2 div.sk-label:hover label.sk-toggleable__label {\n",
       "  color: var(--sklearn-color-text);\n",
       "  background-color: var(--sklearn-color-unfitted-level-2);\n",
       "}\n",
       "\n",
       "/* Label box, darken color on hover, fitted */\n",
       "#sk-container-id-2 div.sk-label.fitted:hover label.sk-toggleable__label.fitted {\n",
       "  color: var(--sklearn-color-text);\n",
       "  background-color: var(--sklearn-color-fitted-level-2);\n",
       "}\n",
       "\n",
       "/* Estimator label */\n",
       "\n",
       "#sk-container-id-2 div.sk-label label {\n",
       "  font-family: monospace;\n",
       "  font-weight: bold;\n",
       "  display: inline-block;\n",
       "  line-height: 1.2em;\n",
       "}\n",
       "\n",
       "#sk-container-id-2 div.sk-label-container {\n",
       "  text-align: center;\n",
       "}\n",
       "\n",
       "/* Estimator-specific */\n",
       "#sk-container-id-2 div.sk-estimator {\n",
       "  font-family: monospace;\n",
       "  border: 1px dotted var(--sklearn-color-border-box);\n",
       "  border-radius: 0.25em;\n",
       "  box-sizing: border-box;\n",
       "  margin-bottom: 0.5em;\n",
       "  /* unfitted */\n",
       "  background-color: var(--sklearn-color-unfitted-level-0);\n",
       "}\n",
       "\n",
       "#sk-container-id-2 div.sk-estimator.fitted {\n",
       "  /* fitted */\n",
       "  background-color: var(--sklearn-color-fitted-level-0);\n",
       "}\n",
       "\n",
       "/* on hover */\n",
       "#sk-container-id-2 div.sk-estimator:hover {\n",
       "  /* unfitted */\n",
       "  background-color: var(--sklearn-color-unfitted-level-2);\n",
       "}\n",
       "\n",
       "#sk-container-id-2 div.sk-estimator.fitted:hover {\n",
       "  /* fitted */\n",
       "  background-color: var(--sklearn-color-fitted-level-2);\n",
       "}\n",
       "\n",
       "/* Specification for estimator info (e.g. \"i\" and \"?\") */\n",
       "\n",
       "/* Common style for \"i\" and \"?\" */\n",
       "\n",
       ".sk-estimator-doc-link,\n",
       "a:link.sk-estimator-doc-link,\n",
       "a:visited.sk-estimator-doc-link {\n",
       "  float: right;\n",
       "  font-size: smaller;\n",
       "  line-height: 1em;\n",
       "  font-family: monospace;\n",
       "  background-color: var(--sklearn-color-background);\n",
       "  border-radius: 1em;\n",
       "  height: 1em;\n",
       "  width: 1em;\n",
       "  text-decoration: none !important;\n",
       "  margin-left: 0.5em;\n",
       "  text-align: center;\n",
       "  /* unfitted */\n",
       "  border: var(--sklearn-color-unfitted-level-1) 1pt solid;\n",
       "  color: var(--sklearn-color-unfitted-level-1);\n",
       "}\n",
       "\n",
       ".sk-estimator-doc-link.fitted,\n",
       "a:link.sk-estimator-doc-link.fitted,\n",
       "a:visited.sk-estimator-doc-link.fitted {\n",
       "  /* fitted */\n",
       "  border: var(--sklearn-color-fitted-level-1) 1pt solid;\n",
       "  color: var(--sklearn-color-fitted-level-1);\n",
       "}\n",
       "\n",
       "/* On hover */\n",
       "div.sk-estimator:hover .sk-estimator-doc-link:hover,\n",
       ".sk-estimator-doc-link:hover,\n",
       "div.sk-label-container:hover .sk-estimator-doc-link:hover,\n",
       ".sk-estimator-doc-link:hover {\n",
       "  /* unfitted */\n",
       "  background-color: var(--sklearn-color-unfitted-level-3);\n",
       "  color: var(--sklearn-color-background);\n",
       "  text-decoration: none;\n",
       "}\n",
       "\n",
       "div.sk-estimator.fitted:hover .sk-estimator-doc-link.fitted:hover,\n",
       ".sk-estimator-doc-link.fitted:hover,\n",
       "div.sk-label-container:hover .sk-estimator-doc-link.fitted:hover,\n",
       ".sk-estimator-doc-link.fitted:hover {\n",
       "  /* fitted */\n",
       "  background-color: var(--sklearn-color-fitted-level-3);\n",
       "  color: var(--sklearn-color-background);\n",
       "  text-decoration: none;\n",
       "}\n",
       "\n",
       "/* Span, style for the box shown on hovering the info icon */\n",
       ".sk-estimator-doc-link span {\n",
       "  display: none;\n",
       "  z-index: 9999;\n",
       "  position: relative;\n",
       "  font-weight: normal;\n",
       "  right: .2ex;\n",
       "  padding: .5ex;\n",
       "  margin: .5ex;\n",
       "  width: min-content;\n",
       "  min-width: 20ex;\n",
       "  max-width: 50ex;\n",
       "  color: var(--sklearn-color-text);\n",
       "  box-shadow: 2pt 2pt 4pt #999;\n",
       "  /* unfitted */\n",
       "  background: var(--sklearn-color-unfitted-level-0);\n",
       "  border: .5pt solid var(--sklearn-color-unfitted-level-3);\n",
       "}\n",
       "\n",
       ".sk-estimator-doc-link.fitted span {\n",
       "  /* fitted */\n",
       "  background: var(--sklearn-color-fitted-level-0);\n",
       "  border: var(--sklearn-color-fitted-level-3);\n",
       "}\n",
       "\n",
       ".sk-estimator-doc-link:hover span {\n",
       "  display: block;\n",
       "}\n",
       "\n",
       "/* \"?\"-specific style due to the `<a>` HTML tag */\n",
       "\n",
       "#sk-container-id-2 a.estimator_doc_link {\n",
       "  float: right;\n",
       "  font-size: 1rem;\n",
       "  line-height: 1em;\n",
       "  font-family: monospace;\n",
       "  background-color: var(--sklearn-color-background);\n",
       "  border-radius: 1rem;\n",
       "  height: 1rem;\n",
       "  width: 1rem;\n",
       "  text-decoration: none;\n",
       "  /* unfitted */\n",
       "  color: var(--sklearn-color-unfitted-level-1);\n",
       "  border: var(--sklearn-color-unfitted-level-1) 1pt solid;\n",
       "}\n",
       "\n",
       "#sk-container-id-2 a.estimator_doc_link.fitted {\n",
       "  /* fitted */\n",
       "  border: var(--sklearn-color-fitted-level-1) 1pt solid;\n",
       "  color: var(--sklearn-color-fitted-level-1);\n",
       "}\n",
       "\n",
       "/* On hover */\n",
       "#sk-container-id-2 a.estimator_doc_link:hover {\n",
       "  /* unfitted */\n",
       "  background-color: var(--sklearn-color-unfitted-level-3);\n",
       "  color: var(--sklearn-color-background);\n",
       "  text-decoration: none;\n",
       "}\n",
       "\n",
       "#sk-container-id-2 a.estimator_doc_link.fitted:hover {\n",
       "  /* fitted */\n",
       "  background-color: var(--sklearn-color-fitted-level-3);\n",
       "}\n",
       "</style><div id=\"sk-container-id-2\" class=\"sk-top-container\"><div class=\"sk-text-repr-fallback\"><pre>SVC()</pre><b>In a Jupyter environment, please rerun this cell to show the HTML representation or trust the notebook. <br />On GitHub, the HTML representation is unable to render, please try loading this page with nbviewer.org.</b></div><div class=\"sk-container\" hidden><div class=\"sk-item\"><div class=\"sk-estimator fitted sk-toggleable\"><input class=\"sk-toggleable__control sk-hidden--visually\" id=\"sk-estimator-id-2\" type=\"checkbox\" checked><label for=\"sk-estimator-id-2\" class=\"sk-toggleable__label fitted sk-toggleable__label-arrow\"><div><div>SVC</div></div><div><a class=\"sk-estimator-doc-link fitted\" rel=\"noreferrer\" target=\"_blank\" href=\"https://scikit-learn.org/1.6/modules/generated/sklearn.svm.SVC.html\">?<span>Documentation for SVC</span></a><span class=\"sk-estimator-doc-link fitted\">i<span>Fitted</span></span></div></label><div class=\"sk-toggleable__content fitted\"><pre>SVC()</pre></div> </div></div></div></div>"
      ],
      "text/plain": [
       "SVC()"
      ]
     },
     "execution_count": 70,
     "metadata": {},
     "output_type": "execute_result"
    }
   ],
   "source": [
    "svc = SVC()\n",
    "svc.fit(X_train, y_train)"
   ]
  },
  {
   "cell_type": "code",
   "execution_count": 71,
   "id": "05565229-5950-4b4f-8ff5-1f3912ad479a",
   "metadata": {},
   "outputs": [],
   "source": [
    "y_pred5 = svc.predict(X_test)"
   ]
  },
  {
   "cell_type": "code",
   "execution_count": 72,
   "id": "c27b83d2-cf6a-4416-9fbd-dffa6d5595ec",
   "metadata": {},
   "outputs": [
    {
     "name": "stdout",
     "output_type": "stream",
     "text": [
      "0.9111111111111111\n"
     ]
    }
   ],
   "source": [
    "print(accuracy_score(y_test, y_pred5))\n",
    "accuracy[str(svc)] = accuracy_score(y_test, y_pred5)*100"
   ]
  },
  {
   "cell_type": "code",
   "execution_count": 73,
   "id": "ede34214",
   "metadata": {},
   "outputs": [
    {
     "data": {
      "image/png": "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",
      "text/plain": [
       "<Figure size 800x500 with 2 Axes>"
      ]
     },
     "metadata": {},
     "output_type": "display_data"
    }
   ],
   "source": [
    "from sklearn.metrics import confusion_matrix\n",
    "cm=confusion_matrix(y_test,y_pred5)\n",
    "class_names = ['Iris-setosa', 'Iris-versicolor', 'Iris-virginica']\n",
    "conf_matrix = pd.DataFrame(data=cm, columns=[f'Predicted: {label}' for label in class_names],index=[f'Actual: {label}' for label in class_names])\n",
    "plt.figure(figsize = (8,5))\n",
    "sns.heatmap(conf_matrix, annot=True,fmt='d',cmap=\"YlGnBu\")\n",
    "plt.ylabel('Actual')\n",
    "plt.xlabel('Predicted')\n",
    "plt.title('SVM Confusion Matrix')\n",
    "plt.show()"
   ]
  },
  {
   "cell_type": "code",
   "execution_count": 74,
   "id": "3cccaf77",
   "metadata": {},
   "outputs": [
    {
     "data": {
      "text/plain": [
       "{'LogisticRegression(max_iter=200)': 91.11111111111111,\n",
       " 'DecisionTreeClassifier(max_depth=3)': 88.88888888888889,\n",
       " 'RandomForestClassifier(max_depth=5)': 91.11111111111111,\n",
       " 'GradientBoostingClassifier()': 86.66666666666667,\n",
       " 'SVC()': 91.11111111111111}"
      ]
     },
     "execution_count": 74,
     "metadata": {},
     "output_type": "execute_result"
    }
   ],
   "source": [
    "accuracy"
   ]
  },
  {
   "cell_type": "markdown",
   "id": "6d4ed1a5",
   "metadata": {},
   "source": [
    "# Conclusion"
   ]
  },
  {
   "cell_type": "markdown",
   "id": "5d8003bd",
   "metadata": {},
   "source": [
    "- Almost all heart disease people are above 50, which is obvious.\n",
    "- Hypertesion disease in people of above 50.\n",
    "- The most important features are \"age\", \"bmi\" and \"glucose_level\".\n",
    "- Only 249 of the total dataset is positive for stroke(4.8%)\n",
    "- This happens when we have very less(<5%) diagnosed positive for stroke i.e unbalanced target variable.\n",
    "- We can use SMOTE(Synthetic Minority Oversampling Technique) to increase(oversample) the target varaible. It works by duplicating examples in the minority class."
   ]
  },
  {
   "cell_type": "markdown",
   "id": "0156cf0f",
   "metadata": {},
   "source": [
    "# Handling this data using SMOTE"
   ]
  },
  {
   "cell_type": "code",
   "execution_count": 75,
   "id": "8cb6d141",
   "metadata": {},
   "outputs": [],
   "source": [
    "from imblearn.over_sampling import SMOTE"
   ]
  },
  {
   "cell_type": "code",
   "execution_count": 76,
   "id": "0186435a-386c-4a14-be19-1d5f7b512610",
   "metadata": {},
   "outputs": [],
   "source": [
    "X = data.drop(columns=['Species']) \n",
    "y = data['Species']  "
   ]
  },
  {
   "cell_type": "code",
   "execution_count": 77,
   "id": "283d0a0b-e6bd-4504-96a5-65c8ad224041",
   "metadata": {},
   "outputs": [],
   "source": [
    "le = LabelEncoder()\n",
    "y_encoded = le.fit_transform(y)"
   ]
  },
  {
   "cell_type": "code",
   "execution_count": 78,
   "id": "34c3c365-7a43-4ceb-882a-7ebec9530d06",
   "metadata": {},
   "outputs": [],
   "source": [
    "setosa = data[data['Species'] == 'Iris-setosa']\n",
    "versicolor = data[data['Species'] == 'Iris-versicolor'].sample(25, random_state=42)\n",
    "virginica = data[data['Species'] == 'Iris-virginica'].sample(15, random_state=42)\n",
    "imbalanced_data = pd.concat([setosa, versicolor, virginica])\n",
    "le = LabelEncoder()\n",
    "y_imbalanced = le.fit_transform(imbalanced_data['Species'])\n",
    "x_imbalanced = imbalanced_data.drop('Species', axis=1)"
   ]
  },
  {
   "cell_type": "code",
   "execution_count": 79,
   "id": "369b75bc-b4ef-4725-a4b0-024e419276cb",
   "metadata": {},
   "outputs": [
    {
     "name": "stdout",
     "output_type": "stream",
     "text": [
      "Original Class Distribution: Counter({'Iris-setosa': 50, 'Iris-versicolor': 50, 'Iris-virginica': 50})\n"
     ]
    }
   ],
   "source": [
    "from collections import Counter  \n",
    "print(\"Original Class Distribution:\", Counter(y))"
   ]
  },
  {
   "cell_type": "code",
   "execution_count": 80,
   "id": "6e879c3e",
   "metadata": {},
   "outputs": [
    {
     "name": "stdout",
     "output_type": "stream",
     "text": [
      "Class distribution after SMOTE:\n",
      "Iris-setosa        50\n",
      "Iris-versicolor    50\n",
      "Iris-virginica     50\n",
      "Name: count, dtype: int64\n"
     ]
    }
   ],
   "source": [
    "smote = SMOTE(random_state=42)\n",
    "x_resampled, y_resampled = smote.fit_resample(x, y_encoded)\n",
    "y_resampled_labels = le.inverse_transform(y_resampled)\n",
    "y_resampled_series = pd.Series(y_resampled_labels)\n",
    "print(\"Class distribution after SMOTE:\")\n",
    "print(y_resampled_series.value_counts())"
   ]
  },
  {
   "cell_type": "markdown",
   "id": "44454532",
   "metadata": {},
   "source": [
    "# Splitting the oversampling data"
   ]
  },
  {
   "cell_type": "code",
   "execution_count": 81,
   "id": "405c1d63",
   "metadata": {},
   "outputs": [],
   "source": [
    "X_train, X_test, y_train, y_test = train_test_split(x_resampled, y_resampled,test_size=0.3,shuffle=True,random_state=3)"
   ]
  },
  {
   "cell_type": "code",
   "execution_count": 82,
   "id": "20f7d22d",
   "metadata": {},
   "outputs": [
    {
     "name": "stdout",
     "output_type": "stream",
     "text": [
      "(105, 4)\n",
      "(45, 4)\n",
      "(105,)\n",
      "(45,)\n"
     ]
    }
   ],
   "source": [
    "print(X_train.shape)\n",
    "print(X_test.shape)\n",
    "print(y_train.shape)\n",
    "print(y_test.shape)"
   ]
  },
  {
   "cell_type": "code",
   "execution_count": 83,
   "id": "572931b8",
   "metadata": {},
   "outputs": [
    {
     "name": "stdout",
     "output_type": "stream",
     "text": [
      "0.9777777777777777\n"
     ]
    }
   ],
   "source": [
    "lr = LogisticRegression(max_iter=200)\n",
    "lr.fit(X_train, y_train)\n",
    "y_pred1 = lr.predict(X_test)\n",
    "print(accuracy_score(y_test, y_pred1))\n",
    "accuracy[str(lr)] = accuracy_score(y_test, y_pred1)*100"
   ]
  },
  {
   "cell_type": "code",
   "execution_count": 84,
   "id": "e5da3809",
   "metadata": {},
   "outputs": [
    {
     "data": {
      "image/png": "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",
      "text/plain": [
       "<Figure size 800x500 with 2 Axes>"
      ]
     },
     "metadata": {},
     "output_type": "display_data"
    }
   ],
   "source": [
    "from sklearn.metrics import confusion_matrix\n",
    "cm=confusion_matrix(y_test,y_pred1)\n",
    "class_names = ['Iris-setosa', 'Iris-versicolor', 'Iris-virginica']\n",
    "conf_matrix = pd.DataFrame(data=cm, columns=[f'Predicted: {label}' for label in class_names],index=[f'Actual: {label}' for label in class_names])\n",
    "plt.figure(figsize = (8,5))\n",
    "sns.heatmap(conf_matrix, annot=True,fmt='d',cmap=\"YlGnBu\")\n",
    "plt.ylabel('Actual')\n",
    "plt.xlabel('Predicted')\n",
    "plt.show()"
   ]
  },
  {
   "cell_type": "code",
   "execution_count": 85,
   "id": "f1a6aba2",
   "metadata": {},
   "outputs": [
    {
     "name": "stdout",
     "output_type": "stream",
     "text": [
      "              precision    recall  f1-score   support\n",
      "\n",
      "           0       1.00      1.00      1.00        17\n",
      "           1       1.00      0.93      0.96        14\n",
      "           2       0.93      1.00      0.97        14\n",
      "\n",
      "    accuracy                           0.98        45\n",
      "   macro avg       0.98      0.98      0.98        45\n",
      "weighted avg       0.98      0.98      0.98        45\n",
      "\n"
     ]
    }
   ],
   "source": [
    "print(classification_report(y_test,y_pred1))"
   ]
  },
  {
   "cell_type": "code",
   "execution_count": 86,
   "id": "ee68435f",
   "metadata": {},
   "outputs": [],
   "source": [
    "y_pred_test = lr.predict(X_test)\n",
    "test = pd.DataFrame({\n",
    "    'Actual':y_test,\n",
    "    'Y test predicted':y_pred_test\n",
    "})"
   ]
  },
  {
   "cell_type": "code",
   "execution_count": 87,
   "id": "872f33a4",
   "metadata": {},
   "outputs": [
    {
     "data": {
      "text/html": [
       "<div>\n",
       "<style scoped>\n",
       "    .dataframe tbody tr th:only-of-type {\n",
       "        vertical-align: middle;\n",
       "    }\n",
       "\n",
       "    .dataframe tbody tr th {\n",
       "        vertical-align: top;\n",
       "    }\n",
       "\n",
       "    .dataframe thead th {\n",
       "        text-align: right;\n",
       "    }\n",
       "</style>\n",
       "<table border=\"1\" class=\"dataframe\">\n",
       "  <thead>\n",
       "    <tr style=\"text-align: right;\">\n",
       "      <th></th>\n",
       "      <th>Actual</th>\n",
       "      <th>Y test predicted</th>\n",
       "    </tr>\n",
       "  </thead>\n",
       "  <tbody>\n",
       "    <tr>\n",
       "      <th>0</th>\n",
       "      <td>0</td>\n",
       "      <td>0</td>\n",
       "    </tr>\n",
       "    <tr>\n",
       "      <th>1</th>\n",
       "      <td>0</td>\n",
       "      <td>0</td>\n",
       "    </tr>\n",
       "    <tr>\n",
       "      <th>2</th>\n",
       "      <td>0</td>\n",
       "      <td>0</td>\n",
       "    </tr>\n",
       "    <tr>\n",
       "      <th>3</th>\n",
       "      <td>0</td>\n",
       "      <td>0</td>\n",
       "    </tr>\n",
       "    <tr>\n",
       "      <th>4</th>\n",
       "      <td>0</td>\n",
       "      <td>0</td>\n",
       "    </tr>\n",
       "  </tbody>\n",
       "</table>\n",
       "</div>"
      ],
      "text/plain": [
       "   Actual  Y test predicted\n",
       "0       0                 0\n",
       "1       0                 0\n",
       "2       0                 0\n",
       "3       0                 0\n",
       "4       0                 0"
      ]
     },
     "execution_count": 87,
     "metadata": {},
     "output_type": "execute_result"
    }
   ],
   "source": [
    "test.head()"
   ]
  },
  {
   "cell_type": "code",
   "execution_count": 88,
   "id": "fa2c4964",
   "metadata": {},
   "outputs": [
    {
     "name": "stdout",
     "output_type": "stream",
     "text": [
      "0.9333333333333333\n"
     ]
    }
   ],
   "source": [
    "knn_model = KNeighborsClassifier(n_neighbors=3)\n",
    "knn_model.fit(X_train,y_train)\n",
    "knn_predict = knn_model.predict(X_test)\n",
    "print(accuracy_score(y_test, knn_predict))\n",
    "accuracy[str(lr)] = accuracy_score(y_test, knn_predict)*100"
   ]
  },
  {
   "cell_type": "code",
   "execution_count": 89,
   "id": "c6de606e",
   "metadata": {},
   "outputs": [
    {
     "data": {
      "image/png": "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",
      "text/plain": [
       "<Figure size 800x500 with 2 Axes>"
      ]
     },
     "metadata": {},
     "output_type": "display_data"
    }
   ],
   "source": [
    "from sklearn.metrics import confusion_matrix\n",
    "cm=confusion_matrix(y_test,knn_predict)\n",
    "class_names = ['Iris-setosa', 'Iris-versicolor', 'Iris-virginica']\n",
    "conf_matrix = pd.DataFrame(data=cm, columns=[f'Predicted: {label}' for label in class_names],index=[f'Actual: {label}' for label in class_names])\n",
    "plt.figure(figsize = (8,5))\n",
    "sns.heatmap(conf_matrix, annot=True,fmt='d',cmap=\"YlGnBu\")\n",
    "plt.ylabel('Actual')\n",
    "plt.xlabel('Predicted')\n",
    "plt.show()"
   ]
  },
  {
   "cell_type": "code",
   "execution_count": 90,
   "id": "e5f5f950",
   "metadata": {},
   "outputs": [
    {
     "name": "stdout",
     "output_type": "stream",
     "text": [
      "              precision    recall  f1-score   support\n",
      "\n",
      "           0       1.00      1.00      1.00        17\n",
      "           1       0.92      0.86      0.89        14\n",
      "           2       0.87      0.93      0.90        14\n",
      "\n",
      "    accuracy                           0.93        45\n",
      "   macro avg       0.93      0.93      0.93        45\n",
      "weighted avg       0.93      0.93      0.93        45\n",
      "\n"
     ]
    }
   ],
   "source": [
    "print(classification_report(y_test,knn_predict))"
   ]
  },
  {
   "cell_type": "code",
   "execution_count": 91,
   "id": "7c91b7ce",
   "metadata": {},
   "outputs": [],
   "source": [
    "y_pred_test = knn_model.predict(X_test)\n",
    "test = pd.DataFrame({\n",
    "    'Actual':y_test,\n",
    "    'Y test predicted':y_pred_test\n",
    "})"
   ]
  },
  {
   "cell_type": "code",
   "execution_count": 92,
   "id": "6ed4623f",
   "metadata": {
    "scrolled": true
   },
   "outputs": [
    {
     "data": {
      "text/html": [
       "<div>\n",
       "<style scoped>\n",
       "    .dataframe tbody tr th:only-of-type {\n",
       "        vertical-align: middle;\n",
       "    }\n",
       "\n",
       "    .dataframe tbody tr th {\n",
       "        vertical-align: top;\n",
       "    }\n",
       "\n",
       "    .dataframe thead th {\n",
       "        text-align: right;\n",
       "    }\n",
       "</style>\n",
       "<table border=\"1\" class=\"dataframe\">\n",
       "  <thead>\n",
       "    <tr style=\"text-align: right;\">\n",
       "      <th></th>\n",
       "      <th>Actual</th>\n",
       "      <th>Y test predicted</th>\n",
       "    </tr>\n",
       "  </thead>\n",
       "  <tbody>\n",
       "    <tr>\n",
       "      <th>11</th>\n",
       "      <td>0</td>\n",
       "      <td>0</td>\n",
       "    </tr>\n",
       "    <tr>\n",
       "      <th>24</th>\n",
       "      <td>0</td>\n",
       "      <td>0</td>\n",
       "    </tr>\n",
       "    <tr>\n",
       "      <th>4</th>\n",
       "      <td>0</td>\n",
       "      <td>0</td>\n",
       "    </tr>\n",
       "    <tr>\n",
       "      <th>8</th>\n",
       "      <td>2</td>\n",
       "      <td>2</td>\n",
       "    </tr>\n",
       "    <tr>\n",
       "      <th>20</th>\n",
       "      <td>2</td>\n",
       "      <td>2</td>\n",
       "    </tr>\n",
       "    <tr>\n",
       "      <th>43</th>\n",
       "      <td>0</td>\n",
       "      <td>0</td>\n",
       "    </tr>\n",
       "    <tr>\n",
       "      <th>3</th>\n",
       "      <td>0</td>\n",
       "      <td>0</td>\n",
       "    </tr>\n",
       "    <tr>\n",
       "      <th>14</th>\n",
       "      <td>2</td>\n",
       "      <td>2</td>\n",
       "    </tr>\n",
       "    <tr>\n",
       "      <th>21</th>\n",
       "      <td>2</td>\n",
       "      <td>2</td>\n",
       "    </tr>\n",
       "    <tr>\n",
       "      <th>25</th>\n",
       "      <td>2</td>\n",
       "      <td>2</td>\n",
       "    </tr>\n",
       "  </tbody>\n",
       "</table>\n",
       "</div>"
      ],
      "text/plain": [
       "    Actual  Y test predicted\n",
       "11       0                 0\n",
       "24       0                 0\n",
       "4        0                 0\n",
       "8        2                 2\n",
       "20       2                 2\n",
       "43       0                 0\n",
       "3        0                 0\n",
       "14       2                 2\n",
       "21       2                 2\n",
       "25       2                 2"
      ]
     },
     "execution_count": 92,
     "metadata": {},
     "output_type": "execute_result"
    }
   ],
   "source": [
    "test.sample(10)"
   ]
  },
  {
   "cell_type": "markdown",
   "id": "3cf0ae0d",
   "metadata": {},
   "source": [
    "# Deep Learning "
   ]
  },
  {
   "cell_type": "code",
   "execution_count": 93,
   "id": "1061af4b",
   "metadata": {},
   "outputs": [],
   "source": [
    "import tensorflow as tf\n",
    "from tensorflow import keras"
   ]
  },
  {
   "cell_type": "markdown",
   "id": "a0f6d39e",
   "metadata": {},
   "source": [
    "# Create Neural Network"
   ]
  },
  {
   "cell_type": "markdown",
   "id": "3c453b50",
   "metadata": {},
   "source": [
    "- Creating sequnetial ANN Network\n",
    "- Creating 5 layers Network\n",
    "- Activation is \"Relu\"\n",
    "- Last layer is output layer\n",
    "- Problem is binary classification thats way output node is 1 and activation is \"sigmoid\""
   ]
  },
  {
   "cell_type": "code",
   "execution_count": 94,
   "id": "6f6b8806",
   "metadata": {
    "scrolled": true
   },
   "outputs": [
    {
     "name": "stderr",
     "output_type": "stream",
     "text": [
      "C:\\Users\\MSI\\anaconda3\\envs\\Joya\\Lib\\site-packages\\keras\\src\\layers\\core\\dense.py:87: UserWarning: Do not pass an `input_shape`/`input_dim` argument to a layer. When using Sequential models, prefer using an `Input(shape)` object as the first layer in the model instead.\n",
      "  super().__init__(activity_regularizer=activity_regularizer, **kwargs)\n"
     ]
    },
    {
     "data": {
      "text/html": [
       "<pre style=\"white-space:pre;overflow-x:auto;line-height:normal;font-family:Menlo,'DejaVu Sans Mono',consolas,'Courier New',monospace\"><span style=\"font-weight: bold\">Model: \"sequential\"</span>\n",
       "</pre>\n"
      ],
      "text/plain": [
       "\u001b[1mModel: \"sequential\"\u001b[0m\n"
      ]
     },
     "metadata": {},
     "output_type": "display_data"
    },
    {
     "data": {
      "text/html": [
       "<pre style=\"white-space:pre;overflow-x:auto;line-height:normal;font-family:Menlo,'DejaVu Sans Mono',consolas,'Courier New',monospace\">┏━━━━━━━━━━━━━━━━━━━━━━━━━━━━━━━━━━━━━━┳━━━━━━━━━━━━━━━━━━━━━━━━━━━━━┳━━━━━━━━━━━━━━━━━┓\n",
       "┃<span style=\"font-weight: bold\"> Layer (type)                         </span>┃<span style=\"font-weight: bold\"> Output Shape                </span>┃<span style=\"font-weight: bold\">         Param # </span>┃\n",
       "┡━━━━━━━━━━━━━━━━━━━━━━━━━━━━━━━━━━━━━━╇━━━━━━━━━━━━━━━━━━━━━━━━━━━━━╇━━━━━━━━━━━━━━━━━┩\n",
       "│ dense (<span style=\"color: #0087ff; text-decoration-color: #0087ff\">Dense</span>)                        │ (<span style=\"color: #00d7ff; text-decoration-color: #00d7ff\">None</span>, <span style=\"color: #00af00; text-decoration-color: #00af00\">64</span>)                  │             <span style=\"color: #00af00; text-decoration-color: #00af00\">320</span> │\n",
       "├──────────────────────────────────────┼─────────────────────────────┼─────────────────┤\n",
       "│ dense_1 (<span style=\"color: #0087ff; text-decoration-color: #0087ff\">Dense</span>)                      │ (<span style=\"color: #00d7ff; text-decoration-color: #00d7ff\">None</span>, <span style=\"color: #00af00; text-decoration-color: #00af00\">32</span>)                  │           <span style=\"color: #00af00; text-decoration-color: #00af00\">2,080</span> │\n",
       "├──────────────────────────────────────┼─────────────────────────────┼─────────────────┤\n",
       "│ dense_2 (<span style=\"color: #0087ff; text-decoration-color: #0087ff\">Dense</span>)                      │ (<span style=\"color: #00d7ff; text-decoration-color: #00d7ff\">None</span>, <span style=\"color: #00af00; text-decoration-color: #00af00\">3</span>)                   │              <span style=\"color: #00af00; text-decoration-color: #00af00\">99</span> │\n",
       "└──────────────────────────────────────┴─────────────────────────────┴─────────────────┘\n",
       "</pre>\n"
      ],
      "text/plain": [
       "┏━━━━━━━━━━━━━━━━━━━━━━━━━━━━━━━━━━━━━━┳━━━━━━━━━━━━━━━━━━━━━━━━━━━━━┳━━━━━━━━━━━━━━━━━┓\n",
       "┃\u001b[1m \u001b[0m\u001b[1mLayer (type)                        \u001b[0m\u001b[1m \u001b[0m┃\u001b[1m \u001b[0m\u001b[1mOutput Shape               \u001b[0m\u001b[1m \u001b[0m┃\u001b[1m \u001b[0m\u001b[1m        Param #\u001b[0m\u001b[1m \u001b[0m┃\n",
       "┡━━━━━━━━━━━━━━━━━━━━━━━━━━━━━━━━━━━━━━╇━━━━━━━━━━━━━━━━━━━━━━━━━━━━━╇━━━━━━━━━━━━━━━━━┩\n",
       "│ dense (\u001b[38;5;33mDense\u001b[0m)                        │ (\u001b[38;5;45mNone\u001b[0m, \u001b[38;5;34m64\u001b[0m)                  │             \u001b[38;5;34m320\u001b[0m │\n",
       "├──────────────────────────────────────┼─────────────────────────────┼─────────────────┤\n",
       "│ dense_1 (\u001b[38;5;33mDense\u001b[0m)                      │ (\u001b[38;5;45mNone\u001b[0m, \u001b[38;5;34m32\u001b[0m)                  │           \u001b[38;5;34m2,080\u001b[0m │\n",
       "├──────────────────────────────────────┼─────────────────────────────┼─────────────────┤\n",
       "│ dense_2 (\u001b[38;5;33mDense\u001b[0m)                      │ (\u001b[38;5;45mNone\u001b[0m, \u001b[38;5;34m3\u001b[0m)                   │              \u001b[38;5;34m99\u001b[0m │\n",
       "└──────────────────────────────────────┴─────────────────────────────┴─────────────────┘\n"
      ]
     },
     "metadata": {},
     "output_type": "display_data"
    },
    {
     "data": {
      "text/html": [
       "<pre style=\"white-space:pre;overflow-x:auto;line-height:normal;font-family:Menlo,'DejaVu Sans Mono',consolas,'Courier New',monospace\"><span style=\"font-weight: bold\"> Total params: </span><span style=\"color: #00af00; text-decoration-color: #00af00\">2,499</span> (9.76 KB)\n",
       "</pre>\n"
      ],
      "text/plain": [
       "\u001b[1m Total params: \u001b[0m\u001b[38;5;34m2,499\u001b[0m (9.76 KB)\n"
      ]
     },
     "metadata": {},
     "output_type": "display_data"
    },
    {
     "data": {
      "text/html": [
       "<pre style=\"white-space:pre;overflow-x:auto;line-height:normal;font-family:Menlo,'DejaVu Sans Mono',consolas,'Courier New',monospace\"><span style=\"font-weight: bold\"> Trainable params: </span><span style=\"color: #00af00; text-decoration-color: #00af00\">2,499</span> (9.76 KB)\n",
       "</pre>\n"
      ],
      "text/plain": [
       "\u001b[1m Trainable params: \u001b[0m\u001b[38;5;34m2,499\u001b[0m (9.76 KB)\n"
      ]
     },
     "metadata": {},
     "output_type": "display_data"
    },
    {
     "data": {
      "text/html": [
       "<pre style=\"white-space:pre;overflow-x:auto;line-height:normal;font-family:Menlo,'DejaVu Sans Mono',consolas,'Courier New',monospace\"><span style=\"font-weight: bold\"> Non-trainable params: </span><span style=\"color: #00af00; text-decoration-color: #00af00\">0</span> (0.00 B)\n",
       "</pre>\n"
      ],
      "text/plain": [
       "\u001b[1m Non-trainable params: \u001b[0m\u001b[38;5;34m0\u001b[0m (0.00 B)\n"
      ]
     },
     "metadata": {},
     "output_type": "display_data"
    }
   ],
   "source": [
    "model = Sequential([\n",
    "    Dense(64, activation='relu', input_shape=(4,)),  \n",
    "    Dense(32, activation='relu'),\n",
    "    Dense(3, activation='softmax')  \n",
    "])\n",
    "model.summary()"
   ]
  },
  {
   "cell_type": "markdown",
   "id": "22b07c31",
   "metadata": {},
   "source": [
    "- compile method takes three arguments\n",
    "- loss >> binary crossentropy\n",
    "- optimizer >> adam\n",
    "- matrix >> accuracy"
   ]
  },
  {
   "cell_type": "code",
   "execution_count": 95,
   "id": "d7a6375a",
   "metadata": {},
   "outputs": [],
   "source": [
    "model.compile(optimizer='adam', loss='categorical_crossentropy',metrics=['accuracy'])"
   ]
  },
  {
   "cell_type": "code",
   "execution_count": 96,
   "id": "1e2fbb17-3d67-42f2-8bbf-1b5b5e6ad8d2",
   "metadata": {},
   "outputs": [],
   "source": [
    "scaler = StandardScaler()\n",
    "X_train_scaled = scaler.fit_transform(X_train)  \n",
    "X_test_scaled = scaler.transform(X_test)\n",
    "y_train_cat = tf.keras.utils.to_categorical(y_train, num_classes=3)\n",
    "y_test_cat = tf.keras.utils.to_categorical(y_test, num_classes=3)"
   ]
  },
  {
   "cell_type": "markdown",
   "id": "267b3a54",
   "metadata": {},
   "source": [
    "- Fit method is used for fitting the data into model / neural network\n",
    "- epochs = 100\n",
    "- batch size = 100"
   ]
  },
  {
   "cell_type": "code",
   "execution_count": 97,
   "id": "fa2e1e5a",
   "metadata": {
    "scrolled": true
   },
   "outputs": [
    {
     "name": "stdout",
     "output_type": "stream",
     "text": [
      "Epoch 1/100\n",
      "\u001b[1m2/2\u001b[0m \u001b[32m━━━━━━━━━━━━━━━━━━━━\u001b[0m\u001b[37m\u001b[0m \u001b[1m1s\u001b[0m 8ms/step - accuracy: 0.2902 - loss: 1.0787\n",
      "Epoch 2/100\n",
      "\u001b[1m2/2\u001b[0m \u001b[32m━━━━━━━━━━━━━━━━━━━━\u001b[0m\u001b[37m\u001b[0m \u001b[1m0s\u001b[0m 3ms/step - accuracy: 0.5322 - loss: 1.0357\n",
      "Epoch 3/100\n",
      "\u001b[1m2/2\u001b[0m \u001b[32m━━━━━━━━━━━━━━━━━━━━\u001b[0m\u001b[37m\u001b[0m \u001b[1m0s\u001b[0m 3ms/step - accuracy: 0.6227 - loss: 0.9997\n",
      "Epoch 4/100\n",
      "\u001b[1m2/2\u001b[0m \u001b[32m━━━━━━━━━━━━━━━━━━━━\u001b[0m\u001b[37m\u001b[0m \u001b[1m0s\u001b[0m 2ms/step - accuracy: 0.6257 - loss: 0.9687\n",
      "Epoch 5/100\n",
      "\u001b[1m2/2\u001b[0m \u001b[32m━━━━━━━━━━━━━━━━━━━━\u001b[0m\u001b[37m\u001b[0m \u001b[1m0s\u001b[0m 2ms/step - accuracy: 0.6417 - loss: 0.9364\n",
      "Epoch 6/100\n",
      "\u001b[1m2/2\u001b[0m \u001b[32m━━━━━━━━━━━━━━━━━━━━\u001b[0m\u001b[37m\u001b[0m \u001b[1m0s\u001b[0m 3ms/step - accuracy: 0.6581 - loss: 0.9023\n",
      "Epoch 7/100\n",
      "\u001b[1m2/2\u001b[0m \u001b[32m━━━━━━━━━━━━━━━━━━━━\u001b[0m\u001b[37m\u001b[0m \u001b[1m0s\u001b[0m 2ms/step - accuracy: 0.6678 - loss: 0.8724\n",
      "Epoch 8/100\n",
      "\u001b[1m2/2\u001b[0m \u001b[32m━━━━━━━━━━━━━━━━━━━━\u001b[0m\u001b[37m\u001b[0m \u001b[1m0s\u001b[0m 4ms/step - accuracy: 0.6708 - loss: 0.8457 \n",
      "Epoch 9/100\n",
      "\u001b[1m2/2\u001b[0m \u001b[32m━━━━━━━━━━━━━━━━━━━━\u001b[0m\u001b[37m\u001b[0m \u001b[1m0s\u001b[0m 2ms/step - accuracy: 0.6935 - loss: 0.8147\n",
      "Epoch 10/100\n",
      "\u001b[1m2/2\u001b[0m \u001b[32m━━━━━━━━━━━━━━━━━━━━\u001b[0m\u001b[37m\u001b[0m \u001b[1m0s\u001b[0m 3ms/step - accuracy: 0.6902 - loss: 0.7910 \n",
      "Epoch 11/100\n",
      "\u001b[1m2/2\u001b[0m \u001b[32m━━━━━━━━━━━━━━━━━━━━\u001b[0m\u001b[37m\u001b[0m \u001b[1m0s\u001b[0m 3ms/step - accuracy: 0.7225 - loss: 0.7627\n",
      "Epoch 12/100\n",
      "\u001b[1m2/2\u001b[0m \u001b[32m━━━━━━━━━━━━━━━━━━━━\u001b[0m\u001b[37m\u001b[0m \u001b[1m0s\u001b[0m 4ms/step - accuracy: 0.7322 - loss: 0.7361\n",
      "Epoch 13/100\n",
      "\u001b[1m2/2\u001b[0m \u001b[32m━━━━━━━━━━━━━━━━━━━━\u001b[0m\u001b[37m\u001b[0m \u001b[1m0s\u001b[0m 2ms/step - accuracy: 0.7486 - loss: 0.7066\n",
      "Epoch 14/100\n",
      "\u001b[1m2/2\u001b[0m \u001b[32m━━━━━━━━━━━━━━━━━━━━\u001b[0m\u001b[37m\u001b[0m \u001b[1m0s\u001b[0m 3ms/step - accuracy: 0.7516 - loss: 0.6931\n",
      "Epoch 15/100\n",
      "\u001b[1m2/2\u001b[0m \u001b[32m━━━━━━━━━━━━━━━━━━━━\u001b[0m\u001b[37m\u001b[0m \u001b[1m0s\u001b[0m 2ms/step - accuracy: 0.7710 - loss: 0.6731 \n",
      "Epoch 16/100\n",
      "\u001b[1m2/2\u001b[0m \u001b[32m━━━━━━━━━━━━━━━━━━━━\u001b[0m\u001b[37m\u001b[0m \u001b[1m0s\u001b[0m 2ms/step - accuracy: 0.7806 - loss: 0.6561\n",
      "Epoch 17/100\n",
      "\u001b[1m2/2\u001b[0m \u001b[32m━━━━━━━━━━━━━━━━━━━━\u001b[0m\u001b[37m\u001b[0m \u001b[1m0s\u001b[0m 4ms/step - accuracy: 0.7970 - loss: 0.6323\n",
      "Epoch 18/100\n",
      "\u001b[1m2/2\u001b[0m \u001b[32m━━━━━━━━━━━━━━━━━━━━\u001b[0m\u001b[37m\u001b[0m \u001b[1m0s\u001b[0m 3ms/step - accuracy: 0.7903 - loss: 0.6198\n",
      "Epoch 19/100\n",
      "\u001b[1m2/2\u001b[0m \u001b[32m━━━━━━━━━━━━━━━━━━━━\u001b[0m\u001b[37m\u001b[0m \u001b[1m0s\u001b[0m 3ms/step - accuracy: 0.8067 - loss: 0.6013 \n",
      "Epoch 20/100\n",
      "\u001b[1m2/2\u001b[0m \u001b[32m━━━━━━━━━━━━━━━━━━━━\u001b[0m\u001b[37m\u001b[0m \u001b[1m0s\u001b[0m 2ms/step - accuracy: 0.7967 - loss: 0.5887\n",
      "Epoch 21/100\n",
      "\u001b[1m2/2\u001b[0m \u001b[32m━━━━━━━━━━━━━━━━━━━━\u001b[0m\u001b[37m\u001b[0m \u001b[1m0s\u001b[0m 3ms/step - accuracy: 0.7967 - loss: 0.5733\n",
      "Epoch 22/100\n",
      "\u001b[1m2/2\u001b[0m \u001b[32m━━━━━━━━━━━━━━━━━━━━\u001b[0m\u001b[37m\u001b[0m \u001b[1m0s\u001b[0m 3ms/step - accuracy: 0.8063 - loss: 0.5594\n",
      "Epoch 23/100\n",
      "\u001b[1m2/2\u001b[0m \u001b[32m━━━━━━━━━━━━━━━━━━━━\u001b[0m\u001b[37m\u001b[0m \u001b[1m0s\u001b[0m 3ms/step - accuracy: 0.8097 - loss: 0.5423\n",
      "Epoch 24/100\n",
      "\u001b[1m2/2\u001b[0m \u001b[32m━━━━━━━━━━━━━━━━━━━━\u001b[0m\u001b[37m\u001b[0m \u001b[1m0s\u001b[0m 2ms/step - accuracy: 0.8097 - loss: 0.5296\n",
      "Epoch 25/100\n",
      "\u001b[1m2/2\u001b[0m \u001b[32m━━━━━━━━━━━━━━━━━━━━\u001b[0m\u001b[37m\u001b[0m \u001b[1m0s\u001b[0m 3ms/step - accuracy: 0.8227 - loss: 0.5108\n",
      "Epoch 26/100\n",
      "\u001b[1m2/2\u001b[0m \u001b[32m━━━━━━━━━━━━━━━━━━━━\u001b[0m\u001b[37m\u001b[0m \u001b[1m0s\u001b[0m 3ms/step - accuracy: 0.8160 - loss: 0.5041\n",
      "Epoch 27/100\n",
      "\u001b[1m2/2\u001b[0m \u001b[32m━━━━━━━━━━━━━━━━━━━━\u001b[0m\u001b[37m\u001b[0m \u001b[1m0s\u001b[0m 3ms/step - accuracy: 0.8194 - loss: 0.4872\n",
      "Epoch 28/100\n",
      "\u001b[1m2/2\u001b[0m \u001b[32m━━━━━━━━━━━━━━━━━━━━\u001b[0m\u001b[37m\u001b[0m \u001b[1m0s\u001b[0m 3ms/step - accuracy: 0.8324 - loss: 0.4701\n",
      "Epoch 29/100\n",
      "\u001b[1m2/2\u001b[0m \u001b[32m━━━━━━━━━━━━━━━━━━━━\u001b[0m\u001b[37m\u001b[0m \u001b[1m0s\u001b[0m 3ms/step - accuracy: 0.8257 - loss: 0.4664\n",
      "Epoch 30/100\n",
      "\u001b[1m2/2\u001b[0m \u001b[32m━━━━━━━━━━━━━━━━━━━━\u001b[0m\u001b[37m\u001b[0m \u001b[1m0s\u001b[0m 3ms/step - accuracy: 0.8257 - loss: 0.4541\n",
      "Epoch 31/100\n",
      "\u001b[1m2/2\u001b[0m \u001b[32m━━━━━━━━━━━━━━━━━━━━\u001b[0m\u001b[37m\u001b[0m \u001b[1m0s\u001b[0m 3ms/step - accuracy: 0.8257 - loss: 0.4452\n",
      "Epoch 32/100\n",
      "\u001b[1m2/2\u001b[0m \u001b[32m━━━━━━━━━━━━━━━━━━━━\u001b[0m\u001b[37m\u001b[0m \u001b[1m0s\u001b[0m 3ms/step - accuracy: 0.8290 - loss: 0.4318\n",
      "Epoch 33/100\n",
      "\u001b[1m2/2\u001b[0m \u001b[32m━━━━━━━━━━━━━━━━━━━━\u001b[0m\u001b[37m\u001b[0m \u001b[1m0s\u001b[0m 3ms/step - accuracy: 0.8290 - loss: 0.4223\n",
      "Epoch 34/100\n",
      "\u001b[1m2/2\u001b[0m \u001b[32m━━━━━━━━━━━━━━━━━━━━\u001b[0m\u001b[37m\u001b[0m \u001b[1m0s\u001b[0m 3ms/step - accuracy: 0.8324 - loss: 0.4095\n",
      "Epoch 35/100\n",
      "\u001b[1m2/2\u001b[0m \u001b[32m━━━━━━━━━━━━━━━━━━━━\u001b[0m\u001b[37m\u001b[0m \u001b[1m0s\u001b[0m 3ms/step - accuracy: 0.8324 - loss: 0.4025\n",
      "Epoch 36/100\n",
      "\u001b[1m2/2\u001b[0m \u001b[32m━━━━━━━━━━━━━━━━━━━━\u001b[0m\u001b[37m\u001b[0m \u001b[1m0s\u001b[0m 2ms/step - accuracy: 0.8290 - loss: 0.3966\n",
      "Epoch 37/100\n",
      "\u001b[1m2/2\u001b[0m \u001b[32m━━━━━━━━━━━━━━━━━━━━\u001b[0m\u001b[37m\u001b[0m \u001b[1m0s\u001b[0m 3ms/step - accuracy: 0.8257 - loss: 0.3863\n",
      "Epoch 38/100\n",
      "\u001b[1m2/2\u001b[0m \u001b[32m━━━━━━━━━━━━━━━━━━━━\u001b[0m\u001b[37m\u001b[0m \u001b[1m0s\u001b[0m 3ms/step - accuracy: 0.8354 - loss: 0.3804\n",
      "Epoch 39/100\n",
      "\u001b[1m2/2\u001b[0m \u001b[32m━━━━━━━━━━━━━━━━━━━━\u001b[0m\u001b[37m\u001b[0m \u001b[1m0s\u001b[0m 3ms/step - accuracy: 0.8387 - loss: 0.3690\n",
      "Epoch 40/100\n",
      "\u001b[1m2/2\u001b[0m \u001b[32m━━━━━━━━━━━━━━━━━━━━\u001b[0m\u001b[37m\u001b[0m \u001b[1m0s\u001b[0m 3ms/step - accuracy: 0.8484 - loss: 0.3638\n",
      "Epoch 41/100\n",
      "\u001b[1m2/2\u001b[0m \u001b[32m━━━━━━━━━━━━━━━━━━━━\u001b[0m\u001b[37m\u001b[0m \u001b[1m0s\u001b[0m 2ms/step - accuracy: 0.8451 - loss: 0.3597\n",
      "Epoch 42/100\n",
      "\u001b[1m2/2\u001b[0m \u001b[32m━━━━━━━━━━━━━━━━━━━━\u001b[0m\u001b[37m\u001b[0m \u001b[1m0s\u001b[0m 1ms/step - accuracy: 0.8614 - loss: 0.3484 \n",
      "Epoch 43/100\n",
      "\u001b[1m2/2\u001b[0m \u001b[32m━━━━━━━━━━━━━━━━━━━━\u001b[0m\u001b[37m\u001b[0m \u001b[1m0s\u001b[0m 4ms/step - accuracy: 0.8548 - loss: 0.3467\n",
      "Epoch 44/100\n",
      "\u001b[1m2/2\u001b[0m \u001b[32m━━━━━━━━━━━━━━━━━━━━\u001b[0m\u001b[37m\u001b[0m \u001b[1m0s\u001b[0m 3ms/step - accuracy: 0.8581 - loss: 0.3374 \n",
      "Epoch 45/100\n",
      "\u001b[1m2/2\u001b[0m \u001b[32m━━━━━━━━━━━━━━━━━━━━\u001b[0m\u001b[37m\u001b[0m \u001b[1m0s\u001b[0m 2ms/step - accuracy: 0.8484 - loss: 0.3350 \n",
      "Epoch 46/100\n",
      "\u001b[1m2/2\u001b[0m \u001b[32m━━━━━━━━━━━━━━━━━━━━\u001b[0m\u001b[37m\u001b[0m \u001b[1m0s\u001b[0m 3ms/step - accuracy: 0.8451 - loss: 0.3297 \n",
      "Epoch 47/100\n",
      "\u001b[1m2/2\u001b[0m \u001b[32m━━━━━━━━━━━━━━━━━━━━\u001b[0m\u001b[37m\u001b[0m \u001b[1m0s\u001b[0m 2ms/step - accuracy: 0.8484 - loss: 0.3249\n",
      "Epoch 48/100\n",
      "\u001b[1m2/2\u001b[0m \u001b[32m━━━━━━━━━━━━━━━━━━━━\u001b[0m\u001b[37m\u001b[0m \u001b[1m0s\u001b[0m 2ms/step - accuracy: 0.8517 - loss: 0.3183\n",
      "Epoch 49/100\n",
      "\u001b[1m2/2\u001b[0m \u001b[32m━━━━━━━━━━━━━━━━━━━━\u001b[0m\u001b[37m\u001b[0m \u001b[1m0s\u001b[0m 2ms/step - accuracy: 0.8451 - loss: 0.3199 \n",
      "Epoch 50/100\n",
      "\u001b[1m2/2\u001b[0m \u001b[32m━━━━━━━━━━━━━━━━━━━━\u001b[0m\u001b[37m\u001b[0m \u001b[1m0s\u001b[0m 3ms/step - accuracy: 0.8451 - loss: 0.3135\n",
      "Epoch 51/100\n",
      "\u001b[1m2/2\u001b[0m \u001b[32m━━━━━━━━━━━━━━━━━━━━\u001b[0m\u001b[37m\u001b[0m \u001b[1m0s\u001b[0m 2ms/step - accuracy: 0.8484 - loss: 0.3056\n",
      "Epoch 52/100\n",
      "\u001b[1m2/2\u001b[0m \u001b[32m━━━━━━━━━━━━━━━━━━━━\u001b[0m\u001b[37m\u001b[0m \u001b[1m0s\u001b[0m 2ms/step - accuracy: 0.8548 - loss: 0.3015\n",
      "Epoch 53/100\n",
      "\u001b[1m2/2\u001b[0m \u001b[32m━━━━━━━━━━━━━━━━━━━━\u001b[0m\u001b[37m\u001b[0m \u001b[1m0s\u001b[0m 2ms/step - accuracy: 0.8548 - loss: 0.2968 \n",
      "Epoch 54/100\n",
      "\u001b[1m2/2\u001b[0m \u001b[32m━━━━━━━━━━━━━━━━━━━━\u001b[0m\u001b[37m\u001b[0m \u001b[1m0s\u001b[0m 3ms/step - accuracy: 0.8548 - loss: 0.2905\n",
      "Epoch 55/100\n",
      "\u001b[1m2/2\u001b[0m \u001b[32m━━━━━━━━━━━━━━━━━━━━\u001b[0m\u001b[37m\u001b[0m \u001b[1m0s\u001b[0m 3ms/step - accuracy: 0.8548 - loss: 0.2870 \n",
      "Epoch 56/100\n",
      "\u001b[1m2/2\u001b[0m \u001b[32m━━━━━━━━━━━━━━━━━━━━\u001b[0m\u001b[37m\u001b[0m \u001b[1m0s\u001b[0m 3ms/step - accuracy: 0.8681 - loss: 0.2688 \n",
      "Epoch 57/100\n",
      "\u001b[1m2/2\u001b[0m \u001b[32m━━━━━━━━━━━━━━━━━━━━\u001b[0m\u001b[37m\u001b[0m \u001b[1m0s\u001b[0m 2ms/step - accuracy: 0.8905 - loss: 0.2735\n",
      "Epoch 58/100\n",
      "\u001b[1m2/2\u001b[0m \u001b[32m━━━━━━━━━━━━━━━━━━━━\u001b[0m\u001b[37m\u001b[0m \u001b[1m0s\u001b[0m 3ms/step - accuracy: 0.9032 - loss: 0.2704 \n",
      "Epoch 59/100\n",
      "\u001b[1m2/2\u001b[0m \u001b[32m━━━━━━━━━━━━━━━━━━━━\u001b[0m\u001b[37m\u001b[0m \u001b[1m0s\u001b[0m 3ms/step - accuracy: 0.9162 - loss: 0.2648\n",
      "Epoch 60/100\n",
      "\u001b[1m2/2\u001b[0m \u001b[32m━━━━━━━━━━━━━━━━━━━━\u001b[0m\u001b[37m\u001b[0m \u001b[1m0s\u001b[0m 3ms/step - accuracy: 0.9322 - loss: 0.2662 \n",
      "Epoch 61/100\n",
      "\u001b[1m2/2\u001b[0m \u001b[32m━━━━━━━━━━━━━━━━━━━━\u001b[0m\u001b[37m\u001b[0m \u001b[1m0s\u001b[0m 2ms/step - accuracy: 0.9419 - loss: 0.2640\n",
      "Epoch 62/100\n",
      "\u001b[1m2/2\u001b[0m \u001b[32m━━━━━━━━━━━━━━━━━━━━\u001b[0m\u001b[37m\u001b[0m \u001b[1m0s\u001b[0m 3ms/step - accuracy: 0.9419 - loss: 0.2604\n",
      "Epoch 63/100\n",
      "\u001b[1m2/2\u001b[0m \u001b[32m━━━━━━━━━━━━━━━━━━━━\u001b[0m\u001b[37m\u001b[0m \u001b[1m0s\u001b[0m 2ms/step - accuracy: 0.9452 - loss: 0.2526 \n",
      "Epoch 64/100\n",
      "\u001b[1m2/2\u001b[0m \u001b[32m━━━━━━━━━━━━━━━━━━━━\u001b[0m\u001b[37m\u001b[0m \u001b[1m0s\u001b[0m 3ms/step - accuracy: 0.9322 - loss: 0.2491 \n",
      "Epoch 65/100\n",
      "\u001b[1m2/2\u001b[0m \u001b[32m━━━━━━━━━━━━━━━━━━━━\u001b[0m\u001b[37m\u001b[0m \u001b[1m0s\u001b[0m 3ms/step - accuracy: 0.9162 - loss: 0.2468 \n",
      "Epoch 66/100\n",
      "\u001b[1m2/2\u001b[0m \u001b[32m━━━━━━━━━━━━━━━━━━━━\u001b[0m\u001b[37m\u001b[0m \u001b[1m0s\u001b[0m 3ms/step - accuracy: 0.9032 - loss: 0.2442\n",
      "Epoch 67/100\n",
      "\u001b[1m2/2\u001b[0m \u001b[32m━━━━━━━━━━━━━━━━━━━━\u001b[0m\u001b[37m\u001b[0m \u001b[1m0s\u001b[0m 3ms/step - accuracy: 0.9098 - loss: 0.2378\n",
      "Epoch 68/100\n",
      "\u001b[1m2/2\u001b[0m \u001b[32m━━━━━━━━━━━━━━━━━━━━\u001b[0m\u001b[37m\u001b[0m \u001b[1m0s\u001b[0m 3ms/step - accuracy: 0.9065 - loss: 0.2380 \n",
      "Epoch 69/100\n",
      "\u001b[1m2/2\u001b[0m \u001b[32m━━━━━━━━━━━━━━━━━━━━\u001b[0m\u001b[37m\u001b[0m \u001b[1m0s\u001b[0m 5ms/step - accuracy: 0.9032 - loss: 0.2367 \n",
      "Epoch 70/100\n",
      "\u001b[1m2/2\u001b[0m \u001b[32m━━━━━━━━━━━━━━━━━━━━\u001b[0m\u001b[37m\u001b[0m \u001b[1m0s\u001b[0m 3ms/step - accuracy: 0.9322 - loss: 0.2326\n",
      "Epoch 71/100\n",
      "\u001b[1m2/2\u001b[0m \u001b[32m━━━━━━━━━━━━━━━━━━━━\u001b[0m\u001b[37m\u001b[0m \u001b[1m0s\u001b[0m 2ms/step - accuracy: 0.9322 - loss: 0.2261\n",
      "Epoch 72/100\n",
      "\u001b[1m2/2\u001b[0m \u001b[32m━━━━━━━━━━━━━━━━━━━━\u001b[0m\u001b[37m\u001b[0m \u001b[1m0s\u001b[0m 3ms/step - accuracy: 0.9356 - loss: 0.2229 \n",
      "Epoch 73/100\n",
      "\u001b[1m2/2\u001b[0m \u001b[32m━━━━━━━━━━━━━━━━━━━━\u001b[0m\u001b[37m\u001b[0m \u001b[1m0s\u001b[0m 3ms/step - accuracy: 0.9419 - loss: 0.2220  \n",
      "Epoch 74/100\n",
      "\u001b[1m2/2\u001b[0m \u001b[32m━━━━━━━━━━━━━━━━━━━━\u001b[0m\u001b[37m\u001b[0m \u001b[1m0s\u001b[0m 3ms/step - accuracy: 0.9452 - loss: 0.2173 \n",
      "Epoch 75/100\n",
      "\u001b[1m2/2\u001b[0m \u001b[32m━━━━━━━━━━━━━━━━━━━━\u001b[0m\u001b[37m\u001b[0m \u001b[1m0s\u001b[0m 4ms/step - accuracy: 0.9419 - loss: 0.2162 \n",
      "Epoch 76/100\n",
      "\u001b[1m2/2\u001b[0m \u001b[32m━━━━━━━━━━━━━━━━━━━━\u001b[0m\u001b[37m\u001b[0m \u001b[1m0s\u001b[0m 3ms/step - accuracy: 0.9613 - loss: 0.2164\n",
      "Epoch 77/100\n",
      "\u001b[1m2/2\u001b[0m \u001b[32m━━━━━━━━━━━━━━━━━━━━\u001b[0m\u001b[37m\u001b[0m \u001b[1m0s\u001b[0m 4ms/step - accuracy: 0.9613 - loss: 0.2141 \n",
      "Epoch 78/100\n",
      "\u001b[1m2/2\u001b[0m \u001b[32m━━━━━━━━━━━━━━━━━━━━\u001b[0m\u001b[37m\u001b[0m \u001b[1m0s\u001b[0m 4ms/step - accuracy: 0.9646 - loss: 0.2042\n",
      "Epoch 79/100\n",
      "\u001b[1m2/2\u001b[0m \u001b[32m━━━━━━━━━━━━━━━━━━━━\u001b[0m\u001b[37m\u001b[0m \u001b[1m0s\u001b[0m 5ms/step - accuracy: 0.9613 - loss: 0.2051\n",
      "Epoch 80/100\n",
      "\u001b[1m2/2\u001b[0m \u001b[32m━━━━━━━━━━━━━━━━━━━━\u001b[0m\u001b[37m\u001b[0m \u001b[1m0s\u001b[0m 4ms/step - accuracy: 0.9516 - loss: 0.2030\n",
      "Epoch 81/100\n",
      "\u001b[1m2/2\u001b[0m \u001b[32m━━━━━━━━━━━━━━━━━━━━\u001b[0m\u001b[37m\u001b[0m \u001b[1m0s\u001b[0m 4ms/step - accuracy: 0.9419 - loss: 0.1992\n",
      "Epoch 82/100\n",
      "\u001b[1m2/2\u001b[0m \u001b[32m━━━━━━━━━━━━━━━━━━━━\u001b[0m\u001b[37m\u001b[0m \u001b[1m0s\u001b[0m 4ms/step - accuracy: 0.9419 - loss: 0.1979 \n",
      "Epoch 83/100\n",
      "\u001b[1m2/2\u001b[0m \u001b[32m━━━━━━━━━━━━━━━━━━━━\u001b[0m\u001b[37m\u001b[0m \u001b[1m0s\u001b[0m 4ms/step - accuracy: 0.9389 - loss: 0.1904\n",
      "Epoch 84/100\n",
      "\u001b[1m2/2\u001b[0m \u001b[32m━━━━━━━━━━━━━━━━━━━━\u001b[0m\u001b[37m\u001b[0m \u001b[1m0s\u001b[0m 3ms/step - accuracy: 0.9322 - loss: 0.1921\n",
      "Epoch 85/100\n",
      "\u001b[1m2/2\u001b[0m \u001b[32m━━━━━━━━━━━━━━━━━━━━\u001b[0m\u001b[37m\u001b[0m \u001b[1m0s\u001b[0m 2ms/step - accuracy: 0.9322 - loss: 0.1933 \n",
      "Epoch 86/100\n",
      "\u001b[1m2/2\u001b[0m \u001b[32m━━━━━━━━━━━━━━━━━━━━\u001b[0m\u001b[37m\u001b[0m \u001b[1m0s\u001b[0m 2ms/step - accuracy: 0.9322 - loss: 0.1921 \n",
      "Epoch 87/100\n",
      "\u001b[1m2/2\u001b[0m \u001b[32m━━━━━━━━━━━━━━━━━━━━\u001b[0m\u001b[37m\u001b[0m \u001b[1m0s\u001b[0m 3ms/step - accuracy: 0.9322 - loss: 0.1880\n",
      "Epoch 88/100\n",
      "\u001b[1m2/2\u001b[0m \u001b[32m━━━━━━━━━━━━━━━━━━━━\u001b[0m\u001b[37m\u001b[0m \u001b[1m0s\u001b[0m 2ms/step - accuracy: 0.9322 - loss: 0.1856\n",
      "Epoch 89/100\n",
      "\u001b[1m2/2\u001b[0m \u001b[32m━━━━━━━━━━━━━━━━━━━━\u001b[0m\u001b[37m\u001b[0m \u001b[1m0s\u001b[0m 2ms/step - accuracy: 0.9322 - loss: 0.1823 \n",
      "Epoch 90/100\n",
      "\u001b[1m2/2\u001b[0m \u001b[32m━━━━━━━━━━━━━━━━━━━━\u001b[0m\u001b[37m\u001b[0m \u001b[1m0s\u001b[0m 3ms/step - accuracy: 0.9322 - loss: 0.1803 \n",
      "Epoch 91/100\n",
      "\u001b[1m2/2\u001b[0m \u001b[32m━━━━━━━━━━━━━━━━━━━━\u001b[0m\u001b[37m\u001b[0m \u001b[1m0s\u001b[0m 2ms/step - accuracy: 0.9452 - loss: 0.1748\n",
      "Epoch 92/100\n",
      "\u001b[1m2/2\u001b[0m \u001b[32m━━━━━━━━━━━━━━━━━━━━\u001b[0m\u001b[37m\u001b[0m \u001b[1m0s\u001b[0m 3ms/step - accuracy: 0.9646 - loss: 0.1707\n",
      "Epoch 93/100\n",
      "\u001b[1m2/2\u001b[0m \u001b[32m━━━━━━━━━━━━━━━━━━━━\u001b[0m\u001b[37m\u001b[0m \u001b[1m0s\u001b[0m 2ms/step - accuracy: 0.9613 - loss: 0.1729 \n",
      "Epoch 94/100\n",
      "\u001b[1m2/2\u001b[0m \u001b[32m━━━━━━━━━━━━━━━━━━━━\u001b[0m\u001b[37m\u001b[0m \u001b[1m0s\u001b[0m 3ms/step - accuracy: 0.9646 - loss: 0.1660\n",
      "Epoch 95/100\n",
      "\u001b[1m2/2\u001b[0m \u001b[32m━━━━━━━━━━━━━━━━━━━━\u001b[0m\u001b[37m\u001b[0m \u001b[1m0s\u001b[0m 3ms/step - accuracy: 0.9516 - loss: 0.1683\n",
      "Epoch 96/100\n",
      "\u001b[1m2/2\u001b[0m \u001b[32m━━━━━━━━━━━━━━━━━━━━\u001b[0m\u001b[37m\u001b[0m \u001b[1m0s\u001b[0m 3ms/step - accuracy: 0.9516 - loss: 0.1669\n",
      "Epoch 97/100\n",
      "\u001b[1m2/2\u001b[0m \u001b[32m━━━━━━━━━━━━━━━━━━━━\u001b[0m\u001b[37m\u001b[0m \u001b[1m0s\u001b[0m 2ms/step - accuracy: 0.9549 - loss: 0.1614\n",
      "Epoch 98/100\n",
      "\u001b[1m2/2\u001b[0m \u001b[32m━━━━━━━━━━━━━━━━━━━━\u001b[0m\u001b[37m\u001b[0m \u001b[1m0s\u001b[0m 2ms/step - accuracy: 0.9516 - loss: 0.1635\n",
      "Epoch 99/100\n",
      "\u001b[1m2/2\u001b[0m \u001b[32m━━━━━━━━━━━━━━━━━━━━\u001b[0m\u001b[37m\u001b[0m \u001b[1m0s\u001b[0m 3ms/step - accuracy: 0.9516 - loss: 0.1621 \n",
      "Epoch 100/100\n",
      "\u001b[1m2/2\u001b[0m \u001b[32m━━━━━━━━━━━━━━━━━━━━\u001b[0m\u001b[37m\u001b[0m \u001b[1m0s\u001b[0m 2ms/step - accuracy: 0.9516 - loss: 0.1603 \n"
     ]
    }
   ],
   "source": [
    "train = model.fit(X_train, y_train_cat, epochs=100,batch_size=100)"
   ]
  },
  {
   "cell_type": "code",
   "execution_count": 98,
   "id": "95de4532",
   "metadata": {},
   "outputs": [
    {
     "name": "stdout",
     "output_type": "stream",
     "text": [
      "\u001b[1m2/2\u001b[0m \u001b[32m━━━━━━━━━━━━━━━━━━━━\u001b[0m\u001b[37m\u001b[0m \u001b[1m0s\u001b[0m 4ms/step - accuracy: 0.9451 - loss: 0.1582  \n"
     ]
    }
   ],
   "source": [
    "results = model.evaluate(X_test, y_test_cat)"
   ]
  },
  {
   "cell_type": "code",
   "execution_count": 99,
   "id": "3ebcd3fc",
   "metadata": {},
   "outputs": [
    {
     "name": "stdout",
     "output_type": "stream",
     "text": [
      "\u001b[1m2/2\u001b[0m \u001b[32m━━━━━━━━━━━━━━━━━━━━\u001b[0m\u001b[37m\u001b[0m \u001b[1m0s\u001b[0m 26ms/step\n",
      "Predicted class indices: [0 0 0 0 0 2 1 0 2 1 1]\n",
      "True class indices: [0 0 0 0 0 2 1 0 2 1 1]\n",
      "              precision    recall  f1-score   support\n",
      "\n",
      "      setosa       1.00      0.94      0.97        17\n",
      "  versicolor       0.87      0.93      0.90        14\n",
      "   virginica       0.93      0.93      0.93        14\n",
      "\n",
      "    accuracy                           0.93        45\n",
      "   macro avg       0.93      0.93      0.93        45\n",
      "weighted avg       0.94      0.93      0.93        45\n",
      "\n"
     ]
    }
   ],
   "source": [
    "y_pred = model.predict(X_test) \n",
    "y_pred_classes = np.argmax(y_pred, axis=1)  \n",
    "print(\"Predicted class indices:\", y_pred_classes[:11])\n",
    "print(\"True class indices:\", y_test[:11])\n",
    "from sklearn.metrics import classification_report\n",
    "print(classification_report(y_test, y_pred_classes, target_names=['setosa', 'versicolor', 'virginica']))"
   ]
  },
  {
   "cell_type": "code",
   "execution_count": 100,
   "id": "8b869b7f",
   "metadata": {},
   "outputs": [
    {
     "data": {
      "image/png": "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",
      "text/plain": [
       "<Figure size 800x500 with 2 Axes>"
      ]
     },
     "metadata": {},
     "output_type": "display_data"
    }
   ],
   "source": [
    "from sklearn.metrics import confusion_matrix\n",
    "cm = confusion_matrix(y_test, y_pred_classes)\n",
    "conf_matrix = pd.DataFrame(data=cm, columns=['Predicted 0', 'Predicted 1', 'Predicted 2'], index=['Actual 0', 'Actual 1', 'Actual 2'])\n",
    "plt.figure(figsize=(8,5))\n",
    "sns.heatmap(conf_matrix, annot=True, fmt='d', cmap=\"YlGnBu\")\n",
    "plt.show()"
   ]
  },
  {
   "cell_type": "markdown",
   "id": "7bccee90",
   "metadata": {},
   "source": [
    "- Creating sequnetial ANN Network\n",
    "- Creating 5 layers Network\n",
    "- Activation is \"Relu\"\n",
    "- Adding Dropout layer\n",
    "- Last layer is output layer\n",
    "- Problem is binary classification thats way output node is 1 and activation is \"sigmoid\""
   ]
  },
  {
   "cell_type": "code",
   "execution_count": 101,
   "id": "1de33ee9",
   "metadata": {},
   "outputs": [
    {
     "name": "stderr",
     "output_type": "stream",
     "text": [
      "C:\\Users\\MSI\\anaconda3\\envs\\Joya\\Lib\\site-packages\\keras\\src\\layers\\core\\dense.py:87: UserWarning: Do not pass an `input_shape`/`input_dim` argument to a layer. When using Sequential models, prefer using an `Input(shape)` object as the first layer in the model instead.\n",
      "  super().__init__(activity_regularizer=activity_regularizer, **kwargs)\n"
     ]
    },
    {
     "data": {
      "text/html": [
       "<pre style=\"white-space:pre;overflow-x:auto;line-height:normal;font-family:Menlo,'DejaVu Sans Mono',consolas,'Courier New',monospace\"><span style=\"font-weight: bold\">Model: \"sequential_1\"</span>\n",
       "</pre>\n"
      ],
      "text/plain": [
       "\u001b[1mModel: \"sequential_1\"\u001b[0m\n"
      ]
     },
     "metadata": {},
     "output_type": "display_data"
    },
    {
     "data": {
      "text/html": [
       "<pre style=\"white-space:pre;overflow-x:auto;line-height:normal;font-family:Menlo,'DejaVu Sans Mono',consolas,'Courier New',monospace\">┏━━━━━━━━━━━━━━━━━━━━━━━━━━━━━━━━━━━━━━┳━━━━━━━━━━━━━━━━━━━━━━━━━━━━━┳━━━━━━━━━━━━━━━━━┓\n",
       "┃<span style=\"font-weight: bold\"> Layer (type)                         </span>┃<span style=\"font-weight: bold\"> Output Shape                </span>┃<span style=\"font-weight: bold\">         Param # </span>┃\n",
       "┡━━━━━━━━━━━━━━━━━━━━━━━━━━━━━━━━━━━━━━╇━━━━━━━━━━━━━━━━━━━━━━━━━━━━━╇━━━━━━━━━━━━━━━━━┩\n",
       "│ dense_3 (<span style=\"color: #0087ff; text-decoration-color: #0087ff\">Dense</span>)                      │ (<span style=\"color: #00d7ff; text-decoration-color: #00d7ff\">None</span>, <span style=\"color: #00af00; text-decoration-color: #00af00\">512</span>)                 │           <span style=\"color: #00af00; text-decoration-color: #00af00\">2,560</span> │\n",
       "├──────────────────────────────────────┼─────────────────────────────┼─────────────────┤\n",
       "│ dense_4 (<span style=\"color: #0087ff; text-decoration-color: #0087ff\">Dense</span>)                      │ (<span style=\"color: #00d7ff; text-decoration-color: #00d7ff\">None</span>, <span style=\"color: #00af00; text-decoration-color: #00af00\">512</span>)                 │         <span style=\"color: #00af00; text-decoration-color: #00af00\">262,656</span> │\n",
       "├──────────────────────────────────────┼─────────────────────────────┼─────────────────┤\n",
       "│ dropout (<span style=\"color: #0087ff; text-decoration-color: #0087ff\">Dropout</span>)                    │ (<span style=\"color: #00d7ff; text-decoration-color: #00d7ff\">None</span>, <span style=\"color: #00af00; text-decoration-color: #00af00\">512</span>)                 │               <span style=\"color: #00af00; text-decoration-color: #00af00\">0</span> │\n",
       "├──────────────────────────────────────┼─────────────────────────────┼─────────────────┤\n",
       "│ dense_5 (<span style=\"color: #0087ff; text-decoration-color: #0087ff\">Dense</span>)                      │ (<span style=\"color: #00d7ff; text-decoration-color: #00d7ff\">None</span>, <span style=\"color: #00af00; text-decoration-color: #00af00\">256</span>)                 │         <span style=\"color: #00af00; text-decoration-color: #00af00\">131,328</span> │\n",
       "├──────────────────────────────────────┼─────────────────────────────┼─────────────────┤\n",
       "│ dense_6 (<span style=\"color: #0087ff; text-decoration-color: #0087ff\">Dense</span>)                      │ (<span style=\"color: #00d7ff; text-decoration-color: #00d7ff\">None</span>, <span style=\"color: #00af00; text-decoration-color: #00af00\">256</span>)                 │          <span style=\"color: #00af00; text-decoration-color: #00af00\">65,792</span> │\n",
       "├──────────────────────────────────────┼─────────────────────────────┼─────────────────┤\n",
       "│ dropout_1 (<span style=\"color: #0087ff; text-decoration-color: #0087ff\">Dropout</span>)                  │ (<span style=\"color: #00d7ff; text-decoration-color: #00d7ff\">None</span>, <span style=\"color: #00af00; text-decoration-color: #00af00\">256</span>)                 │               <span style=\"color: #00af00; text-decoration-color: #00af00\">0</span> │\n",
       "├──────────────────────────────────────┼─────────────────────────────┼─────────────────┤\n",
       "│ dense_7 (<span style=\"color: #0087ff; text-decoration-color: #0087ff\">Dense</span>)                      │ (<span style=\"color: #00d7ff; text-decoration-color: #00d7ff\">None</span>, <span style=\"color: #00af00; text-decoration-color: #00af00\">128</span>)                 │          <span style=\"color: #00af00; text-decoration-color: #00af00\">32,896</span> │\n",
       "├──────────────────────────────────────┼─────────────────────────────┼─────────────────┤\n",
       "│ dense_8 (<span style=\"color: #0087ff; text-decoration-color: #0087ff\">Dense</span>)                      │ (<span style=\"color: #00d7ff; text-decoration-color: #00d7ff\">None</span>, <span style=\"color: #00af00; text-decoration-color: #00af00\">128</span>)                 │          <span style=\"color: #00af00; text-decoration-color: #00af00\">16,512</span> │\n",
       "├──────────────────────────────────────┼─────────────────────────────┼─────────────────┤\n",
       "│ dropout_2 (<span style=\"color: #0087ff; text-decoration-color: #0087ff\">Dropout</span>)                  │ (<span style=\"color: #00d7ff; text-decoration-color: #00d7ff\">None</span>, <span style=\"color: #00af00; text-decoration-color: #00af00\">128</span>)                 │               <span style=\"color: #00af00; text-decoration-color: #00af00\">0</span> │\n",
       "├──────────────────────────────────────┼─────────────────────────────┼─────────────────┤\n",
       "│ dense_9 (<span style=\"color: #0087ff; text-decoration-color: #0087ff\">Dense</span>)                      │ (<span style=\"color: #00d7ff; text-decoration-color: #00d7ff\">None</span>, <span style=\"color: #00af00; text-decoration-color: #00af00\">1</span>)                   │             <span style=\"color: #00af00; text-decoration-color: #00af00\">129</span> │\n",
       "└──────────────────────────────────────┴─────────────────────────────┴─────────────────┘\n",
       "</pre>\n"
      ],
      "text/plain": [
       "┏━━━━━━━━━━━━━━━━━━━━━━━━━━━━━━━━━━━━━━┳━━━━━━━━━━━━━━━━━━━━━━━━━━━━━┳━━━━━━━━━━━━━━━━━┓\n",
       "┃\u001b[1m \u001b[0m\u001b[1mLayer (type)                        \u001b[0m\u001b[1m \u001b[0m┃\u001b[1m \u001b[0m\u001b[1mOutput Shape               \u001b[0m\u001b[1m \u001b[0m┃\u001b[1m \u001b[0m\u001b[1m        Param #\u001b[0m\u001b[1m \u001b[0m┃\n",
       "┡━━━━━━━━━━━━━━━━━━━━━━━━━━━━━━━━━━━━━━╇━━━━━━━━━━━━━━━━━━━━━━━━━━━━━╇━━━━━━━━━━━━━━━━━┩\n",
       "│ dense_3 (\u001b[38;5;33mDense\u001b[0m)                      │ (\u001b[38;5;45mNone\u001b[0m, \u001b[38;5;34m512\u001b[0m)                 │           \u001b[38;5;34m2,560\u001b[0m │\n",
       "├──────────────────────────────────────┼─────────────────────────────┼─────────────────┤\n",
       "│ dense_4 (\u001b[38;5;33mDense\u001b[0m)                      │ (\u001b[38;5;45mNone\u001b[0m, \u001b[38;5;34m512\u001b[0m)                 │         \u001b[38;5;34m262,656\u001b[0m │\n",
       "├──────────────────────────────────────┼─────────────────────────────┼─────────────────┤\n",
       "│ dropout (\u001b[38;5;33mDropout\u001b[0m)                    │ (\u001b[38;5;45mNone\u001b[0m, \u001b[38;5;34m512\u001b[0m)                 │               \u001b[38;5;34m0\u001b[0m │\n",
       "├──────────────────────────────────────┼─────────────────────────────┼─────────────────┤\n",
       "│ dense_5 (\u001b[38;5;33mDense\u001b[0m)                      │ (\u001b[38;5;45mNone\u001b[0m, \u001b[38;5;34m256\u001b[0m)                 │         \u001b[38;5;34m131,328\u001b[0m │\n",
       "├──────────────────────────────────────┼─────────────────────────────┼─────────────────┤\n",
       "│ dense_6 (\u001b[38;5;33mDense\u001b[0m)                      │ (\u001b[38;5;45mNone\u001b[0m, \u001b[38;5;34m256\u001b[0m)                 │          \u001b[38;5;34m65,792\u001b[0m │\n",
       "├──────────────────────────────────────┼─────────────────────────────┼─────────────────┤\n",
       "│ dropout_1 (\u001b[38;5;33mDropout\u001b[0m)                  │ (\u001b[38;5;45mNone\u001b[0m, \u001b[38;5;34m256\u001b[0m)                 │               \u001b[38;5;34m0\u001b[0m │\n",
       "├──────────────────────────────────────┼─────────────────────────────┼─────────────────┤\n",
       "│ dense_7 (\u001b[38;5;33mDense\u001b[0m)                      │ (\u001b[38;5;45mNone\u001b[0m, \u001b[38;5;34m128\u001b[0m)                 │          \u001b[38;5;34m32,896\u001b[0m │\n",
       "├──────────────────────────────────────┼─────────────────────────────┼─────────────────┤\n",
       "│ dense_8 (\u001b[38;5;33mDense\u001b[0m)                      │ (\u001b[38;5;45mNone\u001b[0m, \u001b[38;5;34m128\u001b[0m)                 │          \u001b[38;5;34m16,512\u001b[0m │\n",
       "├──────────────────────────────────────┼─────────────────────────────┼─────────────────┤\n",
       "│ dropout_2 (\u001b[38;5;33mDropout\u001b[0m)                  │ (\u001b[38;5;45mNone\u001b[0m, \u001b[38;5;34m128\u001b[0m)                 │               \u001b[38;5;34m0\u001b[0m │\n",
       "├──────────────────────────────────────┼─────────────────────────────┼─────────────────┤\n",
       "│ dense_9 (\u001b[38;5;33mDense\u001b[0m)                      │ (\u001b[38;5;45mNone\u001b[0m, \u001b[38;5;34m1\u001b[0m)                   │             \u001b[38;5;34m129\u001b[0m │\n",
       "└──────────────────────────────────────┴─────────────────────────────┴─────────────────┘\n"
      ]
     },
     "metadata": {},
     "output_type": "display_data"
    },
    {
     "data": {
      "text/html": [
       "<pre style=\"white-space:pre;overflow-x:auto;line-height:normal;font-family:Menlo,'DejaVu Sans Mono',consolas,'Courier New',monospace\"><span style=\"font-weight: bold\"> Total params: </span><span style=\"color: #00af00; text-decoration-color: #00af00\">511,873</span> (1.95 MB)\n",
       "</pre>\n"
      ],
      "text/plain": [
       "\u001b[1m Total params: \u001b[0m\u001b[38;5;34m511,873\u001b[0m (1.95 MB)\n"
      ]
     },
     "metadata": {},
     "output_type": "display_data"
    },
    {
     "data": {
      "text/html": [
       "<pre style=\"white-space:pre;overflow-x:auto;line-height:normal;font-family:Menlo,'DejaVu Sans Mono',consolas,'Courier New',monospace\"><span style=\"font-weight: bold\"> Trainable params: </span><span style=\"color: #00af00; text-decoration-color: #00af00\">511,873</span> (1.95 MB)\n",
       "</pre>\n"
      ],
      "text/plain": [
       "\u001b[1m Trainable params: \u001b[0m\u001b[38;5;34m511,873\u001b[0m (1.95 MB)\n"
      ]
     },
     "metadata": {},
     "output_type": "display_data"
    },
    {
     "data": {
      "text/html": [
       "<pre style=\"white-space:pre;overflow-x:auto;line-height:normal;font-family:Menlo,'DejaVu Sans Mono',consolas,'Courier New',monospace\"><span style=\"font-weight: bold\"> Non-trainable params: </span><span style=\"color: #00af00; text-decoration-color: #00af00\">0</span> (0.00 B)\n",
       "</pre>\n"
      ],
      "text/plain": [
       "\u001b[1m Non-trainable params: \u001b[0m\u001b[38;5;34m0\u001b[0m (0.00 B)\n"
      ]
     },
     "metadata": {},
     "output_type": "display_data"
    }
   ],
   "source": [
    "from keras.models import Sequential\n",
    "from keras.layers import Dense,Dropout\n",
    "from tensorflow.keras.optimizers import Adam\n",
    "from tensorflow.keras.losses import BinaryCrossentropy\n",
    "model = Sequential()\n",
    "model.add(Dense(512,activation='relu',input_shape=(4,)))\n",
    "model.add(Dense(512,activation='relu'))\n",
    "model.add(Dropout(0.5))\n",
    "model.add(Dense(256,activation='relu'))\n",
    "model.add(Dense(256,activation='relu'))\n",
    "model.add(Dropout(0.5))\n",
    "model.add(Dense(128,activation='relu'))\n",
    "model.add(Dense(128,activation='relu'))\n",
    "model.add(Dropout(0.5))\n",
    "model.add(Dense(1,activation = 'sigmoid'))\n",
    "model.summary()"
   ]
  },
  {
   "cell_type": "code",
   "execution_count": 102,
   "id": "bbda65fe",
   "metadata": {},
   "outputs": [],
   "source": [
    "model.compile(loss=\"categorical_crossentropy\", optimizer=Adam(learning_rate=0.0001), metrics=['accuracy'])"
   ]
  },
  {
   "cell_type": "code",
   "execution_count": 103,
   "id": "4125c857",
   "metadata": {},
   "outputs": [],
   "source": [
    "from keras.callbacks import EarlyStopping\n",
    "cb = EarlyStopping(\n",
    "    monitor='accuracy',\n",
    "    min_delta=0.001,\n",
    "    patience=100,\n",
    "    mode='auto')"
   ]
  },
  {
   "cell_type": "code",
   "execution_count": 104,
   "id": "484f058a",
   "metadata": {
    "scrolled": true
   },
   "outputs": [
    {
     "name": "stdout",
     "output_type": "stream",
     "text": [
      "Epoch 1/50\n"
     ]
    },
    {
     "name": "stderr",
     "output_type": "stream",
     "text": [
      "C:\\Users\\MSI\\anaconda3\\envs\\Joya\\Lib\\site-packages\\keras\\src\\losses\\losses.py:27: SyntaxWarning: In loss categorical_crossentropy, expected y_pred.shape to be (batch_size, num_classes) with num_classes > 1. Received: y_pred.shape=(None, 1). Consider using 'binary_crossentropy' if you only have 2 classes.\n",
      "  return self.fn(y_true, y_pred, **self._fn_kwargs)\n"
     ]
    },
    {
     "name": "stdout",
     "output_type": "stream",
     "text": [
      "\u001b[1m1/1\u001b[0m \u001b[32m━━━━━━━━━━━━━━━━━━━━\u001b[0m\u001b[37m\u001b[0m \u001b[1m2s\u001b[0m 2s/step - accuracy: 0.2740 - loss: 0.0000e+00 - val_accuracy: 0.3438 - val_loss: 0.0000e+00\n",
      "Epoch 2/50\n",
      "\u001b[1m1/1\u001b[0m \u001b[32m━━━━━━━━━━━━━━━━━━━━\u001b[0m\u001b[37m\u001b[0m \u001b[1m0s\u001b[0m 67ms/step - accuracy: 0.4247 - loss: 0.0000e+00 - val_accuracy: 0.5312 - val_loss: 0.0000e+00\n",
      "Epoch 3/50\n",
      "\u001b[1m1/1\u001b[0m \u001b[32m━━━━━━━━━━━━━━━━━━━━\u001b[0m\u001b[37m\u001b[0m \u001b[1m0s\u001b[0m 60ms/step - accuracy: 0.3288 - loss: 0.0000e+00 - val_accuracy: 0.5625 - val_loss: 0.0000e+00\n",
      "Epoch 4/50\n",
      "\u001b[1m1/1\u001b[0m \u001b[32m━━━━━━━━━━━━━━━━━━━━\u001b[0m\u001b[37m\u001b[0m \u001b[1m0s\u001b[0m 65ms/step - accuracy: 0.4247 - loss: 0.0000e+00 - val_accuracy: 0.5625 - val_loss: 0.0000e+00\n",
      "Epoch 5/50\n",
      "\u001b[1m1/1\u001b[0m \u001b[32m━━━━━━━━━━━━━━━━━━━━\u001b[0m\u001b[37m\u001b[0m \u001b[1m0s\u001b[0m 64ms/step - accuracy: 0.4384 - loss: 0.0000e+00 - val_accuracy: 0.5312 - val_loss: 0.0000e+00\n",
      "Epoch 6/50\n",
      "\u001b[1m1/1\u001b[0m \u001b[32m━━━━━━━━━━━━━━━━━━━━\u001b[0m\u001b[37m\u001b[0m \u001b[1m0s\u001b[0m 54ms/step - accuracy: 0.4110 - loss: 0.0000e+00 - val_accuracy: 0.5312 - val_loss: 0.0000e+00\n",
      "Epoch 7/50\n",
      "\u001b[1m1/1\u001b[0m \u001b[32m━━━━━━━━━━━━━━━━━━━━\u001b[0m\u001b[37m\u001b[0m \u001b[1m0s\u001b[0m 54ms/step - accuracy: 0.4795 - loss: 0.0000e+00 - val_accuracy: 0.5312 - val_loss: 0.0000e+00\n",
      "Epoch 8/50\n",
      "\u001b[1m1/1\u001b[0m \u001b[32m━━━━━━━━━━━━━━━━━━━━\u001b[0m\u001b[37m\u001b[0m \u001b[1m0s\u001b[0m 54ms/step - accuracy: 0.4658 - loss: 0.0000e+00 - val_accuracy: 0.5312 - val_loss: 0.0000e+00\n",
      "Epoch 9/50\n",
      "\u001b[1m1/1\u001b[0m \u001b[32m━━━━━━━━━━━━━━━━━━━━\u001b[0m\u001b[37m\u001b[0m \u001b[1m0s\u001b[0m 54ms/step - accuracy: 0.5342 - loss: 0.0000e+00 - val_accuracy: 0.5312 - val_loss: 0.0000e+00\n",
      "Epoch 10/50\n",
      "\u001b[1m1/1\u001b[0m \u001b[32m━━━━━━━━━━━━━━━━━━━━\u001b[0m\u001b[37m\u001b[0m \u001b[1m0s\u001b[0m 52ms/step - accuracy: 0.5616 - loss: 0.0000e+00 - val_accuracy: 0.5312 - val_loss: 0.0000e+00\n",
      "Epoch 11/50\n",
      "\u001b[1m1/1\u001b[0m \u001b[32m━━━━━━━━━━━━━━━━━━━━\u001b[0m\u001b[37m\u001b[0m \u001b[1m0s\u001b[0m 56ms/step - accuracy: 0.5205 - loss: 0.0000e+00 - val_accuracy: 0.5312 - val_loss: 0.0000e+00\n",
      "Epoch 12/50\n",
      "\u001b[1m1/1\u001b[0m \u001b[32m━━━━━━━━━━━━━━━━━━━━\u001b[0m\u001b[37m\u001b[0m \u001b[1m0s\u001b[0m 54ms/step - accuracy: 0.5479 - loss: 0.0000e+00 - val_accuracy: 0.5312 - val_loss: 0.0000e+00\n",
      "Epoch 13/50\n",
      "\u001b[1m1/1\u001b[0m \u001b[32m━━━━━━━━━━━━━━━━━━━━\u001b[0m\u001b[37m\u001b[0m \u001b[1m0s\u001b[0m 54ms/step - accuracy: 0.5753 - loss: 0.0000e+00 - val_accuracy: 0.5312 - val_loss: 0.0000e+00\n",
      "Epoch 14/50\n",
      "\u001b[1m1/1\u001b[0m \u001b[32m━━━━━━━━━━━━━━━━━━━━\u001b[0m\u001b[37m\u001b[0m \u001b[1m0s\u001b[0m 57ms/step - accuracy: 0.5753 - loss: 0.0000e+00 - val_accuracy: 0.5312 - val_loss: 0.0000e+00\n",
      "Epoch 15/50\n",
      "\u001b[1m1/1\u001b[0m \u001b[32m━━━━━━━━━━━━━━━━━━━━\u001b[0m\u001b[37m\u001b[0m \u001b[1m0s\u001b[0m 53ms/step - accuracy: 0.5616 - loss: 0.0000e+00 - val_accuracy: 0.5312 - val_loss: 0.0000e+00\n",
      "Epoch 16/50\n",
      "\u001b[1m1/1\u001b[0m \u001b[32m━━━━━━━━━━━━━━━━━━━━\u001b[0m\u001b[37m\u001b[0m \u001b[1m0s\u001b[0m 53ms/step - accuracy: 0.6027 - loss: 0.0000e+00 - val_accuracy: 0.5312 - val_loss: 0.0000e+00\n",
      "Epoch 17/50\n",
      "\u001b[1m1/1\u001b[0m \u001b[32m━━━━━━━━━━━━━━━━━━━━\u001b[0m\u001b[37m\u001b[0m \u001b[1m0s\u001b[0m 61ms/step - accuracy: 0.5753 - loss: 0.0000e+00 - val_accuracy: 0.5312 - val_loss: 0.0000e+00\n",
      "Epoch 18/50\n",
      "\u001b[1m1/1\u001b[0m \u001b[32m━━━━━━━━━━━━━━━━━━━━\u001b[0m\u001b[37m\u001b[0m \u001b[1m0s\u001b[0m 57ms/step - accuracy: 0.5890 - loss: 0.0000e+00 - val_accuracy: 0.5312 - val_loss: 0.0000e+00\n",
      "Epoch 19/50\n",
      "\u001b[1m1/1\u001b[0m \u001b[32m━━━━━━━━━━━━━━━━━━━━\u001b[0m\u001b[37m\u001b[0m \u001b[1m0s\u001b[0m 53ms/step - accuracy: 0.5616 - loss: 0.0000e+00 - val_accuracy: 0.5312 - val_loss: 0.0000e+00\n",
      "Epoch 20/50\n",
      "\u001b[1m1/1\u001b[0m \u001b[32m━━━━━━━━━━━━━━━━━━━━\u001b[0m\u001b[37m\u001b[0m \u001b[1m0s\u001b[0m 56ms/step - accuracy: 0.6301 - loss: 0.0000e+00 - val_accuracy: 0.5312 - val_loss: 0.0000e+00\n",
      "Epoch 21/50\n",
      "\u001b[1m1/1\u001b[0m \u001b[32m━━━━━━━━━━━━━━━━━━━━\u001b[0m\u001b[37m\u001b[0m \u001b[1m0s\u001b[0m 75ms/step - accuracy: 0.5753 - loss: 0.0000e+00 - val_accuracy: 0.5312 - val_loss: 0.0000e+00\n",
      "Epoch 22/50\n",
      "\u001b[1m1/1\u001b[0m \u001b[32m━━━━━━━━━━━━━━━━━━━━\u001b[0m\u001b[37m\u001b[0m \u001b[1m0s\u001b[0m 61ms/step - accuracy: 0.6301 - loss: 0.0000e+00 - val_accuracy: 0.5312 - val_loss: 0.0000e+00\n",
      "Epoch 23/50\n",
      "\u001b[1m1/1\u001b[0m \u001b[32m━━━━━━━━━━━━━━━━━━━━\u001b[0m\u001b[37m\u001b[0m \u001b[1m0s\u001b[0m 55ms/step - accuracy: 0.5753 - loss: 0.0000e+00 - val_accuracy: 0.5312 - val_loss: 0.0000e+00\n",
      "Epoch 24/50\n",
      "\u001b[1m1/1\u001b[0m \u001b[32m━━━━━━━━━━━━━━━━━━━━\u001b[0m\u001b[37m\u001b[0m \u001b[1m0s\u001b[0m 61ms/step - accuracy: 0.6164 - loss: 0.0000e+00 - val_accuracy: 0.5312 - val_loss: 0.0000e+00\n",
      "Epoch 25/50\n",
      "\u001b[1m1/1\u001b[0m \u001b[32m━━━━━━━━━━━━━━━━━━━━\u001b[0m\u001b[37m\u001b[0m \u001b[1m0s\u001b[0m 55ms/step - accuracy: 0.6301 - loss: 0.0000e+00 - val_accuracy: 0.5312 - val_loss: 0.0000e+00\n",
      "Epoch 26/50\n",
      "\u001b[1m1/1\u001b[0m \u001b[32m━━━━━━━━━━━━━━━━━━━━\u001b[0m\u001b[37m\u001b[0m \u001b[1m0s\u001b[0m 53ms/step - accuracy: 0.6164 - loss: 0.0000e+00 - val_accuracy: 0.5312 - val_loss: 0.0000e+00\n",
      "Epoch 27/50\n",
      "\u001b[1m1/1\u001b[0m \u001b[32m━━━━━━━━━━━━━━━━━━━━\u001b[0m\u001b[37m\u001b[0m \u001b[1m0s\u001b[0m 50ms/step - accuracy: 0.6164 - loss: 0.0000e+00 - val_accuracy: 0.5312 - val_loss: 0.0000e+00\n",
      "Epoch 28/50\n",
      "\u001b[1m1/1\u001b[0m \u001b[32m━━━━━━━━━━━━━━━━━━━━\u001b[0m\u001b[37m\u001b[0m \u001b[1m0s\u001b[0m 51ms/step - accuracy: 0.6438 - loss: 0.0000e+00 - val_accuracy: 0.5312 - val_loss: 0.0000e+00\n",
      "Epoch 29/50\n",
      "\u001b[1m1/1\u001b[0m \u001b[32m━━━━━━━━━━━━━━━━━━━━\u001b[0m\u001b[37m\u001b[0m \u001b[1m0s\u001b[0m 49ms/step - accuracy: 0.6301 - loss: 0.0000e+00 - val_accuracy: 0.5312 - val_loss: 0.0000e+00\n",
      "Epoch 30/50\n",
      "\u001b[1m1/1\u001b[0m \u001b[32m━━━━━━━━━━━━━━━━━━━━\u001b[0m\u001b[37m\u001b[0m \u001b[1m0s\u001b[0m 50ms/step - accuracy: 0.6164 - loss: 0.0000e+00 - val_accuracy: 0.5312 - val_loss: 0.0000e+00\n",
      "Epoch 31/50\n",
      "\u001b[1m1/1\u001b[0m \u001b[32m━━━━━━━━━━━━━━━━━━━━\u001b[0m\u001b[37m\u001b[0m \u001b[1m0s\u001b[0m 50ms/step - accuracy: 0.6027 - loss: 0.0000e+00 - val_accuracy: 0.5312 - val_loss: 0.0000e+00\n",
      "Epoch 32/50\n",
      "\u001b[1m1/1\u001b[0m \u001b[32m━━━━━━━━━━━━━━━━━━━━\u001b[0m\u001b[37m\u001b[0m \u001b[1m0s\u001b[0m 50ms/step - accuracy: 0.6301 - loss: 0.0000e+00 - val_accuracy: 0.5312 - val_loss: 0.0000e+00\n",
      "Epoch 33/50\n",
      "\u001b[1m1/1\u001b[0m \u001b[32m━━━━━━━━━━━━━━━━━━━━\u001b[0m\u001b[37m\u001b[0m \u001b[1m0s\u001b[0m 48ms/step - accuracy: 0.6164 - loss: 0.0000e+00 - val_accuracy: 0.5312 - val_loss: 0.0000e+00\n",
      "Epoch 34/50\n",
      "\u001b[1m1/1\u001b[0m \u001b[32m━━━━━━━━━━━━━━━━━━━━\u001b[0m\u001b[37m\u001b[0m \u001b[1m0s\u001b[0m 47ms/step - accuracy: 0.6301 - loss: 0.0000e+00 - val_accuracy: 0.5312 - val_loss: 0.0000e+00\n",
      "Epoch 35/50\n",
      "\u001b[1m1/1\u001b[0m \u001b[32m━━━━━━━━━━━━━━━━━━━━\u001b[0m\u001b[37m\u001b[0m \u001b[1m0s\u001b[0m 51ms/step - accuracy: 0.6301 - loss: 0.0000e+00 - val_accuracy: 0.5312 - val_loss: 0.0000e+00\n",
      "Epoch 36/50\n",
      "\u001b[1m1/1\u001b[0m \u001b[32m━━━━━━━━━━━━━━━━━━━━\u001b[0m\u001b[37m\u001b[0m \u001b[1m0s\u001b[0m 48ms/step - accuracy: 0.6164 - loss: 0.0000e+00 - val_accuracy: 0.5312 - val_loss: 0.0000e+00\n",
      "Epoch 37/50\n",
      "\u001b[1m1/1\u001b[0m \u001b[32m━━━━━━━━━━━━━━━━━━━━\u001b[0m\u001b[37m\u001b[0m \u001b[1m0s\u001b[0m 51ms/step - accuracy: 0.6301 - loss: 0.0000e+00 - val_accuracy: 0.5312 - val_loss: 0.0000e+00\n",
      "Epoch 38/50\n",
      "\u001b[1m1/1\u001b[0m \u001b[32m━━━━━━━━━━━━━━━━━━━━\u001b[0m\u001b[37m\u001b[0m \u001b[1m0s\u001b[0m 51ms/step - accuracy: 0.6301 - loss: 0.0000e+00 - val_accuracy: 0.5312 - val_loss: 0.0000e+00\n",
      "Epoch 39/50\n",
      "\u001b[1m1/1\u001b[0m \u001b[32m━━━━━━━━━━━━━━━━━━━━\u001b[0m\u001b[37m\u001b[0m \u001b[1m0s\u001b[0m 53ms/step - accuracy: 0.6301 - loss: 0.0000e+00 - val_accuracy: 0.5312 - val_loss: 0.0000e+00\n",
      "Epoch 40/50\n",
      "\u001b[1m1/1\u001b[0m \u001b[32m━━━━━━━━━━━━━━━━━━━━\u001b[0m\u001b[37m\u001b[0m \u001b[1m0s\u001b[0m 51ms/step - accuracy: 0.6301 - loss: 0.0000e+00 - val_accuracy: 0.5312 - val_loss: 0.0000e+00\n",
      "Epoch 41/50\n",
      "\u001b[1m1/1\u001b[0m \u001b[32m━━━━━━━━━━━━━━━━━━━━\u001b[0m\u001b[37m\u001b[0m \u001b[1m0s\u001b[0m 51ms/step - accuracy: 0.6164 - loss: 0.0000e+00 - val_accuracy: 0.5312 - val_loss: 0.0000e+00\n",
      "Epoch 42/50\n",
      "\u001b[1m1/1\u001b[0m \u001b[32m━━━━━━━━━━━━━━━━━━━━\u001b[0m\u001b[37m\u001b[0m \u001b[1m0s\u001b[0m 52ms/step - accuracy: 0.6164 - loss: 0.0000e+00 - val_accuracy: 0.5312 - val_loss: 0.0000e+00\n",
      "Epoch 43/50\n",
      "\u001b[1m1/1\u001b[0m \u001b[32m━━━━━━━━━━━━━━━━━━━━\u001b[0m\u001b[37m\u001b[0m \u001b[1m0s\u001b[0m 52ms/step - accuracy: 0.6301 - loss: 0.0000e+00 - val_accuracy: 0.5312 - val_loss: 0.0000e+00\n",
      "Epoch 44/50\n",
      "\u001b[1m1/1\u001b[0m \u001b[32m━━━━━━━━━━━━━━━━━━━━\u001b[0m\u001b[37m\u001b[0m \u001b[1m0s\u001b[0m 56ms/step - accuracy: 0.6301 - loss: 0.0000e+00 - val_accuracy: 0.5312 - val_loss: 0.0000e+00\n",
      "Epoch 45/50\n",
      "\u001b[1m1/1\u001b[0m \u001b[32m━━━━━━━━━━━━━━━━━━━━\u001b[0m\u001b[37m\u001b[0m \u001b[1m0s\u001b[0m 60ms/step - accuracy: 0.6301 - loss: 0.0000e+00 - val_accuracy: 0.5312 - val_loss: 0.0000e+00\n",
      "Epoch 46/50\n",
      "\u001b[1m1/1\u001b[0m \u001b[32m━━━━━━━━━━━━━━━━━━━━\u001b[0m\u001b[37m\u001b[0m \u001b[1m0s\u001b[0m 56ms/step - accuracy: 0.6301 - loss: 0.0000e+00 - val_accuracy: 0.5312 - val_loss: 0.0000e+00\n",
      "Epoch 47/50\n",
      "\u001b[1m1/1\u001b[0m \u001b[32m━━━━━━━━━━━━━━━━━━━━\u001b[0m\u001b[37m\u001b[0m \u001b[1m0s\u001b[0m 57ms/step - accuracy: 0.6301 - loss: 0.0000e+00 - val_accuracy: 0.5312 - val_loss: 0.0000e+00\n",
      "Epoch 48/50\n",
      "\u001b[1m1/1\u001b[0m \u001b[32m━━━━━━━━━━━━━━━━━━━━\u001b[0m\u001b[37m\u001b[0m \u001b[1m0s\u001b[0m 61ms/step - accuracy: 0.6438 - loss: 0.0000e+00 - val_accuracy: 0.5625 - val_loss: 0.0000e+00\n",
      "Epoch 49/50\n",
      "\u001b[1m1/1\u001b[0m \u001b[32m━━━━━━━━━━━━━━━━━━━━\u001b[0m\u001b[37m\u001b[0m \u001b[1m0s\u001b[0m 63ms/step - accuracy: 0.6301 - loss: 0.0000e+00 - val_accuracy: 0.5625 - val_loss: 0.0000e+00\n",
      "Epoch 50/50\n",
      "\u001b[1m1/1\u001b[0m \u001b[32m━━━━━━━━━━━━━━━━━━━━\u001b[0m\u001b[37m\u001b[0m \u001b[1m0s\u001b[0m 55ms/step - accuracy: 0.6164 - loss: 0.0000e+00 - val_accuracy: 0.5625 - val_loss: 0.0000e+00\n"
     ]
    },
    {
     "data": {
      "text/plain": [
       "<keras.src.callbacks.history.History at 0x1a613f0b350>"
      ]
     },
     "execution_count": 104,
     "metadata": {},
     "output_type": "execute_result"
    }
   ],
   "source": [
    "model.fit(X_train, y_train,epochs=50, batch_size=100, validation_split=0.30,callbacks=cb,verbose=1)"
   ]
  },
  {
   "cell_type": "markdown",
   "id": "0122a390",
   "metadata": {},
   "source": [
    "# Testing the model"
   ]
  },
  {
   "cell_type": "code",
   "execution_count": 105,
   "id": "743ca9e6",
   "metadata": {},
   "outputs": [
    {
     "name": "stdout",
     "output_type": "stream",
     "text": [
      "\u001b[1m2/2\u001b[0m \u001b[32m━━━━━━━━━━━━━━━━━━━━\u001b[0m\u001b[37m\u001b[0m \u001b[1m0s\u001b[0m 8ms/step - accuracy: 0.6632 - loss: 0.0000e+00\n"
     ]
    },
    {
     "data": {
      "text/plain": [
       "[0.0, 0.6666666865348816]"
      ]
     },
     "execution_count": 105,
     "metadata": {},
     "output_type": "execute_result"
    }
   ],
   "source": [
    "model.evaluate(X_test, y_test)"
   ]
  },
  {
   "cell_type": "code",
   "execution_count": 106,
   "id": "b3fe3852",
   "metadata": {},
   "outputs": [
    {
     "name": "stdout",
     "output_type": "stream",
     "text": [
      "\u001b[1m2/2\u001b[0m \u001b[32m━━━━━━━━━━━━━━━━━━━━\u001b[0m\u001b[37m\u001b[0m \u001b[1m0s\u001b[0m 71ms/step\n",
      "              precision    recall  f1-score   support\n",
      "\n",
      "           0       0.94      1.00      0.97        17\n",
      "           1       0.48      0.93      0.63        14\n",
      "           2       0.00      0.00      0.00        14\n",
      "\n",
      "    accuracy                           0.67        45\n",
      "   macro avg       0.48      0.64      0.54        45\n",
      "weighted avg       0.51      0.67      0.56        45\n",
      "\n"
     ]
    },
    {
     "name": "stderr",
     "output_type": "stream",
     "text": [
      "C:\\Users\\MSI\\anaconda3\\envs\\Joya\\Lib\\site-packages\\sklearn\\metrics\\_classification.py:1565: UndefinedMetricWarning: Precision is ill-defined and being set to 0.0 in labels with no predicted samples. Use `zero_division` parameter to control this behavior.\n",
      "  _warn_prf(average, modifier, f\"{metric.capitalize()} is\", len(result))\n",
      "C:\\Users\\MSI\\anaconda3\\envs\\Joya\\Lib\\site-packages\\sklearn\\metrics\\_classification.py:1565: UndefinedMetricWarning: Precision is ill-defined and being set to 0.0 in labels with no predicted samples. Use `zero_division` parameter to control this behavior.\n",
      "  _warn_prf(average, modifier, f\"{metric.capitalize()} is\", len(result))\n",
      "C:\\Users\\MSI\\anaconda3\\envs\\Joya\\Lib\\site-packages\\sklearn\\metrics\\_classification.py:1565: UndefinedMetricWarning: Precision is ill-defined and being set to 0.0 in labels with no predicted samples. Use `zero_division` parameter to control this behavior.\n",
      "  _warn_prf(average, modifier, f\"{metric.capitalize()} is\", len(result))\n"
     ]
    }
   ],
   "source": [
    "y_pred=model.predict(X_test).flatten()\n",
    "y_pred=np.round(y_pred)\n",
    "y_pred[:11]\n",
    "y_test[:11]\n",
    "from sklearn.metrics import classification_report\n",
    "print(classification_report(y_test, y_pred))"
   ]
  },
  {
   "cell_type": "markdown",
   "id": "e39d829b",
   "metadata": {},
   "source": [
    "# Confusion Matrix"
   ]
  },
  {
   "cell_type": "code",
   "execution_count": 107,
   "id": "f16cc984",
   "metadata": {},
   "outputs": [
    {
     "data": {
      "image/png": "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",
      "text/plain": [
       "<Figure size 800x500 with 2 Axes>"
      ]
     },
     "metadata": {},
     "output_type": "display_data"
    }
   ],
   "source": [
    "from sklearn.metrics import confusion_matrix\n",
    "cm = confusion_matrix(y_test, y_pred_classes)\n",
    "conf_matrix = pd.DataFrame(data=cm, columns=['Predicted 0', 'Predicted 1', 'Predicted 2'], index=['Actual 0', 'Actual 1', 'Actual 2'])\n",
    "plt.figure(figsize=(8,5))\n",
    "sns.heatmap(conf_matrix, annot=True, fmt='d', cmap=\"YlGnBu\")\n",
    "plt.show()"
   ]
  },
  {
   "cell_type": "code",
   "execution_count": 108,
   "id": "0de7e166-b4ba-410f-915c-b5287a18e0b2",
   "metadata": {},
   "outputs": [],
   "source": [
    "from sklearn.ensemble import RandomForestClassifier, BaggingClassifier, VotingClassifier\n",
    "from sklearn.linear_model import LogisticRegression\n",
    "from sklearn.svm import SVC\n",
    "from sklearn.tree import DecisionTreeClassifier\n",
    "from sklearn.metrics import accuracy_score"
   ]
  },
  {
   "cell_type": "code",
   "execution_count": 109,
   "id": "2693610b-4d80-419c-8736-ff374736a201",
   "metadata": {},
   "outputs": [
    {
     "name": "stdout",
     "output_type": "stream",
     "text": [
      "Random Forest Accuracy: 0.9777777777777777\n"
     ]
    }
   ],
   "source": [
    "rf = RandomForestClassifier(n_estimators=100, random_state=42)\n",
    "rf.fit(X_train, y_train)\n",
    "rf_pred = rf.predict(X_test)\n",
    "print(\"Random Forest Accuracy:\", accuracy_score(y_test, rf_pred))"
   ]
  },
  {
   "cell_type": "code",
   "execution_count": 110,
   "id": "f53c951c-2b1d-412e-80f6-b100f4963619",
   "metadata": {},
   "outputs": [
    {
     "name": "stdout",
     "output_type": "stream",
     "text": [
      "Bagging Classifier Accuracy: 0.9777777777777777\n"
     ]
    }
   ],
   "source": [
    "bag = BaggingClassifier(estimator=DecisionTreeClassifier(), n_estimators=10, random_state=42)\n",
    "bag.fit(X_train, y_train)\n",
    "bag_pred = bag.predict(X_test)\n",
    "print(\"Bagging Classifier Accuracy:\", accuracy_score(y_test, bag_pred))"
   ]
  },
  {
   "cell_type": "code",
   "execution_count": 111,
   "id": "b163deb2-4cb2-4215-bded-30a565bfbf9c",
   "metadata": {},
   "outputs": [
    {
     "name": "stdout",
     "output_type": "stream",
     "text": [
      "Voting Classifier Accuracy: 0.9777777777777777\n"
     ]
    }
   ],
   "source": [
    "log_clf = LogisticRegression(max_iter=200)\n",
    "svm_clf = SVC(probability=True)\n",
    "tree_clf = DecisionTreeClassifier()\n",
    "voting = VotingClassifier(estimators=[\n",
    "    ('lr', log_clf),\n",
    "    ('svc', svm_clf),\n",
    "    ('dt', tree_clf)\n",
    "], voting='hard')\n",
    "voting.fit(X_train, y_train)\n",
    "voting_pred = voting.predict(X_test)\n",
    "print(\"Voting Classifier Accuracy:\", accuracy_score(y_test, voting_pred))"
   ]
  },
  {
   "cell_type": "code",
   "execution_count": 112,
   "id": "3e02d2b2-dadf-4c53-80db-19c9b7dbe8d7",
   "metadata": {},
   "outputs": [
    {
     "name": "stdout",
     "output_type": "stream",
     "text": [
      "Best parameters: {'C': 1, 'kernel': 'linear'}\n",
      "Optimized SVM Accuracy: 0.9333333333333333\n"
     ]
    }
   ],
   "source": [
    "from sklearn.model_selection import GridSearchCV\n",
    "param_grid = {\n",
    "    'C': [0.1, 1, 10],\n",
    "    'kernel': ['linear', 'rbf']\n",
    "}\n",
    "grid = GridSearchCV(SVC(), param_grid, cv=3)\n",
    "grid.fit(X_train, y_train)\n",
    "print(\"Best parameters:\", grid.best_params_)\n",
    "print(\"Optimized SVM Accuracy:\", grid.score(X_test, y_test))"
   ]
  },
  {
   "cell_type": "code",
   "execution_count": 113,
   "id": "9a0f90a7-3a5e-457a-8673-1fb8999e390e",
   "metadata": {},
   "outputs": [],
   "source": [
    "import numpy as np\n",
    "if not hasattr(np, 'bool8'):\n",
    "    np.bool8 = np.bool_"
   ]
  },
  {
   "cell_type": "code",
   "execution_count": 139,
   "id": "4d3a7c85-eccc-4cc9-9421-e6bd372f759a",
   "metadata": {},
   "outputs": [],
   "source": [
    "import gym\n",
    "import numpy as np\n",
    "import matplotlib.pyplot as plt"
   ]
  },
  {
   "cell_type": "code",
   "execution_count": 135,
   "id": "98d21d63-9355-4e2a-8d29-c00496ac51fd",
   "metadata": {},
   "outputs": [
    {
     "name": "stdout",
     "output_type": "stream",
     "text": [
      " Successes during training: 8726\n"
     ]
    }
   ],
   "source": [
    "env = gym.make('FrozenLake-v1', is_slippery=False)\n",
    "n_states = env.observation_space.n\n",
    "n_actions = env.action_space.n\n",
    "Q = np.zeros((n_states, n_actions))\n",
    "alpha = 0.8      \n",
    "gamma = 0.95      \n",
    "epsilon = 1.0\n",
    "min_epsilon = 0.01\n",
    "decay_rate = 0.001\n",
    "\n",
    "episodes = 10000\n",
    "max_steps = 100\n",
    "successes = 0\n",
    "rewards = []\n",
    "for episode in range(episodes):\n",
    "    state, _ = env.reset()\n",
    "    episode_reward = 0\n",
    "    for step in range(max_steps):\n",
    "        if np.random.uniform(0, 1) < epsilon:\n",
    "            action = env.action_space.sample()\n",
    "        else:\n",
    "            action = np.argmax(Q[state, :])\n",
    "\n",
    "        next_state, reward, done, truncated, _ = env.step(action)\n",
    "        done = done or truncated\n",
    "\n",
    "        Q[state, action] += alpha * (\n",
    "            reward + gamma * np.max(Q[next_state, :]) - Q[state, action]\n",
    "        )\n",
    "\n",
    "        state = next_state\n",
    "        episode_reward += reward\n",
    "\n",
    "        if done:\n",
    "            break\n",
    "    if episode_reward > 0:\n",
    "        successes += 1\n",
    "        rewards.append(1)\n",
    "    else:\n",
    "        rewards.append(0)\n",
    "    epsilon = min_epsilon + (1.0 - min_epsilon) * np.exp(-decay_rate * episode)\n",
    "\n",
    "print(f\" Successes during training: {successes}\")"
   ]
  },
  {
   "cell_type": "code",
   "execution_count": 136,
   "id": "6a5740e9-e849-4b77-b2fb-6a992594c779",
   "metadata": {},
   "outputs": [
    {
     "data": {
      "image/png": "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",
      "text/plain": [
       "<Figure size 640x480 with 1 Axes>"
      ]
     },
     "metadata": {},
     "output_type": "display_data"
    }
   ],
   "source": [
    "window = 100\n",
    "moving_avg = np.convolve(rewards, np.ones(window)/window, mode='valid')\n",
    "plt.plot(moving_avg)\n",
    "plt.title(\"Moving Average of Successes\")\n",
    "plt.xlabel(\"Episode\")\n",
    "plt.ylabel(\"Success Rate\")\n",
    "plt.grid(True)\n",
    "plt.show()"
   ]
  },
  {
   "cell_type": "code",
   "execution_count": 122,
   "id": "7a13566e-c901-427a-86ca-a5acf8cfb5f1",
   "metadata": {},
   "outputs": [
    {
     "name": "stdout",
     "output_type": "stream",
     "text": [
      "['↓', '→', '↓', '←']\n",
      "['↓', '←', '↓', '←']\n",
      "['→', '↓', '↓', '←']\n",
      "['←', '→', '→', '←']\n"
     ]
    }
   ],
   "source": [
    "actions = [\"←\", \"↓\", \"→\", \"↑\"]  \n",
    "policy = [actions[np.argmax(Q[s])] for s in range(n_states)]\n",
    "for i in range(0, n_states, int(np.sqrt(n_states))):\n",
    "    print(policy[i:i+int(np.sqrt(n_states))])"
   ]
  },
  {
   "cell_type": "code",
   "execution_count": 137,
   "id": "c9c703e1-ad7e-45a6-b651-91b037161cf3",
   "metadata": {},
   "outputs": [
    {
     "data": {
      "image/png": "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",
      "text/plain": [
       "<Figure size 640x480 with 1 Axes>"
      ]
     },
     "metadata": {},
     "output_type": "display_data"
    }
   ],
   "source": [
    "window = 500\n",
    "moving_avg = np.convolve(rewards, np.ones(window)/window, mode='valid')\n",
    "\n",
    "plt.plot(moving_avg)\n",
    "plt.title(f\"Moving Average of Successes (Window={window})\")\n",
    "plt.xlabel(\"Episode\")\n",
    "plt.ylabel(\"Success Rate\")\n",
    "plt.show()"
   ]
  },
  {
   "cell_type": "markdown",
   "id": "cbacc5a4",
   "metadata": {},
   "source": [
    "The End:"
   ]
  }
 ],
 "metadata": {
  "kernelspec": {
   "display_name": "Python 3 (ipykernel)",
   "language": "python",
   "name": "python3"
  },
  "language_info": {
   "codemirror_mode": {
    "name": "ipython",
    "version": 3
   },
   "file_extension": ".py",
   "mimetype": "text/x-python",
   "name": "python",
   "nbconvert_exporter": "python",
   "pygments_lexer": "ipython3",
   "version": "3.12.7"
  }
 },
 "nbformat": 4,
 "nbformat_minor": 5
}
